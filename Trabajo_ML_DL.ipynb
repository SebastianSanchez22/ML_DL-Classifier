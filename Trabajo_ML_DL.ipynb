{
  "nbformat": 4,
  "nbformat_minor": 0,
  "metadata": {
    "colab": {
      "provenance": [],
      "toc_visible": true,
      "collapsed_sections": [],
      "include_colab_link": true
    },
    "kernelspec": {
      "name": "python3",
      "display_name": "Python 3"
    },
    "language_info": {
      "name": "python"
    }
  },
  "cells": [
    {
      "cell_type": "markdown",
      "metadata": {
        "id": "view-in-github",
        "colab_type": "text"
      },
      "source": [
        "<a href=\"https://colab.research.google.com/github/SebastianSanchez22/ML_DL-Classifier/blob/main/Trabajo_ML_DL.ipynb\" target=\"_parent\"><img src=\"https://colab.research.google.com/assets/colab-badge.svg\" alt=\"Open In Colab\"/></a>"
      ]
    },
    {
      "cell_type": "markdown",
      "source": [
        "# Trabajo Práctico 3\n"
      ],
      "metadata": {
        "id": "w4XYzTiGTnP4"
      }
    },
    {
      "cell_type": "markdown",
      "source": [
        "## Importando el dataset"
      ],
      "metadata": {
        "id": "QjkaZ5JSTYwK"
      }
    },
    {
      "cell_type": "code",
      "execution_count": 3,
      "metadata": {
        "colab": {
          "base_uri": "https://localhost:8080/"
        },
        "id": "Vv7iRVJTRs96",
        "outputId": "2dd87dd6-0838-44f2-ffbb-e9cd64302252"
      },
      "outputs": [
        {
          "output_type": "stream",
          "name": "stdout",
          "text": [
            "Mounted at /content/drive/\n"
          ]
        }
      ],
      "source": [
        "from google.colab import drive\n",
        "drive.mount('/content/drive/')"
      ]
    },
    {
      "cell_type": "code",
      "source": [
        "import numpy as np\n",
        "import pandas as pd\n",
        "import matplotlib.pyplot as plt\n",
        "import seaborn as sns"
      ],
      "metadata": {
        "id": "JWM2OO4CSXre"
      },
      "execution_count": 4,
      "outputs": []
    },
    {
      "cell_type": "code",
      "source": [
        "data = pd.read_csv('/content/drive/MyDrive/Datasets/smoke_detection_iot.csv')"
      ],
      "metadata": {
        "id": "Ys-ZACNsSinJ"
      },
      "execution_count": 5,
      "outputs": []
    },
    {
      "cell_type": "code",
      "source": [
        "data.keys()"
      ],
      "metadata": {
        "colab": {
          "base_uri": "https://localhost:8080/"
        },
        "id": "6NhNExD0W23G",
        "outputId": "ac7866f8-4ba5-40e5-9a97-329612ef0f5e"
      },
      "execution_count": 6,
      "outputs": [
        {
          "output_type": "execute_result",
          "data": {
            "text/plain": [
              "Index(['Unnamed: 0', 'UTC', 'Temperature[C]', 'Humidity[%]', 'TVOC[ppb]',\n",
              "       'eCO2[ppm]', 'Raw H2', 'Raw Ethanol', 'Pressure[hPa]', 'PM1.0', 'PM2.5',\n",
              "       'NC0.5', 'NC1.0', 'NC2.5', 'CNT', 'Fire Alarm'],\n",
              "      dtype='object')"
            ]
          },
          "metadata": {},
          "execution_count": 6
        }
      ]
    },
    {
      "cell_type": "code",
      "source": [
        "data.shape"
      ],
      "metadata": {
        "colab": {
          "base_uri": "https://localhost:8080/"
        },
        "id": "brbXe6c1TP1g",
        "outputId": "6f822ba8-894b-43de-8066-0b38ce20f928"
      },
      "execution_count": 7,
      "outputs": [
        {
          "output_type": "execute_result",
          "data": {
            "text/plain": [
              "(62630, 16)"
            ]
          },
          "metadata": {},
          "execution_count": 7
        }
      ]
    },
    {
      "cell_type": "code",
      "source": [
        "data"
      ],
      "metadata": {
        "colab": {
          "base_uri": "https://localhost:8080/",
          "height": 505
        },
        "id": "HpZeFiZgvq-f",
        "outputId": "92146da4-d096-4a1e-a2e8-94f9c891c0b3"
      },
      "execution_count": 8,
      "outputs": [
        {
          "output_type": "execute_result",
          "data": {
            "text/plain": [
              "       Unnamed: 0         UTC  Temperature[C]  Humidity[%]  TVOC[ppb]  \\\n",
              "0               0  1654733331          20.000        57.36          0   \n",
              "1               1  1654733332          20.015        56.67          0   \n",
              "2               2  1654733333          20.029        55.96          0   \n",
              "3               3  1654733334          20.044        55.28          0   \n",
              "4               4  1654733335          20.059        54.69          0   \n",
              "...           ...         ...             ...          ...        ...   \n",
              "62625       62625  1655130047          18.438        15.79        625   \n",
              "62626       62626  1655130048          18.653        15.87        612   \n",
              "62627       62627  1655130049          18.867        15.84        627   \n",
              "62628       62628  1655130050          19.083        16.04        638   \n",
              "62629       62629  1655130051          19.299        16.52        643   \n",
              "\n",
              "       eCO2[ppm]  Raw H2  Raw Ethanol  Pressure[hPa]  PM1.0  PM2.5  NC0.5  \\\n",
              "0            400   12306        18520        939.735   0.00   0.00   0.00   \n",
              "1            400   12345        18651        939.744   0.00   0.00   0.00   \n",
              "2            400   12374        18764        939.738   0.00   0.00   0.00   \n",
              "3            400   12390        18849        939.736   0.00   0.00   0.00   \n",
              "4            400   12403        18921        939.744   0.00   0.00   0.00   \n",
              "...          ...     ...          ...            ...    ...    ...    ...   \n",
              "62625        400   13723        20569        936.670   0.63   0.65   4.32   \n",
              "62626        400   13731        20588        936.678   0.61   0.63   4.18   \n",
              "62627        400   13725        20582        936.687   0.57   0.60   3.95   \n",
              "62628        400   13712        20566        936.680   0.57   0.59   3.92   \n",
              "62629        400   13696        20543        936.676   0.57   0.59   3.90   \n",
              "\n",
              "       NC1.0  NC2.5   CNT  Fire Alarm  \n",
              "0      0.000  0.000     0           0  \n",
              "1      0.000  0.000     1           0  \n",
              "2      0.000  0.000     2           0  \n",
              "3      0.000  0.000     3           0  \n",
              "4      0.000  0.000     4           0  \n",
              "...      ...    ...   ...         ...  \n",
              "62625  0.673  0.015  5739           0  \n",
              "62626  0.652  0.015  5740           0  \n",
              "62627  0.617  0.014  5741           0  \n",
              "62628  0.611  0.014  5742           0  \n",
              "62629  0.607  0.014  5743           0  \n",
              "\n",
              "[62630 rows x 16 columns]"
            ],
            "text/html": [
              "\n",
              "  <div id=\"df-b450cdf0-307d-4da7-a706-d7ff8e47f269\">\n",
              "    <div class=\"colab-df-container\">\n",
              "      <div>\n",
              "<style scoped>\n",
              "    .dataframe tbody tr th:only-of-type {\n",
              "        vertical-align: middle;\n",
              "    }\n",
              "\n",
              "    .dataframe tbody tr th {\n",
              "        vertical-align: top;\n",
              "    }\n",
              "\n",
              "    .dataframe thead th {\n",
              "        text-align: right;\n",
              "    }\n",
              "</style>\n",
              "<table border=\"1\" class=\"dataframe\">\n",
              "  <thead>\n",
              "    <tr style=\"text-align: right;\">\n",
              "      <th></th>\n",
              "      <th>Unnamed: 0</th>\n",
              "      <th>UTC</th>\n",
              "      <th>Temperature[C]</th>\n",
              "      <th>Humidity[%]</th>\n",
              "      <th>TVOC[ppb]</th>\n",
              "      <th>eCO2[ppm]</th>\n",
              "      <th>Raw H2</th>\n",
              "      <th>Raw Ethanol</th>\n",
              "      <th>Pressure[hPa]</th>\n",
              "      <th>PM1.0</th>\n",
              "      <th>PM2.5</th>\n",
              "      <th>NC0.5</th>\n",
              "      <th>NC1.0</th>\n",
              "      <th>NC2.5</th>\n",
              "      <th>CNT</th>\n",
              "      <th>Fire Alarm</th>\n",
              "    </tr>\n",
              "  </thead>\n",
              "  <tbody>\n",
              "    <tr>\n",
              "      <th>0</th>\n",
              "      <td>0</td>\n",
              "      <td>1654733331</td>\n",
              "      <td>20.000</td>\n",
              "      <td>57.36</td>\n",
              "      <td>0</td>\n",
              "      <td>400</td>\n",
              "      <td>12306</td>\n",
              "      <td>18520</td>\n",
              "      <td>939.735</td>\n",
              "      <td>0.00</td>\n",
              "      <td>0.00</td>\n",
              "      <td>0.00</td>\n",
              "      <td>0.000</td>\n",
              "      <td>0.000</td>\n",
              "      <td>0</td>\n",
              "      <td>0</td>\n",
              "    </tr>\n",
              "    <tr>\n",
              "      <th>1</th>\n",
              "      <td>1</td>\n",
              "      <td>1654733332</td>\n",
              "      <td>20.015</td>\n",
              "      <td>56.67</td>\n",
              "      <td>0</td>\n",
              "      <td>400</td>\n",
              "      <td>12345</td>\n",
              "      <td>18651</td>\n",
              "      <td>939.744</td>\n",
              "      <td>0.00</td>\n",
              "      <td>0.00</td>\n",
              "      <td>0.00</td>\n",
              "      <td>0.000</td>\n",
              "      <td>0.000</td>\n",
              "      <td>1</td>\n",
              "      <td>0</td>\n",
              "    </tr>\n",
              "    <tr>\n",
              "      <th>2</th>\n",
              "      <td>2</td>\n",
              "      <td>1654733333</td>\n",
              "      <td>20.029</td>\n",
              "      <td>55.96</td>\n",
              "      <td>0</td>\n",
              "      <td>400</td>\n",
              "      <td>12374</td>\n",
              "      <td>18764</td>\n",
              "      <td>939.738</td>\n",
              "      <td>0.00</td>\n",
              "      <td>0.00</td>\n",
              "      <td>0.00</td>\n",
              "      <td>0.000</td>\n",
              "      <td>0.000</td>\n",
              "      <td>2</td>\n",
              "      <td>0</td>\n",
              "    </tr>\n",
              "    <tr>\n",
              "      <th>3</th>\n",
              "      <td>3</td>\n",
              "      <td>1654733334</td>\n",
              "      <td>20.044</td>\n",
              "      <td>55.28</td>\n",
              "      <td>0</td>\n",
              "      <td>400</td>\n",
              "      <td>12390</td>\n",
              "      <td>18849</td>\n",
              "      <td>939.736</td>\n",
              "      <td>0.00</td>\n",
              "      <td>0.00</td>\n",
              "      <td>0.00</td>\n",
              "      <td>0.000</td>\n",
              "      <td>0.000</td>\n",
              "      <td>3</td>\n",
              "      <td>0</td>\n",
              "    </tr>\n",
              "    <tr>\n",
              "      <th>4</th>\n",
              "      <td>4</td>\n",
              "      <td>1654733335</td>\n",
              "      <td>20.059</td>\n",
              "      <td>54.69</td>\n",
              "      <td>0</td>\n",
              "      <td>400</td>\n",
              "      <td>12403</td>\n",
              "      <td>18921</td>\n",
              "      <td>939.744</td>\n",
              "      <td>0.00</td>\n",
              "      <td>0.00</td>\n",
              "      <td>0.00</td>\n",
              "      <td>0.000</td>\n",
              "      <td>0.000</td>\n",
              "      <td>4</td>\n",
              "      <td>0</td>\n",
              "    </tr>\n",
              "    <tr>\n",
              "      <th>...</th>\n",
              "      <td>...</td>\n",
              "      <td>...</td>\n",
              "      <td>...</td>\n",
              "      <td>...</td>\n",
              "      <td>...</td>\n",
              "      <td>...</td>\n",
              "      <td>...</td>\n",
              "      <td>...</td>\n",
              "      <td>...</td>\n",
              "      <td>...</td>\n",
              "      <td>...</td>\n",
              "      <td>...</td>\n",
              "      <td>...</td>\n",
              "      <td>...</td>\n",
              "      <td>...</td>\n",
              "      <td>...</td>\n",
              "    </tr>\n",
              "    <tr>\n",
              "      <th>62625</th>\n",
              "      <td>62625</td>\n",
              "      <td>1655130047</td>\n",
              "      <td>18.438</td>\n",
              "      <td>15.79</td>\n",
              "      <td>625</td>\n",
              "      <td>400</td>\n",
              "      <td>13723</td>\n",
              "      <td>20569</td>\n",
              "      <td>936.670</td>\n",
              "      <td>0.63</td>\n",
              "      <td>0.65</td>\n",
              "      <td>4.32</td>\n",
              "      <td>0.673</td>\n",
              "      <td>0.015</td>\n",
              "      <td>5739</td>\n",
              "      <td>0</td>\n",
              "    </tr>\n",
              "    <tr>\n",
              "      <th>62626</th>\n",
              "      <td>62626</td>\n",
              "      <td>1655130048</td>\n",
              "      <td>18.653</td>\n",
              "      <td>15.87</td>\n",
              "      <td>612</td>\n",
              "      <td>400</td>\n",
              "      <td>13731</td>\n",
              "      <td>20588</td>\n",
              "      <td>936.678</td>\n",
              "      <td>0.61</td>\n",
              "      <td>0.63</td>\n",
              "      <td>4.18</td>\n",
              "      <td>0.652</td>\n",
              "      <td>0.015</td>\n",
              "      <td>5740</td>\n",
              "      <td>0</td>\n",
              "    </tr>\n",
              "    <tr>\n",
              "      <th>62627</th>\n",
              "      <td>62627</td>\n",
              "      <td>1655130049</td>\n",
              "      <td>18.867</td>\n",
              "      <td>15.84</td>\n",
              "      <td>627</td>\n",
              "      <td>400</td>\n",
              "      <td>13725</td>\n",
              "      <td>20582</td>\n",
              "      <td>936.687</td>\n",
              "      <td>0.57</td>\n",
              "      <td>0.60</td>\n",
              "      <td>3.95</td>\n",
              "      <td>0.617</td>\n",
              "      <td>0.014</td>\n",
              "      <td>5741</td>\n",
              "      <td>0</td>\n",
              "    </tr>\n",
              "    <tr>\n",
              "      <th>62628</th>\n",
              "      <td>62628</td>\n",
              "      <td>1655130050</td>\n",
              "      <td>19.083</td>\n",
              "      <td>16.04</td>\n",
              "      <td>638</td>\n",
              "      <td>400</td>\n",
              "      <td>13712</td>\n",
              "      <td>20566</td>\n",
              "      <td>936.680</td>\n",
              "      <td>0.57</td>\n",
              "      <td>0.59</td>\n",
              "      <td>3.92</td>\n",
              "      <td>0.611</td>\n",
              "      <td>0.014</td>\n",
              "      <td>5742</td>\n",
              "      <td>0</td>\n",
              "    </tr>\n",
              "    <tr>\n",
              "      <th>62629</th>\n",
              "      <td>62629</td>\n",
              "      <td>1655130051</td>\n",
              "      <td>19.299</td>\n",
              "      <td>16.52</td>\n",
              "      <td>643</td>\n",
              "      <td>400</td>\n",
              "      <td>13696</td>\n",
              "      <td>20543</td>\n",
              "      <td>936.676</td>\n",
              "      <td>0.57</td>\n",
              "      <td>0.59</td>\n",
              "      <td>3.90</td>\n",
              "      <td>0.607</td>\n",
              "      <td>0.014</td>\n",
              "      <td>5743</td>\n",
              "      <td>0</td>\n",
              "    </tr>\n",
              "  </tbody>\n",
              "</table>\n",
              "<p>62630 rows × 16 columns</p>\n",
              "</div>\n",
              "      <button class=\"colab-df-convert\" onclick=\"convertToInteractive('df-b450cdf0-307d-4da7-a706-d7ff8e47f269')\"\n",
              "              title=\"Convert this dataframe to an interactive table.\"\n",
              "              style=\"display:none;\">\n",
              "        \n",
              "  <svg xmlns=\"http://www.w3.org/2000/svg\" height=\"24px\"viewBox=\"0 0 24 24\"\n",
              "       width=\"24px\">\n",
              "    <path d=\"M0 0h24v24H0V0z\" fill=\"none\"/>\n",
              "    <path d=\"M18.56 5.44l.94 2.06.94-2.06 2.06-.94-2.06-.94-.94-2.06-.94 2.06-2.06.94zm-11 1L8.5 8.5l.94-2.06 2.06-.94-2.06-.94L8.5 2.5l-.94 2.06-2.06.94zm10 10l.94 2.06.94-2.06 2.06-.94-2.06-.94-.94-2.06-.94 2.06-2.06.94z\"/><path d=\"M17.41 7.96l-1.37-1.37c-.4-.4-.92-.59-1.43-.59-.52 0-1.04.2-1.43.59L10.3 9.45l-7.72 7.72c-.78.78-.78 2.05 0 2.83L4 21.41c.39.39.9.59 1.41.59.51 0 1.02-.2 1.41-.59l7.78-7.78 2.81-2.81c.8-.78.8-2.07 0-2.86zM5.41 20L4 18.59l7.72-7.72 1.47 1.35L5.41 20z\"/>\n",
              "  </svg>\n",
              "      </button>\n",
              "      \n",
              "  <style>\n",
              "    .colab-df-container {\n",
              "      display:flex;\n",
              "      flex-wrap:wrap;\n",
              "      gap: 12px;\n",
              "    }\n",
              "\n",
              "    .colab-df-convert {\n",
              "      background-color: #E8F0FE;\n",
              "      border: none;\n",
              "      border-radius: 50%;\n",
              "      cursor: pointer;\n",
              "      display: none;\n",
              "      fill: #1967D2;\n",
              "      height: 32px;\n",
              "      padding: 0 0 0 0;\n",
              "      width: 32px;\n",
              "    }\n",
              "\n",
              "    .colab-df-convert:hover {\n",
              "      background-color: #E2EBFA;\n",
              "      box-shadow: 0px 1px 2px rgba(60, 64, 67, 0.3), 0px 1px 3px 1px rgba(60, 64, 67, 0.15);\n",
              "      fill: #174EA6;\n",
              "    }\n",
              "\n",
              "    [theme=dark] .colab-df-convert {\n",
              "      background-color: #3B4455;\n",
              "      fill: #D2E3FC;\n",
              "    }\n",
              "\n",
              "    [theme=dark] .colab-df-convert:hover {\n",
              "      background-color: #434B5C;\n",
              "      box-shadow: 0px 1px 3px 1px rgba(0, 0, 0, 0.15);\n",
              "      filter: drop-shadow(0px 1px 2px rgba(0, 0, 0, 0.3));\n",
              "      fill: #FFFFFF;\n",
              "    }\n",
              "  </style>\n",
              "\n",
              "      <script>\n",
              "        const buttonEl =\n",
              "          document.querySelector('#df-b450cdf0-307d-4da7-a706-d7ff8e47f269 button.colab-df-convert');\n",
              "        buttonEl.style.display =\n",
              "          google.colab.kernel.accessAllowed ? 'block' : 'none';\n",
              "\n",
              "        async function convertToInteractive(key) {\n",
              "          const element = document.querySelector('#df-b450cdf0-307d-4da7-a706-d7ff8e47f269');\n",
              "          const dataTable =\n",
              "            await google.colab.kernel.invokeFunction('convertToInteractive',\n",
              "                                                     [key], {});\n",
              "          if (!dataTable) return;\n",
              "\n",
              "          const docLinkHtml = 'Like what you see? Visit the ' +\n",
              "            '<a target=\"_blank\" href=https://colab.research.google.com/notebooks/data_table.ipynb>data table notebook</a>'\n",
              "            + ' to learn more about interactive tables.';\n",
              "          element.innerHTML = '';\n",
              "          dataTable['output_type'] = 'display_data';\n",
              "          await google.colab.output.renderOutput(dataTable, element);\n",
              "          const docLink = document.createElement('div');\n",
              "          docLink.innerHTML = docLinkHtml;\n",
              "          element.appendChild(docLink);\n",
              "        }\n",
              "      </script>\n",
              "    </div>\n",
              "  </div>\n",
              "  "
            ]
          },
          "metadata": {},
          "execution_count": 8
        }
      ]
    },
    {
      "cell_type": "markdown",
      "source": [
        "## Limpieza de datos"
      ],
      "metadata": {
        "id": "AEZR5SWpTVx_"
      }
    },
    {
      "cell_type": "markdown",
      "source": [
        "Chequeando si existen datos nulos:"
      ],
      "metadata": {
        "id": "q4C0tv7FWgWm"
      }
    },
    {
      "cell_type": "code",
      "source": [
        "data.isnull().sum()"
      ],
      "metadata": {
        "colab": {
          "base_uri": "https://localhost:8080/"
        },
        "id": "5QdGl_3oTNwo",
        "outputId": "9361f4af-9208-494b-9c6a-11f252a05f7b"
      },
      "execution_count": 9,
      "outputs": [
        {
          "output_type": "execute_result",
          "data": {
            "text/plain": [
              "Unnamed: 0        0\n",
              "UTC               0\n",
              "Temperature[C]    0\n",
              "Humidity[%]       0\n",
              "TVOC[ppb]         0\n",
              "eCO2[ppm]         0\n",
              "Raw H2            0\n",
              "Raw Ethanol       0\n",
              "Pressure[hPa]     0\n",
              "PM1.0             0\n",
              "PM2.5             0\n",
              "NC0.5             0\n",
              "NC1.0             0\n",
              "NC2.5             0\n",
              "CNT               0\n",
              "Fire Alarm        0\n",
              "dtype: int64"
            ]
          },
          "metadata": {},
          "execution_count": 9
        }
      ]
    },
    {
      "cell_type": "markdown",
      "source": [
        "Las columnas \"Unnamed: 0\", \"UTC\", \"CNT\" deben ser eliminadas ya que no proveen información útil para el trabajo."
      ],
      "metadata": {
        "id": "RVgxnD8bWThe"
      }
    },
    {
      "cell_type": "code",
      "source": [
        "unuseful_features = ['Unnamed: 0', 'UTC','CNT']\n",
        "for feature in unuseful_features:\n",
        "  data = data.drop(feature, axis=1)\n",
        "\n",
        "data.head()"
      ],
      "metadata": {
        "colab": {
          "base_uri": "https://localhost:8080/",
          "height": 287
        },
        "id": "bbLQYkdGVSq-",
        "outputId": "97ecfc8b-79c5-4523-ba0d-779d8598c1c9"
      },
      "execution_count": 10,
      "outputs": [
        {
          "output_type": "execute_result",
          "data": {
            "text/plain": [
              "   Temperature[C]  Humidity[%]  TVOC[ppb]  eCO2[ppm]  Raw H2  Raw Ethanol  \\\n",
              "0          20.000        57.36          0        400   12306        18520   \n",
              "1          20.015        56.67          0        400   12345        18651   \n",
              "2          20.029        55.96          0        400   12374        18764   \n",
              "3          20.044        55.28          0        400   12390        18849   \n",
              "4          20.059        54.69          0        400   12403        18921   \n",
              "\n",
              "   Pressure[hPa]  PM1.0  PM2.5  NC0.5  NC1.0  NC2.5  Fire Alarm  \n",
              "0        939.735    0.0    0.0    0.0    0.0    0.0           0  \n",
              "1        939.744    0.0    0.0    0.0    0.0    0.0           0  \n",
              "2        939.738    0.0    0.0    0.0    0.0    0.0           0  \n",
              "3        939.736    0.0    0.0    0.0    0.0    0.0           0  \n",
              "4        939.744    0.0    0.0    0.0    0.0    0.0           0  "
            ],
            "text/html": [
              "\n",
              "  <div id=\"df-c724f225-87d4-4cb5-8843-ae4da18ae0fb\">\n",
              "    <div class=\"colab-df-container\">\n",
              "      <div>\n",
              "<style scoped>\n",
              "    .dataframe tbody tr th:only-of-type {\n",
              "        vertical-align: middle;\n",
              "    }\n",
              "\n",
              "    .dataframe tbody tr th {\n",
              "        vertical-align: top;\n",
              "    }\n",
              "\n",
              "    .dataframe thead th {\n",
              "        text-align: right;\n",
              "    }\n",
              "</style>\n",
              "<table border=\"1\" class=\"dataframe\">\n",
              "  <thead>\n",
              "    <tr style=\"text-align: right;\">\n",
              "      <th></th>\n",
              "      <th>Temperature[C]</th>\n",
              "      <th>Humidity[%]</th>\n",
              "      <th>TVOC[ppb]</th>\n",
              "      <th>eCO2[ppm]</th>\n",
              "      <th>Raw H2</th>\n",
              "      <th>Raw Ethanol</th>\n",
              "      <th>Pressure[hPa]</th>\n",
              "      <th>PM1.0</th>\n",
              "      <th>PM2.5</th>\n",
              "      <th>NC0.5</th>\n",
              "      <th>NC1.0</th>\n",
              "      <th>NC2.5</th>\n",
              "      <th>Fire Alarm</th>\n",
              "    </tr>\n",
              "  </thead>\n",
              "  <tbody>\n",
              "    <tr>\n",
              "      <th>0</th>\n",
              "      <td>20.000</td>\n",
              "      <td>57.36</td>\n",
              "      <td>0</td>\n",
              "      <td>400</td>\n",
              "      <td>12306</td>\n",
              "      <td>18520</td>\n",
              "      <td>939.735</td>\n",
              "      <td>0.0</td>\n",
              "      <td>0.0</td>\n",
              "      <td>0.0</td>\n",
              "      <td>0.0</td>\n",
              "      <td>0.0</td>\n",
              "      <td>0</td>\n",
              "    </tr>\n",
              "    <tr>\n",
              "      <th>1</th>\n",
              "      <td>20.015</td>\n",
              "      <td>56.67</td>\n",
              "      <td>0</td>\n",
              "      <td>400</td>\n",
              "      <td>12345</td>\n",
              "      <td>18651</td>\n",
              "      <td>939.744</td>\n",
              "      <td>0.0</td>\n",
              "      <td>0.0</td>\n",
              "      <td>0.0</td>\n",
              "      <td>0.0</td>\n",
              "      <td>0.0</td>\n",
              "      <td>0</td>\n",
              "    </tr>\n",
              "    <tr>\n",
              "      <th>2</th>\n",
              "      <td>20.029</td>\n",
              "      <td>55.96</td>\n",
              "      <td>0</td>\n",
              "      <td>400</td>\n",
              "      <td>12374</td>\n",
              "      <td>18764</td>\n",
              "      <td>939.738</td>\n",
              "      <td>0.0</td>\n",
              "      <td>0.0</td>\n",
              "      <td>0.0</td>\n",
              "      <td>0.0</td>\n",
              "      <td>0.0</td>\n",
              "      <td>0</td>\n",
              "    </tr>\n",
              "    <tr>\n",
              "      <th>3</th>\n",
              "      <td>20.044</td>\n",
              "      <td>55.28</td>\n",
              "      <td>0</td>\n",
              "      <td>400</td>\n",
              "      <td>12390</td>\n",
              "      <td>18849</td>\n",
              "      <td>939.736</td>\n",
              "      <td>0.0</td>\n",
              "      <td>0.0</td>\n",
              "      <td>0.0</td>\n",
              "      <td>0.0</td>\n",
              "      <td>0.0</td>\n",
              "      <td>0</td>\n",
              "    </tr>\n",
              "    <tr>\n",
              "      <th>4</th>\n",
              "      <td>20.059</td>\n",
              "      <td>54.69</td>\n",
              "      <td>0</td>\n",
              "      <td>400</td>\n",
              "      <td>12403</td>\n",
              "      <td>18921</td>\n",
              "      <td>939.744</td>\n",
              "      <td>0.0</td>\n",
              "      <td>0.0</td>\n",
              "      <td>0.0</td>\n",
              "      <td>0.0</td>\n",
              "      <td>0.0</td>\n",
              "      <td>0</td>\n",
              "    </tr>\n",
              "  </tbody>\n",
              "</table>\n",
              "</div>\n",
              "      <button class=\"colab-df-convert\" onclick=\"convertToInteractive('df-c724f225-87d4-4cb5-8843-ae4da18ae0fb')\"\n",
              "              title=\"Convert this dataframe to an interactive table.\"\n",
              "              style=\"display:none;\">\n",
              "        \n",
              "  <svg xmlns=\"http://www.w3.org/2000/svg\" height=\"24px\"viewBox=\"0 0 24 24\"\n",
              "       width=\"24px\">\n",
              "    <path d=\"M0 0h24v24H0V0z\" fill=\"none\"/>\n",
              "    <path d=\"M18.56 5.44l.94 2.06.94-2.06 2.06-.94-2.06-.94-.94-2.06-.94 2.06-2.06.94zm-11 1L8.5 8.5l.94-2.06 2.06-.94-2.06-.94L8.5 2.5l-.94 2.06-2.06.94zm10 10l.94 2.06.94-2.06 2.06-.94-2.06-.94-.94-2.06-.94 2.06-2.06.94z\"/><path d=\"M17.41 7.96l-1.37-1.37c-.4-.4-.92-.59-1.43-.59-.52 0-1.04.2-1.43.59L10.3 9.45l-7.72 7.72c-.78.78-.78 2.05 0 2.83L4 21.41c.39.39.9.59 1.41.59.51 0 1.02-.2 1.41-.59l7.78-7.78 2.81-2.81c.8-.78.8-2.07 0-2.86zM5.41 20L4 18.59l7.72-7.72 1.47 1.35L5.41 20z\"/>\n",
              "  </svg>\n",
              "      </button>\n",
              "      \n",
              "  <style>\n",
              "    .colab-df-container {\n",
              "      display:flex;\n",
              "      flex-wrap:wrap;\n",
              "      gap: 12px;\n",
              "    }\n",
              "\n",
              "    .colab-df-convert {\n",
              "      background-color: #E8F0FE;\n",
              "      border: none;\n",
              "      border-radius: 50%;\n",
              "      cursor: pointer;\n",
              "      display: none;\n",
              "      fill: #1967D2;\n",
              "      height: 32px;\n",
              "      padding: 0 0 0 0;\n",
              "      width: 32px;\n",
              "    }\n",
              "\n",
              "    .colab-df-convert:hover {\n",
              "      background-color: #E2EBFA;\n",
              "      box-shadow: 0px 1px 2px rgba(60, 64, 67, 0.3), 0px 1px 3px 1px rgba(60, 64, 67, 0.15);\n",
              "      fill: #174EA6;\n",
              "    }\n",
              "\n",
              "    [theme=dark] .colab-df-convert {\n",
              "      background-color: #3B4455;\n",
              "      fill: #D2E3FC;\n",
              "    }\n",
              "\n",
              "    [theme=dark] .colab-df-convert:hover {\n",
              "      background-color: #434B5C;\n",
              "      box-shadow: 0px 1px 3px 1px rgba(0, 0, 0, 0.15);\n",
              "      filter: drop-shadow(0px 1px 2px rgba(0, 0, 0, 0.3));\n",
              "      fill: #FFFFFF;\n",
              "    }\n",
              "  </style>\n",
              "\n",
              "      <script>\n",
              "        const buttonEl =\n",
              "          document.querySelector('#df-c724f225-87d4-4cb5-8843-ae4da18ae0fb button.colab-df-convert');\n",
              "        buttonEl.style.display =\n",
              "          google.colab.kernel.accessAllowed ? 'block' : 'none';\n",
              "\n",
              "        async function convertToInteractive(key) {\n",
              "          const element = document.querySelector('#df-c724f225-87d4-4cb5-8843-ae4da18ae0fb');\n",
              "          const dataTable =\n",
              "            await google.colab.kernel.invokeFunction('convertToInteractive',\n",
              "                                                     [key], {});\n",
              "          if (!dataTable) return;\n",
              "\n",
              "          const docLinkHtml = 'Like what you see? Visit the ' +\n",
              "            '<a target=\"_blank\" href=https://colab.research.google.com/notebooks/data_table.ipynb>data table notebook</a>'\n",
              "            + ' to learn more about interactive tables.';\n",
              "          element.innerHTML = '';\n",
              "          dataTable['output_type'] = 'display_data';\n",
              "          await google.colab.output.renderOutput(dataTable, element);\n",
              "          const docLink = document.createElement('div');\n",
              "          docLink.innerHTML = docLinkHtml;\n",
              "          element.appendChild(docLink);\n",
              "        }\n",
              "      </script>\n",
              "    </div>\n",
              "  </div>\n",
              "  "
            ]
          },
          "metadata": {},
          "execution_count": 10
        }
      ]
    },
    {
      "cell_type": "markdown",
      "source": [
        "## Análisis de los datos"
      ],
      "metadata": {
        "id": "YF1lC82UYolB"
      }
    },
    {
      "cell_type": "code",
      "source": [
        "data.describe()"
      ],
      "metadata": {
        "colab": {
          "base_uri": "https://localhost:8080/",
          "height": 364
        },
        "id": "zuCV6PVFDzcG",
        "outputId": "c4e50857-c7f5-4334-ba98-0865ca45a4b7"
      },
      "execution_count": 11,
      "outputs": [
        {
          "output_type": "execute_result",
          "data": {
            "text/plain": [
              "       Temperature[C]   Humidity[%]     TVOC[ppb]     eCO2[ppm]        Raw H2  \\\n",
              "count    62630.000000  62630.000000  62630.000000  62630.000000  62630.000000   \n",
              "mean        15.970424     48.539499   1942.057528    670.021044  12942.453936   \n",
              "std         14.359576      8.865367   7811.589055   1905.885439    272.464305   \n",
              "min        -22.010000     10.740000      0.000000    400.000000  10668.000000   \n",
              "25%         10.994250     47.530000    130.000000    400.000000  12830.000000   \n",
              "50%         20.130000     50.150000    981.000000    400.000000  12924.000000   \n",
              "75%         25.409500     53.240000   1189.000000    438.000000  13109.000000   \n",
              "max         59.930000     75.200000  60000.000000  60000.000000  13803.000000   \n",
              "\n",
              "        Raw Ethanol  Pressure[hPa]         PM1.0         PM2.5         NC0.5  \\\n",
              "count  62630.000000   62630.000000  62630.000000  62630.000000  62630.000000   \n",
              "mean   19754.257912     938.627649    100.594309    184.467770    491.463608   \n",
              "std      609.513156       1.331344    922.524245   1976.305615   4265.661251   \n",
              "min    15317.000000     930.852000      0.000000      0.000000      0.000000   \n",
              "25%    19435.000000     938.700000      1.280000      1.340000      8.820000   \n",
              "50%    19501.000000     938.816000      1.810000      1.880000     12.450000   \n",
              "75%    20078.000000     939.418000      2.090000      2.180000     14.420000   \n",
              "max    21410.000000     939.861000  14333.690000  45432.260000  61482.030000   \n",
              "\n",
              "              NC1.0         NC2.5    Fire Alarm  \n",
              "count  62630.000000  62630.000000  62630.000000  \n",
              "mean     203.586487     80.049042      0.714626  \n",
              "std     2214.738556   1083.383189      0.451596  \n",
              "min        0.000000      0.000000      0.000000  \n",
              "25%        1.384000      0.033000      0.000000  \n",
              "50%        1.943000      0.044000      1.000000  \n",
              "75%        2.249000      0.051000      1.000000  \n",
              "max    51914.680000  30026.438000      1.000000  "
            ],
            "text/html": [
              "\n",
              "  <div id=\"df-1b379356-9ebb-4106-9dfd-6df424e3f764\">\n",
              "    <div class=\"colab-df-container\">\n",
              "      <div>\n",
              "<style scoped>\n",
              "    .dataframe tbody tr th:only-of-type {\n",
              "        vertical-align: middle;\n",
              "    }\n",
              "\n",
              "    .dataframe tbody tr th {\n",
              "        vertical-align: top;\n",
              "    }\n",
              "\n",
              "    .dataframe thead th {\n",
              "        text-align: right;\n",
              "    }\n",
              "</style>\n",
              "<table border=\"1\" class=\"dataframe\">\n",
              "  <thead>\n",
              "    <tr style=\"text-align: right;\">\n",
              "      <th></th>\n",
              "      <th>Temperature[C]</th>\n",
              "      <th>Humidity[%]</th>\n",
              "      <th>TVOC[ppb]</th>\n",
              "      <th>eCO2[ppm]</th>\n",
              "      <th>Raw H2</th>\n",
              "      <th>Raw Ethanol</th>\n",
              "      <th>Pressure[hPa]</th>\n",
              "      <th>PM1.0</th>\n",
              "      <th>PM2.5</th>\n",
              "      <th>NC0.5</th>\n",
              "      <th>NC1.0</th>\n",
              "      <th>NC2.5</th>\n",
              "      <th>Fire Alarm</th>\n",
              "    </tr>\n",
              "  </thead>\n",
              "  <tbody>\n",
              "    <tr>\n",
              "      <th>count</th>\n",
              "      <td>62630.000000</td>\n",
              "      <td>62630.000000</td>\n",
              "      <td>62630.000000</td>\n",
              "      <td>62630.000000</td>\n",
              "      <td>62630.000000</td>\n",
              "      <td>62630.000000</td>\n",
              "      <td>62630.000000</td>\n",
              "      <td>62630.000000</td>\n",
              "      <td>62630.000000</td>\n",
              "      <td>62630.000000</td>\n",
              "      <td>62630.000000</td>\n",
              "      <td>62630.000000</td>\n",
              "      <td>62630.000000</td>\n",
              "    </tr>\n",
              "    <tr>\n",
              "      <th>mean</th>\n",
              "      <td>15.970424</td>\n",
              "      <td>48.539499</td>\n",
              "      <td>1942.057528</td>\n",
              "      <td>670.021044</td>\n",
              "      <td>12942.453936</td>\n",
              "      <td>19754.257912</td>\n",
              "      <td>938.627649</td>\n",
              "      <td>100.594309</td>\n",
              "      <td>184.467770</td>\n",
              "      <td>491.463608</td>\n",
              "      <td>203.586487</td>\n",
              "      <td>80.049042</td>\n",
              "      <td>0.714626</td>\n",
              "    </tr>\n",
              "    <tr>\n",
              "      <th>std</th>\n",
              "      <td>14.359576</td>\n",
              "      <td>8.865367</td>\n",
              "      <td>7811.589055</td>\n",
              "      <td>1905.885439</td>\n",
              "      <td>272.464305</td>\n",
              "      <td>609.513156</td>\n",
              "      <td>1.331344</td>\n",
              "      <td>922.524245</td>\n",
              "      <td>1976.305615</td>\n",
              "      <td>4265.661251</td>\n",
              "      <td>2214.738556</td>\n",
              "      <td>1083.383189</td>\n",
              "      <td>0.451596</td>\n",
              "    </tr>\n",
              "    <tr>\n",
              "      <th>min</th>\n",
              "      <td>-22.010000</td>\n",
              "      <td>10.740000</td>\n",
              "      <td>0.000000</td>\n",
              "      <td>400.000000</td>\n",
              "      <td>10668.000000</td>\n",
              "      <td>15317.000000</td>\n",
              "      <td>930.852000</td>\n",
              "      <td>0.000000</td>\n",
              "      <td>0.000000</td>\n",
              "      <td>0.000000</td>\n",
              "      <td>0.000000</td>\n",
              "      <td>0.000000</td>\n",
              "      <td>0.000000</td>\n",
              "    </tr>\n",
              "    <tr>\n",
              "      <th>25%</th>\n",
              "      <td>10.994250</td>\n",
              "      <td>47.530000</td>\n",
              "      <td>130.000000</td>\n",
              "      <td>400.000000</td>\n",
              "      <td>12830.000000</td>\n",
              "      <td>19435.000000</td>\n",
              "      <td>938.700000</td>\n",
              "      <td>1.280000</td>\n",
              "      <td>1.340000</td>\n",
              "      <td>8.820000</td>\n",
              "      <td>1.384000</td>\n",
              "      <td>0.033000</td>\n",
              "      <td>0.000000</td>\n",
              "    </tr>\n",
              "    <tr>\n",
              "      <th>50%</th>\n",
              "      <td>20.130000</td>\n",
              "      <td>50.150000</td>\n",
              "      <td>981.000000</td>\n",
              "      <td>400.000000</td>\n",
              "      <td>12924.000000</td>\n",
              "      <td>19501.000000</td>\n",
              "      <td>938.816000</td>\n",
              "      <td>1.810000</td>\n",
              "      <td>1.880000</td>\n",
              "      <td>12.450000</td>\n",
              "      <td>1.943000</td>\n",
              "      <td>0.044000</td>\n",
              "      <td>1.000000</td>\n",
              "    </tr>\n",
              "    <tr>\n",
              "      <th>75%</th>\n",
              "      <td>25.409500</td>\n",
              "      <td>53.240000</td>\n",
              "      <td>1189.000000</td>\n",
              "      <td>438.000000</td>\n",
              "      <td>13109.000000</td>\n",
              "      <td>20078.000000</td>\n",
              "      <td>939.418000</td>\n",
              "      <td>2.090000</td>\n",
              "      <td>2.180000</td>\n",
              "      <td>14.420000</td>\n",
              "      <td>2.249000</td>\n",
              "      <td>0.051000</td>\n",
              "      <td>1.000000</td>\n",
              "    </tr>\n",
              "    <tr>\n",
              "      <th>max</th>\n",
              "      <td>59.930000</td>\n",
              "      <td>75.200000</td>\n",
              "      <td>60000.000000</td>\n",
              "      <td>60000.000000</td>\n",
              "      <td>13803.000000</td>\n",
              "      <td>21410.000000</td>\n",
              "      <td>939.861000</td>\n",
              "      <td>14333.690000</td>\n",
              "      <td>45432.260000</td>\n",
              "      <td>61482.030000</td>\n",
              "      <td>51914.680000</td>\n",
              "      <td>30026.438000</td>\n",
              "      <td>1.000000</td>\n",
              "    </tr>\n",
              "  </tbody>\n",
              "</table>\n",
              "</div>\n",
              "      <button class=\"colab-df-convert\" onclick=\"convertToInteractive('df-1b379356-9ebb-4106-9dfd-6df424e3f764')\"\n",
              "              title=\"Convert this dataframe to an interactive table.\"\n",
              "              style=\"display:none;\">\n",
              "        \n",
              "  <svg xmlns=\"http://www.w3.org/2000/svg\" height=\"24px\"viewBox=\"0 0 24 24\"\n",
              "       width=\"24px\">\n",
              "    <path d=\"M0 0h24v24H0V0z\" fill=\"none\"/>\n",
              "    <path d=\"M18.56 5.44l.94 2.06.94-2.06 2.06-.94-2.06-.94-.94-2.06-.94 2.06-2.06.94zm-11 1L8.5 8.5l.94-2.06 2.06-.94-2.06-.94L8.5 2.5l-.94 2.06-2.06.94zm10 10l.94 2.06.94-2.06 2.06-.94-2.06-.94-.94-2.06-.94 2.06-2.06.94z\"/><path d=\"M17.41 7.96l-1.37-1.37c-.4-.4-.92-.59-1.43-.59-.52 0-1.04.2-1.43.59L10.3 9.45l-7.72 7.72c-.78.78-.78 2.05 0 2.83L4 21.41c.39.39.9.59 1.41.59.51 0 1.02-.2 1.41-.59l7.78-7.78 2.81-2.81c.8-.78.8-2.07 0-2.86zM5.41 20L4 18.59l7.72-7.72 1.47 1.35L5.41 20z\"/>\n",
              "  </svg>\n",
              "      </button>\n",
              "      \n",
              "  <style>\n",
              "    .colab-df-container {\n",
              "      display:flex;\n",
              "      flex-wrap:wrap;\n",
              "      gap: 12px;\n",
              "    }\n",
              "\n",
              "    .colab-df-convert {\n",
              "      background-color: #E8F0FE;\n",
              "      border: none;\n",
              "      border-radius: 50%;\n",
              "      cursor: pointer;\n",
              "      display: none;\n",
              "      fill: #1967D2;\n",
              "      height: 32px;\n",
              "      padding: 0 0 0 0;\n",
              "      width: 32px;\n",
              "    }\n",
              "\n",
              "    .colab-df-convert:hover {\n",
              "      background-color: #E2EBFA;\n",
              "      box-shadow: 0px 1px 2px rgba(60, 64, 67, 0.3), 0px 1px 3px 1px rgba(60, 64, 67, 0.15);\n",
              "      fill: #174EA6;\n",
              "    }\n",
              "\n",
              "    [theme=dark] .colab-df-convert {\n",
              "      background-color: #3B4455;\n",
              "      fill: #D2E3FC;\n",
              "    }\n",
              "\n",
              "    [theme=dark] .colab-df-convert:hover {\n",
              "      background-color: #434B5C;\n",
              "      box-shadow: 0px 1px 3px 1px rgba(0, 0, 0, 0.15);\n",
              "      filter: drop-shadow(0px 1px 2px rgba(0, 0, 0, 0.3));\n",
              "      fill: #FFFFFF;\n",
              "    }\n",
              "  </style>\n",
              "\n",
              "      <script>\n",
              "        const buttonEl =\n",
              "          document.querySelector('#df-1b379356-9ebb-4106-9dfd-6df424e3f764 button.colab-df-convert');\n",
              "        buttonEl.style.display =\n",
              "          google.colab.kernel.accessAllowed ? 'block' : 'none';\n",
              "\n",
              "        async function convertToInteractive(key) {\n",
              "          const element = document.querySelector('#df-1b379356-9ebb-4106-9dfd-6df424e3f764');\n",
              "          const dataTable =\n",
              "            await google.colab.kernel.invokeFunction('convertToInteractive',\n",
              "                                                     [key], {});\n",
              "          if (!dataTable) return;\n",
              "\n",
              "          const docLinkHtml = 'Like what you see? Visit the ' +\n",
              "            '<a target=\"_blank\" href=https://colab.research.google.com/notebooks/data_table.ipynb>data table notebook</a>'\n",
              "            + ' to learn more about interactive tables.';\n",
              "          element.innerHTML = '';\n",
              "          dataTable['output_type'] = 'display_data';\n",
              "          await google.colab.output.renderOutput(dataTable, element);\n",
              "          const docLink = document.createElement('div');\n",
              "          docLink.innerHTML = docLinkHtml;\n",
              "          element.appendChild(docLink);\n",
              "        }\n",
              "      </script>\n",
              "    </div>\n",
              "  </div>\n",
              "  "
            ]
          },
          "metadata": {},
          "execution_count": 11
        }
      ]
    },
    {
      "cell_type": "markdown",
      "source": [
        "Rango para cada una de las variables"
      ],
      "metadata": {
        "id": "XUuiyj-ftCHo"
      }
    },
    {
      "cell_type": "code",
      "source": [
        "for key in data.keys():\n",
        "  print(f\"Min and max for {key}: {data[key].min()} , {data[key].max()}\")"
      ],
      "metadata": {
        "colab": {
          "base_uri": "https://localhost:8080/"
        },
        "id": "QNkLUUX-cyqN",
        "outputId": "18aba1c9-0118-4fc3-b8c7-2ddf9909b68a"
      },
      "execution_count": 12,
      "outputs": [
        {
          "output_type": "stream",
          "name": "stdout",
          "text": [
            "Min and max for Temperature[C]: -22.01 , 59.93\n",
            "Min and max for Humidity[%]: 10.74 , 75.2\n",
            "Min and max for TVOC[ppb]: 0 , 60000\n",
            "Min and max for eCO2[ppm]: 400 , 60000\n",
            "Min and max for Raw H2: 10668 , 13803\n",
            "Min and max for Raw Ethanol: 15317 , 21410\n",
            "Min and max for Pressure[hPa]: 930.852 , 939.861\n",
            "Min and max for PM1.0: 0.0 , 14333.69\n",
            "Min and max for PM2.5: 0.0 , 45432.26\n",
            "Min and max for NC0.5: 0.0 , 61482.03\n",
            "Min and max for NC1.0: 0.0 , 51914.68\n",
            "Min and max for NC2.5: 0.0 , 30026.438\n",
            "Min and max for Fire Alarm: 0 , 1\n"
          ]
        }
      ]
    },
    {
      "cell_type": "markdown",
      "source": [
        "Valor más común de las variables (Moda)"
      ],
      "metadata": {
        "id": "Ev3FrKDitEoH"
      }
    },
    {
      "cell_type": "code",
      "source": [
        "for key in data.keys():\n",
        "  print(f\"Most common value for {key}: {data[key].value_counts().idxmax()}\")"
      ],
      "metadata": {
        "colab": {
          "base_uri": "https://localhost:8080/"
        },
        "id": "eGydX_YHacbk",
        "outputId": "048ae955-b08f-4f94-d267-1cad9888ab3e"
      },
      "execution_count": 13,
      "outputs": [
        {
          "output_type": "stream",
          "name": "stdout",
          "text": [
            "Most common value for Temperature[C]: 24.48\n",
            "Most common value for Humidity[%]: 47.5\n",
            "Most common value for TVOC[ppb]: 0\n",
            "Most common value for eCO2[ppm]: 400\n",
            "Most common value for Raw H2: 12969\n",
            "Most common value for Raw Ethanol: 19438\n",
            "Most common value for Pressure[hPa]: 938.709\n",
            "Most common value for PM1.0: 1.79\n",
            "Most common value for PM2.5: 1.86\n",
            "Most common value for NC0.5: 0.0\n",
            "Most common value for NC1.0: 1.976\n",
            "Most common value for NC2.5: 0.043\n",
            "Most common value for Fire Alarm: 1\n"
          ]
        }
      ]
    },
    {
      "cell_type": "markdown",
      "source": [
        "Ejemplo de gráficas de: temperatura, presión y Etanol"
      ],
      "metadata": {
        "id": "HTsT2cY4yK_w"
      }
    },
    {
      "cell_type": "code",
      "source": [
        "plt.figure(figsize = (6,6))\n",
        "sns.kdeplot(data = data,x = 'Temperature[C]')"
      ],
      "metadata": {
        "colab": {
          "base_uri": "https://localhost:8080/",
          "height": 405
        },
        "id": "B9cAT6QEyNot",
        "outputId": "d87b02e9-971a-4270-d1d0-d1854ac27d69"
      },
      "execution_count": 14,
      "outputs": [
        {
          "output_type": "execute_result",
          "data": {
            "text/plain": [
              "<matplotlib.axes._subplots.AxesSubplot at 0x7f40c49ee450>"
            ]
          },
          "metadata": {},
          "execution_count": 14
        },
        {
          "output_type": "display_data",
          "data": {
            "text/plain": [
              "<Figure size 432x432 with 1 Axes>"
            ],
            "image/png": "[encoded data removed]"
          },
          "metadata": {
            "needs_background": "light"
          }
        }
      ]
    },
    {
      "cell_type": "code",
      "source": [
        "sns.kdeplot(data = data,x = 'Pressure[hPa]')"
      ],
      "metadata": {
        "colab": {
          "base_uri": "https://localhost:8080/",
          "height": 296
        },
        "id": "tONJgtzTzE1k",
        "outputId": "6b94d1a3-9a74-4f1f-8160-12672c105647"
      },
      "execution_count": 15,
      "outputs": [
        {
          "output_type": "execute_result",
          "data": {
            "text/plain": [
              "<matplotlib.axes._subplots.AxesSubplot at 0x7f40c20de550>"
            ]
          },
          "metadata": {},
          "execution_count": 15
        },
        {
          "output_type": "display_data",
          "data": {
            "text/plain": [
              "<Figure size 432x288 with 1 Axes>"
            ],
            "image/png": "[encoded data removed]"
          },
          "metadata": {
            "needs_background": "light"
          }
        }
      ]
    },
    {
      "cell_type": "code",
      "source": [
        "sns.kdeplot(data = data,x = 'Raw Ethanol')"
      ],
      "metadata": {
        "colab": {
          "base_uri": "https://localhost:8080/",
          "height": 296
        },
        "id": "28uFzp-1zNSr",
        "outputId": "7ecf5469-d5d3-497c-edba-2217f0f3b62e"
      },
      "execution_count": 16,
      "outputs": [
        {
          "output_type": "execute_result",
          "data": {
            "text/plain": [
              "<matplotlib.axes._subplots.AxesSubplot at 0x7f40c1c15dd0>"
            ]
          },
          "metadata": {},
          "execution_count": 16
        },
        {
          "output_type": "display_data",
          "data": {
            "text/plain": [
              "<Figure size 432x288 with 1 Axes>"
            ],
            "image/png": "[encoded data removed]"
          },
          "metadata": {
            "needs_background": "light"
          }
        }
      ]
    },
    {
      "cell_type": "markdown",
      "source": [
        "Análisis para la variable de salida"
      ],
      "metadata": {
        "id": "xBMr78SbYxD_"
      }
    },
    {
      "cell_type": "code",
      "source": [
        "data['Fire Alarm'].value_counts()"
      ],
      "metadata": {
        "colab": {
          "base_uri": "https://localhost:8080/"
        },
        "id": "a4i4n_zEZLQv",
        "outputId": "e207319a-0064-4721-a9ff-45150fd5a7d7"
      },
      "execution_count": 17,
      "outputs": [
        {
          "output_type": "execute_result",
          "data": {
            "text/plain": [
              "1    44757\n",
              "0    17873\n",
              "Name: Fire Alarm, dtype: int64"
            ]
          },
          "metadata": {},
          "execution_count": 17
        }
      ]
    },
    {
      "cell_type": "code",
      "source": [
        "sns.histplot(data['Fire Alarm'])"
      ],
      "metadata": {
        "colab": {
          "base_uri": "https://localhost:8080/",
          "height": 296
        },
        "id": "79zcfojEY8w4",
        "outputId": "d6887d5e-5da1-4d79-b86e-d84b6702d88b"
      },
      "execution_count": 18,
      "outputs": [
        {
          "output_type": "execute_result",
          "data": {
            "text/plain": [
              "<matplotlib.axes._subplots.AxesSubplot at 0x7f40c1b65710>"
            ]
          },
          "metadata": {},
          "execution_count": 18
        },
        {
          "output_type": "display_data",
          "data": {
            "text/plain": [
              "<Figure size 432x288 with 1 Axes>"
            ],
            "image/png": "[encoded data removed]"
          },
          "metadata": {
            "needs_background": "light"
          }
        }
      ]
    },
    {
      "cell_type": "code",
      "source": [
        "plt.pie(data['Fire Alarm'].value_counts(), \n",
        "        labels = data['Fire Alarm'].unique(), autopct='%.2f%%');"
      ],
      "metadata": {
        "colab": {
          "base_uri": "https://localhost:8080/",
          "height": 248
        },
        "id": "GXuUls5KYsU5",
        "outputId": "dc8e2308-89e7-47ee-e093-b2bf67ec1d2d"
      },
      "execution_count": 19,
      "outputs": [
        {
          "output_type": "display_data",
          "data": {
            "text/plain": [
              "<Figure size 432x288 with 1 Axes>"
            ],
            "image/png": "[encoded data removed]"
          },
          "metadata": {}
        }
      ]
    },
    {
      "cell_type": "markdown",
      "source": [
        "Análisis de correlación"
      ],
      "metadata": {
        "id": "O270f3FUgpB-"
      }
    },
    {
      "cell_type": "code",
      "source": [
        "plt.figure(figsize = (12,12))\n",
        "sns.heatmap(data.corr(),annot = True,cmap = 'GnBu')"
      ],
      "metadata": {
        "colab": {
          "base_uri": "https://localhost:8080/",
          "height": 789
        },
        "id": "Xx8KUEvug1oi",
        "outputId": "0ed1f4c9-8d9e-4105-e7c5-4f126ff36106"
      },
      "execution_count": 20,
      "outputs": [
        {
          "output_type": "execute_result",
          "data": {
            "text/plain": [
              "<matplotlib.axes._subplots.AxesSubplot at 0x7f40c1a9de10>"
            ]
          },
          "metadata": {},
          "execution_count": 20
        },
        {
          "output_type": "display_data",
          "data": {
            "text/plain": [
              "<Figure size 864x864 with 2 Axes>"
            ],
            "image/png": "[encoded data removed]"
          },
          "metadata": {
            "needs_background": "light"
          }
        }
      ]
    },
    {
      "cell_type": "markdown",
      "source": [
        "## División de los datos en entrenamiento, prueba y validación"
      ],
      "metadata": {
        "id": "xWWgzmCbhmeU"
      }
    },
    {
      "cell_type": "code",
      "source": [
        "from sklearn.model_selection import train_test_split\n",
        "from sklearn.preprocessing import StandardScaler"
      ],
      "metadata": {
        "id": "Uoe-nG4fiEOs"
      },
      "execution_count": 21,
      "outputs": []
    },
    {
      "cell_type": "code",
      "source": [
        "dataset = data.values\n",
        "X = dataset[:,0:-1].astype(float)\n",
        "Y = dataset[:,-1]"
      ],
      "metadata": {
        "id": "d-RDVLvjhqbT"
      },
      "execution_count": 22,
      "outputs": []
    },
    {
      "cell_type": "markdown",
      "source": [
        "Se deja un 15% para datos de prueba"
      ],
      "metadata": {
        "id": "tk0oE7y2GdIH"
      }
    },
    {
      "cell_type": "code",
      "source": [
        "X_train, X_test, y_train, y_test= train_test_split(X, Y, test_size=0.15, random_state=5, stratify=Y)"
      ],
      "metadata": {
        "id": "LqGNMNxsiFpk"
      },
      "execution_count": 23,
      "outputs": []
    },
    {
      "cell_type": "code",
      "source": [
        "ss = StandardScaler()\n",
        "X_train = ss.fit_transform(X_train)\n",
        "X_test = ss.transform(X_test)"
      ],
      "metadata": {
        "id": "X1PCx4RIiyiT"
      },
      "execution_count": 24,
      "outputs": []
    },
    {
      "cell_type": "code",
      "source": [
        "X[0:5]"
      ],
      "metadata": {
        "colab": {
          "base_uri": "https://localhost:8080/"
        },
        "id": "bePxD-J25DYK",
        "outputId": "ac8c6f72-d353-40b6-82c2-9e4a344b469c"
      },
      "execution_count": 25,
      "outputs": [
        {
          "output_type": "execute_result",
          "data": {
            "text/plain": [
              "array([[   20.   ,    57.36 ,     0.   ,   400.   , 12306.   , 18520.   ,\n",
              "          939.735,     0.   ,     0.   ,     0.   ,     0.   ,     0.   ],\n",
              "       [   20.015,    56.67 ,     0.   ,   400.   , 12345.   , 18651.   ,\n",
              "          939.744,     0.   ,     0.   ,     0.   ,     0.   ,     0.   ],\n",
              "       [   20.029,    55.96 ,     0.   ,   400.   , 12374.   , 18764.   ,\n",
              "          939.738,     0.   ,     0.   ,     0.   ,     0.   ,     0.   ],\n",
              "       [   20.044,    55.28 ,     0.   ,   400.   , 12390.   , 18849.   ,\n",
              "          939.736,     0.   ,     0.   ,     0.   ,     0.   ,     0.   ],\n",
              "       [   20.059,    54.69 ,     0.   ,   400.   , 12403.   , 18921.   ,\n",
              "          939.744,     0.   ,     0.   ,     0.   ,     0.   ,     0.   ]])"
            ]
          },
          "metadata": {},
          "execution_count": 25
        }
      ]
    },
    {
      "cell_type": "code",
      "source": [
        "X_train[0:5]"
      ],
      "metadata": {
        "colab": {
          "base_uri": "https://localhost:8080/"
        },
        "id": "EcNtm7J75AgS",
        "outputId": "4ed380e4-4396-47f1-a051-dda48f201c28"
      },
      "execution_count": 26,
      "outputs": [
        {
          "output_type": "execute_result",
          "data": {
            "text/plain": [
              "array([[ 0.7331816 ,  0.10255369, -0.07881888, -0.14269527,  0.14497478,\n",
              "        -0.56867587,  0.08272933, -0.10753156, -0.09270982, -0.11289374,\n",
              "        -0.09136876, -0.07434229],\n",
              "       [ 0.69063169, -0.13288931, -0.08638551, -0.13266846, -0.10085973,\n",
              "        -0.55719702,  0.04540057, -0.10770317, -0.0927893 , -0.11314387,\n",
              "        -0.09144319, -0.07434589],\n",
              "       [ 0.7383434 ,  0.70636922, -0.24926039, -0.14269527,  0.55225285,\n",
              "         0.38242947,  0.82258522, -0.10880787, -0.09332084, -0.11480601,\n",
              "        -0.09193455, -0.07436843],\n",
              "       [ 0.27350301,  0.02595022, -0.24605419, -0.14269527,  0.94118505,\n",
              "         0.62348548,  0.73224964, -0.1082287 , -0.09304265, -0.11393169,\n",
              "        -0.0916758 , -0.07435671],\n",
              "       [ 0.75829303, -0.05966541, -0.07958837, -0.14058437,  0.09727554,\n",
              "        -0.57851489,  0.09915398, -0.10717763, -0.09253595, -0.11235372,\n",
              "        -0.09120925, -0.07433508]])"
            ]
          },
          "metadata": {},
          "execution_count": 26
        }
      ]
    },
    {
      "cell_type": "markdown",
      "source": [
        "## KNN (K-Nearest Neighbors)"
      ],
      "metadata": {
        "id": "QiEjP-s9jsTU"
      }
    },
    {
      "cell_type": "code",
      "source": [
        "from sklearn.neighbors import KNeighborsClassifier"
      ],
      "metadata": {
        "id": "an8BHkyMjuWg"
      },
      "execution_count": 27,
      "outputs": []
    },
    {
      "cell_type": "markdown",
      "source": [
        "### Buscando el mejor parámetro para el número del vecinos"
      ],
      "metadata": {
        "id": "lrgTG0mWry49"
      }
    },
    {
      "cell_type": "code",
      "source": [
        "from sklearn.model_selection import GridSearchCV"
      ],
      "metadata": {
        "id": "0t74B986wAZG"
      },
      "execution_count": 28,
      "outputs": []
    },
    {
      "cell_type": "code",
      "source": [
        "neighbors_grid = {'n_neighbors':np.arange(2,10)}"
      ],
      "metadata": {
        "id": "lo6DpBpuj2O4"
      },
      "execution_count": 44,
      "outputs": []
    },
    {
      "cell_type": "code",
      "source": [
        "knn = KNeighborsClassifier()\n",
        "knn_cv= GridSearchCV(knn,neighbors_grid,cv=5)\n",
        "knn_cv.fit(X_train,y_train)"
      ],
      "metadata": {
        "id": "RIoMrOjQqJJd",
        "colab": {
          "base_uri": "https://localhost:8080/"
        },
        "outputId": "6e0b8fa5-bc0d-4624-a075-32979b83091f"
      },
      "execution_count": 45,
      "outputs": [
        {
          "output_type": "execute_result",
          "data": {
            "text/plain": [
              "GridSearchCV(cv=5, estimator=KNeighborsClassifier(),\n",
              "             param_grid={'n_neighbors': array([2, 3, 4, 5, 6, 7, 8, 9])})"
            ]
          },
          "metadata": {},
          "execution_count": 45
        }
      ]
    },
    {
      "cell_type": "code",
      "source": [
        "print(knn_cv.best_score_,knn_cv.best_params_)"
      ],
      "metadata": {
        "id": "LydK0Fjermxp",
        "colab": {
          "base_uri": "https://localhost:8080/"
        },
        "outputId": "b463b71b-43a7-4dba-d504-5bfc45b6aa4d"
      },
      "execution_count": 46,
      "outputs": [
        {
          "output_type": "stream",
          "name": "stdout",
          "text": [
            "0.9987602141448295 {'n_neighbors': 2}\n"
          ]
        }
      ]
    },
    {
      "cell_type": "markdown",
      "source": [
        "Comprobando el resultado del GridSearch manualmente"
      ],
      "metadata": {
        "id": "yXkAjnZMsQjB"
      }
    },
    {
      "cell_type": "code",
      "source": [
        "neighbors = np.arange(2,10)\n",
        "\n",
        "train_accuracy =np.empty(len(neighbors))\n",
        "test_accuracy = np.empty(len(neighbors))\n",
        "\n",
        "for i,k in enumerate(neighbors):\n",
        "    knn = KNeighborsClassifier(n_neighbors=k)\n",
        "    knn.fit(X_train, y_train)\n",
        "    train_accuracy[i] = knn.score(X_train, y_train)\n",
        "    test_accuracy[i] = knn.score(X_test, y_test) "
      ],
      "metadata": {
        "id": "6KTukNbxsXLJ"
      },
      "execution_count": 47,
      "outputs": []
    },
    {
      "cell_type": "code",
      "source": [
        "plt.title('k-NN')\n",
        "plt.plot(neighbors, test_accuracy, label='Testing Accuracy')\n",
        "plt.plot(neighbors, train_accuracy, label='Training accuracy')\n",
        "plt.legend()\n",
        "plt.xlabel('Number of neighbors')\n",
        "plt.ylabel('Accuracy')\n",
        "plt.show()"
      ],
      "metadata": {
        "id": "61hzV40Xstkh",
        "colab": {
          "base_uri": "https://localhost:8080/",
          "height": 295
        },
        "outputId": "6dec27db-183c-4069-fd3a-afab78ec650e"
      },
      "execution_count": 48,
      "outputs": [
        {
          "output_type": "display_data",
          "data": {
            "text/plain": [
              "<Figure size 432x288 with 1 Axes>"
            ],
            "image/png": "[encoded data removed]"
          },
          "metadata": {
            "needs_background": "light"
          }
        }
      ]
    },
    {
      "cell_type": "markdown",
      "source": [
        "### Validación cruzada con los parámetros escogidos"
      ],
      "metadata": {
        "id": "1JVG4Ados5Q6"
      }
    },
    {
      "cell_type": "code",
      "source": [
        "from sklearn.model_selection import cross_validate\n",
        "from sklearn.model_selection import cross_val_score\n",
        "from sklearn.metrics import recall_score\n",
        "from sklearn.model_selection import KFold\n",
        "from sklearn.model_selection import StratifiedKFold\n",
        "from sklearn.neighbors import KNeighborsClassifier"
      ],
      "metadata": {
        "id": "dlyOql-Rs8fg"
      },
      "execution_count": 49,
      "outputs": []
    },
    {
      "cell_type": "code",
      "source": [
        "scoring = ['precision_macro', 'recall_macro','f1_macro']\n",
        "knn = KNeighborsClassifier(n_neighbors=2, metric='euclidean')\n",
        "accuracy = cross_val_score(knn, X_train, y_train, cv=10)\n",
        "scores = cross_validate(knn, X_train,y_train, scoring=scoring, cv=10)"
      ],
      "metadata": {
        "id": "YiWPZSZptRgw"
      },
      "execution_count": 50,
      "outputs": []
    },
    {
      "cell_type": "code",
      "source": [
        "accuracy"
      ],
      "metadata": {
        "id": "DmedLC5ht60g",
        "colab": {
          "base_uri": "https://localhost:8080/"
        },
        "outputId": "bf57b2bb-dcfc-4c51-f705-c3ae06e20b77"
      },
      "execution_count": 51,
      "outputs": [
        {
          "output_type": "execute_result",
          "data": {
            "text/plain": [
              "array([0.99849737, 0.99887303, 0.99924869, 0.99830954, 0.9986852 ,\n",
              "       0.99924854, 0.99887282, 0.99830922, 0.99943641, 0.99962427])"
            ]
          },
          "metadata": {},
          "execution_count": 51
        }
      ]
    },
    {
      "cell_type": "code",
      "source": [
        "accuracy.mean()"
      ],
      "metadata": {
        "id": "UjVYc9He9g2w",
        "colab": {
          "base_uri": "https://localhost:8080/"
        },
        "outputId": "5840c4e1-3e7e-487f-c90d-9a719bf11d6b"
      },
      "execution_count": 52,
      "outputs": [
        {
          "output_type": "execute_result",
          "data": {
            "text/plain": [
              "0.9989105088516965"
            ]
          },
          "metadata": {},
          "execution_count": 52
        }
      ]
    },
    {
      "cell_type": "code",
      "source": [
        "for score in scores:\n",
        "  print(f\"{score} mean: {scores[score].mean()}\")"
      ],
      "metadata": {
        "id": "833t4Pwot8l_",
        "colab": {
          "base_uri": "https://localhost:8080/"
        },
        "outputId": "08bb87db-71b7-4ffa-cd52-65ffe1475b74"
      },
      "execution_count": 53,
      "outputs": [
        {
          "output_type": "stream",
          "name": "stdout",
          "text": [
            "fit_time mean: 0.11073873043060303\n",
            "score_time mean: 0.3943476676940918\n",
            "test_precision_macro mean: 0.9985666154808331\n",
            "test_recall_macro mean: 0.9987632878051651\n",
            "test_f1_macro mean: 0.9986646510077672\n"
          ]
        }
      ]
    },
    {
      "cell_type": "markdown",
      "source": [
        "### Análisis de resultados con los parámetros escogidos"
      ],
      "metadata": {
        "id": "ut7amIVsvcZP"
      }
    },
    {
      "cell_type": "code",
      "source": [
        "from sklearn.metrics import confusion_matrix\n",
        "from sklearn.metrics import ConfusionMatrixDisplay\n",
        "from sklearn.metrics import classification_report"
      ],
      "metadata": {
        "id": "-aso-mwsvj1m"
      },
      "execution_count": 54,
      "outputs": []
    },
    {
      "cell_type": "code",
      "source": [
        "knn.fit(X_train, y_train)\n",
        "y_pred = knn.predict(X_test)"
      ],
      "metadata": {
        "id": "GzwiW1RiwHOB"
      },
      "execution_count": 55,
      "outputs": []
    },
    {
      "cell_type": "code",
      "source": [
        "cm=confusion_matrix(y_test,y_pred)\n",
        "classes = np.unique(Y)\n",
        "disp = ConfusionMatrixDisplay(confusion_matrix=cm, display_labels=classes)\n",
        "disp.plot(cmap=plt.cm.Blues)\n",
        "pd.crosstab(y_test, y_pred, rownames=['True'], colnames=['Predicted'], margins=True)"
      ],
      "metadata": {
        "id": "MltDAu4gwPTe",
        "colab": {
          "base_uri": "https://localhost:8080/",
          "height": 437
        },
        "outputId": "c459c506-0147-42a5-a82b-77f15b3af467"
      },
      "execution_count": 56,
      "outputs": [
        {
          "output_type": "execute_result",
          "data": {
            "text/plain": [
              "Predicted   0.0   1.0   All\n",
              "True                       \n",
              "0.0        2679     2  2681\n",
              "1.0           3  6711  6714\n",
              "All        2682  6713  9395"
            ],
            "text/html": [
              "\n",
              "  <div id=\"df-3f017385-e089-4709-9844-124b23fd4daf\">\n",
              "    <div class=\"colab-df-container\">\n",
              "      <div>\n",
              "<style scoped>\n",
              "    .dataframe tbody tr th:only-of-type {\n",
              "        vertical-align: middle;\n",
              "    }\n",
              "\n",
              "    .dataframe tbody tr th {\n",
              "        vertical-align: top;\n",
              "    }\n",
              "\n",
              "    .dataframe thead th {\n",
              "        text-align: right;\n",
              "    }\n",
              "</style>\n",
              "<table border=\"1\" class=\"dataframe\">\n",
              "  <thead>\n",
              "    <tr style=\"text-align: right;\">\n",
              "      <th>Predicted</th>\n",
              "      <th>0.0</th>\n",
              "      <th>1.0</th>\n",
              "      <th>All</th>\n",
              "    </tr>\n",
              "    <tr>\n",
              "      <th>True</th>\n",
              "      <th></th>\n",
              "      <th></th>\n",
              "      <th></th>\n",
              "    </tr>\n",
              "  </thead>\n",
              "  <tbody>\n",
              "    <tr>\n",
              "      <th>0.0</th>\n",
              "      <td>2679</td>\n",
              "      <td>2</td>\n",
              "      <td>2681</td>\n",
              "    </tr>\n",
              "    <tr>\n",
              "      <th>1.0</th>\n",
              "      <td>3</td>\n",
              "      <td>6711</td>\n",
              "      <td>6714</td>\n",
              "    </tr>\n",
              "    <tr>\n",
              "      <th>All</th>\n",
              "      <td>2682</td>\n",
              "      <td>6713</td>\n",
              "      <td>9395</td>\n",
              "    </tr>\n",
              "  </tbody>\n",
              "</table>\n",
              "</div>\n",
              "      <button class=\"colab-df-convert\" onclick=\"convertToInteractive('df-3f017385-e089-4709-9844-124b23fd4daf')\"\n",
              "              title=\"Convert this dataframe to an interactive table.\"\n",
              "              style=\"display:none;\">\n",
              "        \n",
              "  <svg xmlns=\"http://www.w3.org/2000/svg\" height=\"24px\"viewBox=\"0 0 24 24\"\n",
              "       width=\"24px\">\n",
              "    <path d=\"M0 0h24v24H0V0z\" fill=\"none\"/>\n",
              "    <path d=\"M18.56 5.44l.94 2.06.94-2.06 2.06-.94-2.06-.94-.94-2.06-.94 2.06-2.06.94zm-11 1L8.5 8.5l.94-2.06 2.06-.94-2.06-.94L8.5 2.5l-.94 2.06-2.06.94zm10 10l.94 2.06.94-2.06 2.06-.94-2.06-.94-.94-2.06-.94 2.06-2.06.94z\"/><path d=\"M17.41 7.96l-1.37-1.37c-.4-.4-.92-.59-1.43-.59-.52 0-1.04.2-1.43.59L10.3 9.45l-7.72 7.72c-.78.78-.78 2.05 0 2.83L4 21.41c.39.39.9.59 1.41.59.51 0 1.02-.2 1.41-.59l7.78-7.78 2.81-2.81c.8-.78.8-2.07 0-2.86zM5.41 20L4 18.59l7.72-7.72 1.47 1.35L5.41 20z\"/>\n",
              "  </svg>\n",
              "      </button>\n",
              "      \n",
              "  <style>\n",
              "    .colab-df-container {\n",
              "      display:flex;\n",
              "      flex-wrap:wrap;\n",
              "      gap: 12px;\n",
              "    }\n",
              "\n",
              "    .colab-df-convert {\n",
              "      background-color: #E8F0FE;\n",
              "      border: none;\n",
              "      border-radius: 50%;\n",
              "      cursor: pointer;\n",
              "      display: none;\n",
              "      fill: #1967D2;\n",
              "      height: 32px;\n",
              "      padding: 0 0 0 0;\n",
              "      width: 32px;\n",
              "    }\n",
              "\n",
              "    .colab-df-convert:hover {\n",
              "      background-color: #E2EBFA;\n",
              "      box-shadow: 0px 1px 2px rgba(60, 64, 67, 0.3), 0px 1px 3px 1px rgba(60, 64, 67, 0.15);\n",
              "      fill: #174EA6;\n",
              "    }\n",
              "\n",
              "    [theme=dark] .colab-df-convert {\n",
              "      background-color: #3B4455;\n",
              "      fill: #D2E3FC;\n",
              "    }\n",
              "\n",
              "    [theme=dark] .colab-df-convert:hover {\n",
              "      background-color: #434B5C;\n",
              "      box-shadow: 0px 1px 3px 1px rgba(0, 0, 0, 0.15);\n",
              "      filter: drop-shadow(0px 1px 2px rgba(0, 0, 0, 0.3));\n",
              "      fill: #FFFFFF;\n",
              "    }\n",
              "  </style>\n",
              "\n",
              "      <script>\n",
              "        const buttonEl =\n",
              "          document.querySelector('#df-3f017385-e089-4709-9844-124b23fd4daf button.colab-df-convert');\n",
              "        buttonEl.style.display =\n",
              "          google.colab.kernel.accessAllowed ? 'block' : 'none';\n",
              "\n",
              "        async function convertToInteractive(key) {\n",
              "          const element = document.querySelector('#df-3f017385-e089-4709-9844-124b23fd4daf');\n",
              "          const dataTable =\n",
              "            await google.colab.kernel.invokeFunction('convertToInteractive',\n",
              "                                                     [key], {});\n",
              "          if (!dataTable) return;\n",
              "\n",
              "          const docLinkHtml = 'Like what you see? Visit the ' +\n",
              "            '<a target=\"_blank\" href=https://colab.research.google.com/notebooks/data_table.ipynb>data table notebook</a>'\n",
              "            + ' to learn more about interactive tables.';\n",
              "          element.innerHTML = '';\n",
              "          dataTable['output_type'] = 'display_data';\n",
              "          await google.colab.output.renderOutput(dataTable, element);\n",
              "          const docLink = document.createElement('div');\n",
              "          docLink.innerHTML = docLinkHtml;\n",
              "          element.appendChild(docLink);\n",
              "        }\n",
              "      </script>\n",
              "    </div>\n",
              "  </div>\n",
              "  "
            ]
          },
          "metadata": {},
          "execution_count": 56
        },
        {
          "output_type": "display_data",
          "data": {
            "text/plain": [
              "<Figure size 432x288 with 2 Axes>"
            ],
            "image/png": "[encoded data removed]"
          },
          "metadata": {
            "needs_background": "light"
          }
        }
      ]
    },
    {
      "cell_type": "code",
      "source": [
        "print(classification_report(y_test,y_pred))"
      ],
      "metadata": {
        "id": "Wh4Z2THqwfy-",
        "colab": {
          "base_uri": "https://localhost:8080/"
        },
        "outputId": "0ab6d793-898f-46c0-d4b3-598bd5b84e6e"
      },
      "execution_count": 57,
      "outputs": [
        {
          "output_type": "stream",
          "name": "stdout",
          "text": [
            "              precision    recall  f1-score   support\n",
            "\n",
            "         0.0       1.00      1.00      1.00      2681\n",
            "         1.0       1.00      1.00      1.00      6714\n",
            "\n",
            "    accuracy                           1.00      9395\n",
            "   macro avg       1.00      1.00      1.00      9395\n",
            "weighted avg       1.00      1.00      1.00      9395\n",
            "\n"
          ]
        }
      ]
    },
    {
      "cell_type": "markdown",
      "source": [
        "## Naive Bayes"
      ],
      "metadata": {
        "id": "5Kpxu_HtAYdd"
      }
    },
    {
      "cell_type": "code",
      "source": [
        "from sklearn.naive_bayes import GaussianNB "
      ],
      "metadata": {
        "id": "iEsd0AC_AeY2"
      },
      "execution_count": 58,
      "outputs": []
    },
    {
      "cell_type": "markdown",
      "source": [
        "### Validación cruzada"
      ],
      "metadata": {
        "id": "qPPJVA4LKUEd"
      }
    },
    {
      "cell_type": "code",
      "source": [
        "scoring = ['precision_macro', 'recall_macro','f1_macro']\n",
        "bn = GaussianNB()\n",
        "accuracy = cross_val_score(bn, X_train, y_train, cv=10)\n",
        "scores = cross_validate(bn, X_train, y_train, scoring=scoring, cv=10)"
      ],
      "metadata": {
        "id": "gmC5nrowKbSz"
      },
      "execution_count": 59,
      "outputs": []
    },
    {
      "cell_type": "code",
      "source": [
        "accuracy"
      ],
      "metadata": {
        "colab": {
          "base_uri": "https://localhost:8080/"
        },
        "id": "KZjGm4yGKnbs",
        "outputId": "dd33af59-03af-48cf-dc0d-6bb8f9586d73"
      },
      "execution_count": 60,
      "outputs": [
        {
          "output_type": "execute_result",
          "data": {
            "text/plain": [
              "array([0.77216379, 0.7663411 , 0.76521412, 0.75882795, 0.76202104,\n",
              "       0.76122487, 0.76855157, 0.7689273 , 0.76817584, 0.76009769])"
            ]
          },
          "metadata": {},
          "execution_count": 60
        }
      ]
    },
    {
      "cell_type": "code",
      "source": [
        "accuracy.mean()"
      ],
      "metadata": {
        "colab": {
          "base_uri": "https://localhost:8080/"
        },
        "id": "G9MQ40AWKrMj",
        "outputId": "9b488215-6003-4065-9264-8ddefa4b4789"
      },
      "execution_count": 61,
      "outputs": [
        {
          "output_type": "execute_result",
          "data": {
            "text/plain": [
              "0.7651545262447119"
            ]
          },
          "metadata": {},
          "execution_count": 61
        }
      ]
    },
    {
      "cell_type": "code",
      "source": [
        "for score in scores:\n",
        "  print(f\"{score} mean: {scores[score].mean()}\")"
      ],
      "metadata": {
        "colab": {
          "base_uri": "https://localhost:8080/"
        },
        "id": "_q57ZpnAKwbz",
        "outputId": "363f61f2-bb64-4112-c3e0-8a59064e329c"
      },
      "execution_count": 62,
      "outputs": [
        {
          "output_type": "stream",
          "name": "stdout",
          "text": [
            "fit_time mean: 0.02103426456451416\n",
            "score_time mean: 0.013588953018188476\n",
            "test_precision_macro mean: 0.7789822673017823\n",
            "test_recall_macro mean: 0.6069586219073717\n",
            "test_f1_macro mean: 0.6113219334957035\n"
          ]
        }
      ]
    },
    {
      "cell_type": "markdown",
      "source": [
        "### Análisis de resultados"
      ],
      "metadata": {
        "id": "FBWBa6eSBIiK"
      }
    },
    {
      "cell_type": "code",
      "source": [
        "bn.fit(X_train,y_train)"
      ],
      "metadata": {
        "id": "MlqzTcRdJyjk",
        "colab": {
          "base_uri": "https://localhost:8080/"
        },
        "outputId": "2ac12512-d9a8-4b73-87e7-f3bb2fba5718"
      },
      "execution_count": 63,
      "outputs": [
        {
          "output_type": "execute_result",
          "data": {
            "text/plain": [
              "GaussianNB()"
            ]
          },
          "metadata": {},
          "execution_count": 63
        }
      ]
    },
    {
      "cell_type": "code",
      "source": [
        "y_predict=bn.predict(X_test)"
      ],
      "metadata": {
        "id": "_RgsWr-2J1XJ"
      },
      "execution_count": 64,
      "outputs": []
    },
    {
      "cell_type": "code",
      "source": [
        "cm=confusion_matrix(y_test,y_predict)"
      ],
      "metadata": {
        "id": "58_UgvaUJ5G3"
      },
      "execution_count": 65,
      "outputs": []
    },
    {
      "cell_type": "code",
      "source": [
        "disp = ConfusionMatrixDisplay(confusion_matrix=cm, display_labels=classes)\n",
        "disp.plot(cmap=plt.cm.Blues)"
      ],
      "metadata": {
        "id": "vsseVTBzJ8ko",
        "colab": {
          "base_uri": "https://localhost:8080/",
          "height": 296
        },
        "outputId": "93a050e5-4ab5-4608-b535-0b2cc6847805"
      },
      "execution_count": 66,
      "outputs": [
        {
          "output_type": "execute_result",
          "data": {
            "text/plain": [
              "<sklearn.metrics._plot.confusion_matrix.ConfusionMatrixDisplay at 0x7f40bfa0cd10>"
            ]
          },
          "metadata": {},
          "execution_count": 66
        },
        {
          "output_type": "display_data",
          "data": {
            "text/plain": [
              "<Figure size 432x288 with 2 Axes>"
            ],
            "image/png": "[encoded data removed]"
          },
          "metadata": {
            "needs_background": "light"
          }
        }
      ]
    },
    {
      "cell_type": "code",
      "source": [
        "print(classification_report(y_test,y_predict))"
      ],
      "metadata": {
        "id": "2MWTwpo5J-kl",
        "colab": {
          "base_uri": "https://localhost:8080/"
        },
        "outputId": "9474e594-a953-4b04-ddf5-4a9d8b1a53c5"
      },
      "execution_count": 67,
      "outputs": [
        {
          "output_type": "stream",
          "name": "stdout",
          "text": [
            "              precision    recall  f1-score   support\n",
            "\n",
            "         0.0       0.81      0.23      0.36      2681\n",
            "         1.0       0.76      0.98      0.86      6714\n",
            "\n",
            "    accuracy                           0.77      9395\n",
            "   macro avg       0.79      0.60      0.61      9395\n",
            "weighted avg       0.78      0.77      0.71      9395\n",
            "\n"
          ]
        }
      ]
    },
    {
      "cell_type": "markdown",
      "source": [
        "## Support Vector Machine"
      ],
      "metadata": {
        "id": "Jf9BwlZiDL2-"
      }
    },
    {
      "cell_type": "code",
      "source": [
        "from sklearn.svm import SVC"
      ],
      "metadata": {
        "id": "BN8_j_cuDXnK"
      },
      "execution_count": 68,
      "outputs": []
    },
    {
      "cell_type": "markdown",
      "source": [
        "### Buscando el mejor parámetro para el kernel"
      ],
      "metadata": {
        "id": "lgebiV_jcCBf"
      }
    },
    {
      "cell_type": "code",
      "source": [
        "kernels_grid = {'kernel':['linear','poly','rbf']}\n",
        "svm=SVC()\n",
        "svm_cv= GridSearchCV(svm,kernels_grid,cv=5)\n",
        "svm_cv.fit(X_train,y_train)"
      ],
      "metadata": {
        "colab": {
          "base_uri": "https://localhost:8080/"
        },
        "id": "HeVGWZDRb_sR",
        "outputId": "bc0f89ca-1db6-48fd-f368-a5b0f40bd259"
      },
      "execution_count": 69,
      "outputs": [
        {
          "output_type": "execute_result",
          "data": {
            "text/plain": [
              "GridSearchCV(cv=5, estimator=SVC(),\n",
              "             param_grid={'kernel': ['linear', 'poly', 'rbf']})"
            ]
          },
          "metadata": {},
          "execution_count": 69
        }
      ]
    },
    {
      "cell_type": "code",
      "source": [
        "print(svm_cv.best_score_,svm_cv.best_params_)"
      ],
      "metadata": {
        "colab": {
          "base_uri": "https://localhost:8080/"
        },
        "id": "IbwgCJ_OcHHB",
        "outputId": "c352fff4-ab58-4fea-945f-6bd608869abf"
      },
      "execution_count": 70,
      "outputs": [
        {
          "output_type": "stream",
          "name": "stdout",
          "text": [
            "0.9662627970320278 {'kernel': 'rbf'}\n"
          ]
        }
      ]
    },
    {
      "cell_type": "markdown",
      "source": [
        "### Haciendo validación cruzada con los parámetros escogidos"
      ],
      "metadata": {
        "id": "W72vyeKhcJnl"
      }
    },
    {
      "cell_type": "code",
      "source": [
        "scoring = ['precision_macro', 'recall_macro','f1_macro']\n",
        "svm=SVC(kernel='rbf')\n",
        "accuracy = cross_val_score(svm, X_train, y_train, cv=3)\n",
        "scores = cross_validate(svm, X_train,y_train, scoring=scoring, cv=3)"
      ],
      "metadata": {
        "id": "M4S5BDS5cODy"
      },
      "execution_count": 71,
      "outputs": []
    },
    {
      "cell_type": "code",
      "source": [
        "accuracy"
      ],
      "metadata": {
        "colab": {
          "base_uri": "https://localhost:8080/"
        },
        "id": "ZwIg5JipcQ39",
        "outputId": "fecae36c-6350-4e0e-b605-b8f56676c162"
      },
      "execution_count": 72,
      "outputs": [
        {
          "output_type": "execute_result",
          "data": {
            "text/plain": [
              "array([0.965286  , 0.96534235, 0.96398986])"
            ]
          },
          "metadata": {},
          "execution_count": 72
        }
      ]
    },
    {
      "cell_type": "code",
      "source": [
        "accuracy.mean()"
      ],
      "metadata": {
        "colab": {
          "base_uri": "https://localhost:8080/"
        },
        "id": "4oIclsW1cS94",
        "outputId": "c2c7f87c-1811-4320-fb99-cc1f415d5fa9"
      },
      "execution_count": 73,
      "outputs": [
        {
          "output_type": "execute_result",
          "data": {
            "text/plain": [
              "0.9648727341035034"
            ]
          },
          "metadata": {},
          "execution_count": 73
        }
      ]
    },
    {
      "cell_type": "code",
      "source": [
        "for score in scores:\n",
        "  print(f\"{score} mean: {scores[score].mean()}\")"
      ],
      "metadata": {
        "colab": {
          "base_uri": "https://localhost:8080/"
        },
        "id": "YtydbCAHcU1F",
        "outputId": "e6f36217-ecc0-456a-f363-cf3eac753822"
      },
      "execution_count": 74,
      "outputs": [
        {
          "output_type": "stream",
          "name": "stdout",
          "text": [
            "fit_time mean: 12.731649398803711\n",
            "score_time mean: 5.75172742207845\n",
            "test_precision_macro mean: 0.9690234799159003\n",
            "test_recall_macro mean: 0.9446421581689864\n",
            "test_f1_macro mean: 0.9558242258302004\n"
          ]
        }
      ]
    },
    {
      "cell_type": "markdown",
      "source": [
        "### Análisis de resultados con los parámetros escogidos"
      ],
      "metadata": {
        "id": "B9HeoDSFcZ5F"
      }
    },
    {
      "cell_type": "code",
      "source": [
        "svm.fit(X_train,y_train)\n",
        "y_pred_svm=svm.predict(X_test)\n",
        "cm=confusion_matrix(y_test,y_pred_svm)\n",
        "classes = np.unique(Y)\n",
        "disp = ConfusionMatrixDisplay(confusion_matrix=cm, display_labels=classes)\n",
        "disp.plot(cmap=plt.cm.Blues)\n",
        "pd.crosstab(y_test, y_pred_svm, rownames=['True'], colnames=['Predicted'], margins=True)"
      ],
      "metadata": {
        "colab": {
          "base_uri": "https://localhost:8080/",
          "height": 437
        },
        "id": "9Pn6NPh0cdkG",
        "outputId": "5a115c54-8c31-4c3c-f528-ac3196ff958a"
      },
      "execution_count": 75,
      "outputs": [
        {
          "output_type": "execute_result",
          "data": {
            "text/plain": [
              "Predicted   0.0   1.0   All\n",
              "True                       \n",
              "0.0        2427   254  2681\n",
              "1.0          52  6662  6714\n",
              "All        2479  6916  9395"
            ],
            "text/html": [
              "\n",
              "  <div id=\"df-7120b467-fa2b-4dfc-830b-5b37b7426f77\">\n",
              "    <div class=\"colab-df-container\">\n",
              "      <div>\n",
              "<style scoped>\n",
              "    .dataframe tbody tr th:only-of-type {\n",
              "        vertical-align: middle;\n",
              "    }\n",
              "\n",
              "    .dataframe tbody tr th {\n",
              "        vertical-align: top;\n",
              "    }\n",
              "\n",
              "    .dataframe thead th {\n",
              "        text-align: right;\n",
              "    }\n",
              "</style>\n",
              "<table border=\"1\" class=\"dataframe\">\n",
              "  <thead>\n",
              "    <tr style=\"text-align: right;\">\n",
              "      <th>Predicted</th>\n",
              "      <th>0.0</th>\n",
              "      <th>1.0</th>\n",
              "      <th>All</th>\n",
              "    </tr>\n",
              "    <tr>\n",
              "      <th>True</th>\n",
              "      <th></th>\n",
              "      <th></th>\n",
              "      <th></th>\n",
              "    </tr>\n",
              "  </thead>\n",
              "  <tbody>\n",
              "    <tr>\n",
              "      <th>0.0</th>\n",
              "      <td>2427</td>\n",
              "      <td>254</td>\n",
              "      <td>2681</td>\n",
              "    </tr>\n",
              "    <tr>\n",
              "      <th>1.0</th>\n",
              "      <td>52</td>\n",
              "      <td>6662</td>\n",
              "      <td>6714</td>\n",
              "    </tr>\n",
              "    <tr>\n",
              "      <th>All</th>\n",
              "      <td>2479</td>\n",
              "      <td>6916</td>\n",
              "      <td>9395</td>\n",
              "    </tr>\n",
              "  </tbody>\n",
              "</table>\n",
              "</div>\n",
              "      <button class=\"colab-df-convert\" onclick=\"convertToInteractive('df-7120b467-fa2b-4dfc-830b-5b37b7426f77')\"\n",
              "              title=\"Convert this dataframe to an interactive table.\"\n",
              "              style=\"display:none;\">\n",
              "        \n",
              "  <svg xmlns=\"http://www.w3.org/2000/svg\" height=\"24px\"viewBox=\"0 0 24 24\"\n",
              "       width=\"24px\">\n",
              "    <path d=\"M0 0h24v24H0V0z\" fill=\"none\"/>\n",
              "    <path d=\"M18.56 5.44l.94 2.06.94-2.06 2.06-.94-2.06-.94-.94-2.06-.94 2.06-2.06.94zm-11 1L8.5 8.5l.94-2.06 2.06-.94-2.06-.94L8.5 2.5l-.94 2.06-2.06.94zm10 10l.94 2.06.94-2.06 2.06-.94-2.06-.94-.94-2.06-.94 2.06-2.06.94z\"/><path d=\"M17.41 7.96l-1.37-1.37c-.4-.4-.92-.59-1.43-.59-.52 0-1.04.2-1.43.59L10.3 9.45l-7.72 7.72c-.78.78-.78 2.05 0 2.83L4 21.41c.39.39.9.59 1.41.59.51 0 1.02-.2 1.41-.59l7.78-7.78 2.81-2.81c.8-.78.8-2.07 0-2.86zM5.41 20L4 18.59l7.72-7.72 1.47 1.35L5.41 20z\"/>\n",
              "  </svg>\n",
              "      </button>\n",
              "      \n",
              "  <style>\n",
              "    .colab-df-container {\n",
              "      display:flex;\n",
              "      flex-wrap:wrap;\n",
              "      gap: 12px;\n",
              "    }\n",
              "\n",
              "    .colab-df-convert {\n",
              "      background-color: #E8F0FE;\n",
              "      border: none;\n",
              "      border-radius: 50%;\n",
              "      cursor: pointer;\n",
              "      display: none;\n",
              "      fill: #1967D2;\n",
              "      height: 32px;\n",
              "      padding: 0 0 0 0;\n",
              "      width: 32px;\n",
              "    }\n",
              "\n",
              "    .colab-df-convert:hover {\n",
              "      background-color: #E2EBFA;\n",
              "      box-shadow: 0px 1px 2px rgba(60, 64, 67, 0.3), 0px 1px 3px 1px rgba(60, 64, 67, 0.15);\n",
              "      fill: #174EA6;\n",
              "    }\n",
              "\n",
              "    [theme=dark] .colab-df-convert {\n",
              "      background-color: #3B4455;\n",
              "      fill: #D2E3FC;\n",
              "    }\n",
              "\n",
              "    [theme=dark] .colab-df-convert:hover {\n",
              "      background-color: #434B5C;\n",
              "      box-shadow: 0px 1px 3px 1px rgba(0, 0, 0, 0.15);\n",
              "      filter: drop-shadow(0px 1px 2px rgba(0, 0, 0, 0.3));\n",
              "      fill: #FFFFFF;\n",
              "    }\n",
              "  </style>\n",
              "\n",
              "      <script>\n",
              "        const buttonEl =\n",
              "          document.querySelector('#df-7120b467-fa2b-4dfc-830b-5b37b7426f77 button.colab-df-convert');\n",
              "        buttonEl.style.display =\n",
              "          google.colab.kernel.accessAllowed ? 'block' : 'none';\n",
              "\n",
              "        async function convertToInteractive(key) {\n",
              "          const element = document.querySelector('#df-7120b467-fa2b-4dfc-830b-5b37b7426f77');\n",
              "          const dataTable =\n",
              "            await google.colab.kernel.invokeFunction('convertToInteractive',\n",
              "                                                     [key], {});\n",
              "          if (!dataTable) return;\n",
              "\n",
              "          const docLinkHtml = 'Like what you see? Visit the ' +\n",
              "            '<a target=\"_blank\" href=https://colab.research.google.com/notebooks/data_table.ipynb>data table notebook</a>'\n",
              "            + ' to learn more about interactive tables.';\n",
              "          element.innerHTML = '';\n",
              "          dataTable['output_type'] = 'display_data';\n",
              "          await google.colab.output.renderOutput(dataTable, element);\n",
              "          const docLink = document.createElement('div');\n",
              "          docLink.innerHTML = docLinkHtml;\n",
              "          element.appendChild(docLink);\n",
              "        }\n",
              "      </script>\n",
              "    </div>\n",
              "  </div>\n",
              "  "
            ]
          },
          "metadata": {},
          "execution_count": 75
        },
        {
          "output_type": "display_data",
          "data": {
            "text/plain": [
              "<Figure size 432x288 with 2 Axes>"
            ],
            "image/png": "[encoded data removed]"
          },
          "metadata": {
            "needs_background": "light"
          }
        }
      ]
    },
    {
      "cell_type": "code",
      "source": [
        "print(classification_report(y_test,y_pred_svm))"
      ],
      "metadata": {
        "colab": {
          "base_uri": "https://localhost:8080/"
        },
        "id": "2OE-dwwuchfh",
        "outputId": "78198c1f-c371-41bd-b4f2-e73935ac7f18"
      },
      "execution_count": 76,
      "outputs": [
        {
          "output_type": "stream",
          "name": "stdout",
          "text": [
            "              precision    recall  f1-score   support\n",
            "\n",
            "         0.0       0.98      0.91      0.94      2681\n",
            "         1.0       0.96      0.99      0.98      6714\n",
            "\n",
            "    accuracy                           0.97      9395\n",
            "   macro avg       0.97      0.95      0.96      9395\n",
            "weighted avg       0.97      0.97      0.97      9395\n",
            "\n"
          ]
        }
      ]
    },
    {
      "cell_type": "markdown",
      "source": [
        "## Decision Tree"
      ],
      "metadata": {
        "id": "hpo99PRGDOkV"
      }
    },
    {
      "cell_type": "code",
      "source": [
        "from sklearn import tree"
      ],
      "metadata": {
        "id": "LRk95nDIDgmp"
      },
      "execution_count": 77,
      "outputs": []
    },
    {
      "cell_type": "markdown",
      "source": [
        "### Con criterion=\"Gini\""
      ],
      "metadata": {
        "id": "ObeXxV0nBTWo"
      }
    },
    {
      "cell_type": "code",
      "source": [
        "clf = tree.DecisionTreeClassifier()\n",
        "clf.fit(X_train,y_train)"
      ],
      "metadata": {
        "colab": {
          "base_uri": "https://localhost:8080/"
        },
        "id": "dPwLKHhcWTwg",
        "outputId": "714ff312-8204-45fc-d5f7-cbce5578c0c2"
      },
      "execution_count": 78,
      "outputs": [
        {
          "output_type": "execute_result",
          "data": {
            "text/plain": [
              "DecisionTreeClassifier()"
            ]
          },
          "metadata": {},
          "execution_count": 78
        }
      ]
    },
    {
      "cell_type": "code",
      "source": [
        "prediction=clf.predict(X_test)\n",
        "cm=confusion_matrix(y_test,prediction)\n",
        "disp = ConfusionMatrixDisplay(confusion_matrix=cm, display_labels=classes)\n",
        "disp.plot(cmap=plt.cm.Blues)"
      ],
      "metadata": {
        "colab": {
          "base_uri": "https://localhost:8080/",
          "height": 296
        },
        "id": "7DfHMTHzWbS6",
        "outputId": "a5f4fd56-8b5b-4644-d541-f89fa617d5bc"
      },
      "execution_count": 79,
      "outputs": [
        {
          "output_type": "execute_result",
          "data": {
            "text/plain": [
              "<sklearn.metrics._plot.confusion_matrix.ConfusionMatrixDisplay at 0x7f40bf92e410>"
            ]
          },
          "metadata": {},
          "execution_count": 79
        },
        {
          "output_type": "display_data",
          "data": {
            "text/plain": [
              "<Figure size 432x288 with 2 Axes>"
            ],
            "image/png": "[encoded data removed]"
          },
          "metadata": {
            "needs_background": "light"
          }
        }
      ]
    },
    {
      "cell_type": "code",
      "source": [
        "print(classification_report(y_test,prediction))"
      ],
      "metadata": {
        "colab": {
          "base_uri": "https://localhost:8080/"
        },
        "id": "9Z24PxJRWi2P",
        "outputId": "904e3a22-5cf5-41c7-c34b-efa14017d7a7"
      },
      "execution_count": 80,
      "outputs": [
        {
          "output_type": "stream",
          "name": "stdout",
          "text": [
            "              precision    recall  f1-score   support\n",
            "\n",
            "         0.0       1.00      1.00      1.00      2681\n",
            "         1.0       1.00      1.00      1.00      6714\n",
            "\n",
            "    accuracy                           1.00      9395\n",
            "   macro avg       1.00      1.00      1.00      9395\n",
            "weighted avg       1.00      1.00      1.00      9395\n",
            "\n"
          ]
        }
      ]
    },
    {
      "cell_type": "code",
      "source": [
        "scoring = ['precision_macro', 'recall_macro','f1_macro']\n",
        "clf = tree.DecisionTreeClassifier()\n",
        "accuracy = cross_val_score(clf, X_train, y_train, cv=10)\n",
        "scores = cross_validate(clf, X_train,y_train, scoring=scoring, cv=10)"
      ],
      "metadata": {
        "id": "65hhwBB9W7M0"
      },
      "execution_count": 81,
      "outputs": []
    },
    {
      "cell_type": "code",
      "source": [
        "accuracy"
      ],
      "metadata": {
        "colab": {
          "base_uri": "https://localhost:8080/"
        },
        "id": "ojwC7K4FWo34",
        "outputId": "b82498dd-e367-4bac-81a0-b3ca8efbd3b4"
      },
      "execution_count": 82,
      "outputs": [
        {
          "output_type": "execute_result",
          "data": {
            "text/plain": [
              "array([0.99962434, 0.99981217, 0.99981217, 1.        , 0.99981217,\n",
              "       0.99981214, 1.        , 1.        , 0.99981214, 0.99981214])"
            ]
          },
          "metadata": {},
          "execution_count": 82
        }
      ]
    },
    {
      "cell_type": "code",
      "source": [
        "accuracy.mean()"
      ],
      "metadata": {
        "colab": {
          "base_uri": "https://localhost:8080/"
        },
        "id": "uwKovsYEWp1i",
        "outputId": "c652c3f5-0e0c-4490-b1f0-9248a61a7f50"
      },
      "execution_count": 83,
      "outputs": [
        {
          "output_type": "execute_result",
          "data": {
            "text/plain": [
              "0.9998497264539452"
            ]
          },
          "metadata": {},
          "execution_count": 83
        }
      ]
    },
    {
      "cell_type": "code",
      "source": [
        "for score in scores:\n",
        "  print(f\"{score} mean: {scores[score].mean()}\")"
      ],
      "metadata": {
        "colab": {
          "base_uri": "https://localhost:8080/"
        },
        "id": "W5mXa1acW-nJ",
        "outputId": "525f4879-6928-4ee6-9c44-cb5f9d6ccfe1"
      },
      "execution_count": 84,
      "outputs": [
        {
          "output_type": "stream",
          "name": "stdout",
          "text": [
            "fit_time mean: 0.23521714210510253\n",
            "score_time mean: 0.010986661911010743\n",
            "test_precision_macro mean: 0.9997829491476015\n",
            "test_recall_macro mean: 0.9998026392460584\n",
            "test_f1_macro mean: 0.9997927502525339\n"
          ]
        }
      ]
    },
    {
      "cell_type": "markdown",
      "source": [
        "### Con criterion=\"Entropy\""
      ],
      "metadata": {
        "id": "GK_vc5I9BajI"
      }
    },
    {
      "cell_type": "code",
      "source": [
        "clf2 = tree.DecisionTreeClassifier(criterion='entropy')\n",
        "clf2.fit(X_train,y_train)\n",
        "prediction2 = clf2.predict(X_test)"
      ],
      "metadata": {
        "id": "42C8U_c0XE-R"
      },
      "execution_count": 85,
      "outputs": []
    },
    {
      "cell_type": "code",
      "source": [
        "cm=confusion_matrix(y_test,prediction2)\n",
        "disp = ConfusionMatrixDisplay(confusion_matrix=cm, display_labels=classes)\n",
        "disp.plot(cmap=plt.cm.Blues)"
      ],
      "metadata": {
        "colab": {
          "base_uri": "https://localhost:8080/",
          "height": 296
        },
        "id": "UaEU4u1_XN6s",
        "outputId": "c1d8220b-9534-4b46-ba74-37b8bc2f281b"
      },
      "execution_count": 86,
      "outputs": [
        {
          "output_type": "execute_result",
          "data": {
            "text/plain": [
              "<sklearn.metrics._plot.confusion_matrix.ConfusionMatrixDisplay at 0x7f40bf65f690>"
            ]
          },
          "metadata": {},
          "execution_count": 86
        },
        {
          "output_type": "display_data",
          "data": {
            "text/plain": [
              "<Figure size 432x288 with 2 Axes>"
            ],
            "image/png": "[encoded data removed]"
          },
          "metadata": {
            "needs_background": "light"
          }
        }
      ]
    },
    {
      "cell_type": "code",
      "source": [
        "print(classification_report(y_test,prediction2))"
      ],
      "metadata": {
        "colab": {
          "base_uri": "https://localhost:8080/"
        },
        "id": "gFmj79dCXkXF",
        "outputId": "93af524e-d2f5-48c7-93cf-c98605a08c18"
      },
      "execution_count": 87,
      "outputs": [
        {
          "output_type": "stream",
          "name": "stdout",
          "text": [
            "              precision    recall  f1-score   support\n",
            "\n",
            "         0.0       1.00      1.00      1.00      2681\n",
            "         1.0       1.00      1.00      1.00      6714\n",
            "\n",
            "    accuracy                           1.00      9395\n",
            "   macro avg       1.00      1.00      1.00      9395\n",
            "weighted avg       1.00      1.00      1.00      9395\n",
            "\n"
          ]
        }
      ]
    },
    {
      "cell_type": "code",
      "source": [
        "scoring = ['precision_macro', 'recall_macro','f1_macro']\n",
        "clf2 = tree.DecisionTreeClassifier(criterion='entropy')\n",
        "accuracy2 = cross_val_score(clf2, X_train, y_train, cv=10)\n",
        "scores2 = cross_validate(clf2, X_train,y_train, scoring=scoring, cv=10)"
      ],
      "metadata": {
        "id": "I5P01m7yXntm"
      },
      "execution_count": 88,
      "outputs": []
    },
    {
      "cell_type": "code",
      "source": [
        "accuracy2"
      ],
      "metadata": {
        "colab": {
          "base_uri": "https://localhost:8080/"
        },
        "id": "FjXw2a_UXteA",
        "outputId": "44b8ba5d-95ec-40c2-85bd-4824e0827e17"
      },
      "execution_count": 89,
      "outputs": [
        {
          "output_type": "execute_result",
          "data": {
            "text/plain": [
              "array([0.99962434, 1.        , 0.99981217, 0.99962434, 1.        ,\n",
              "       0.99943641, 0.99981214, 1.        , 0.99962427, 0.99962427])"
            ]
          },
          "metadata": {},
          "execution_count": 89
        }
      ]
    },
    {
      "cell_type": "code",
      "source": [
        "accuracy2.mean()"
      ],
      "metadata": {
        "colab": {
          "base_uri": "https://localhost:8080/"
        },
        "id": "2W6vIFazXxwp",
        "outputId": "1c2c06cf-1a5f-4ce1-960d-e08627c51ff5"
      },
      "execution_count": 90,
      "outputs": [
        {
          "output_type": "execute_result",
          "data": {
            "text/plain": [
              "0.9997557944607083"
            ]
          },
          "metadata": {},
          "execution_count": 90
        }
      ]
    },
    {
      "cell_type": "code",
      "source": [
        "criterios = ['entropy', 'gini']\n",
        "\n",
        "train_accuracy =np.empty(len(criterios))\n",
        "test_accuracy = np.empty(len(criterios))\n",
        "\n",
        "for i,criterio in enumerate(criterios):\n",
        "    clf = tree.DecisionTreeClassifier(criterion= criterio)\n",
        "    clf.fit(X_train, y_train)\n",
        "    train_accuracy[i] = clf.score(X_train, y_train)\n",
        "    test_accuracy[i] = clf.score(X_test, y_test)"
      ],
      "metadata": {
        "id": "gCFPmyrjX5S2"
      },
      "execution_count": 91,
      "outputs": []
    },
    {
      "cell_type": "code",
      "source": [
        "plt.title('Decision Tree')\n",
        "plt.plot(criterios, test_accuracy, label='Testing Accuracy')\n",
        "plt.plot(criterios, train_accuracy, label='Training accuracy')\n",
        "plt.legend()\n",
        "plt.xlabel('Criterio')\n",
        "plt.ylabel('Accuracy')\n",
        "plt.show()"
      ],
      "metadata": {
        "colab": {
          "base_uri": "https://localhost:8080/",
          "height": 295
        },
        "id": "0zAIgJdMX6hO",
        "outputId": "c3c7af7c-615f-453b-ef11-d3b91015d973"
      },
      "execution_count": 92,
      "outputs": [
        {
          "output_type": "display_data",
          "data": {
            "text/plain": [
              "<Figure size 432x288 with 1 Axes>"
            ],
            "image/png": "[encoded data removed]"
          },
          "metadata": {
            "needs_background": "light"
          }
        }
      ]
    },
    {
      "cell_type": "markdown",
      "source": [
        "## Neural Network: Multi-Layer Perceptron"
      ],
      "metadata": {
        "id": "C61Pw6G7DbN1"
      }
    },
    {
      "cell_type": "markdown",
      "source": [
        "### Escogiendo el parámetro del número de capas ocultas en la red"
      ],
      "metadata": {
        "id": "z2CA2MxOYab9"
      }
    },
    {
      "cell_type": "code",
      "source": [
        "from sklearn.neural_network import MLPClassifier"
      ],
      "metadata": {
        "id": "rXzAXiQeDfr-"
      },
      "execution_count": 93,
      "outputs": []
    },
    {
      "cell_type": "markdown",
      "source": [
        "Se hace el rango de 2 a 4 ya que el tiempo de entrenamiento es demasiado largo (Se hicieron pruebas con más capas pero el mejor sigue siendo 4)"
      ],
      "metadata": {
        "id": "GpGaMzEtYfzf"
      }
    },
    {
      "cell_type": "code",
      "source": [
        "param_grid = {'hidden_layer_sizes':np.arange(2,5)}\n",
        "mlp = MLPClassifier(solver='adam',alpha=1e-5,random_state=1, max_iter=600)\n",
        "mlp_cv= GridSearchCV(mlp,param_grid,cv=3,n_jobs=-1,verbose=10)\n",
        "mlp_cv.fit(X_train,y_train)"
      ],
      "metadata": {
        "colab": {
          "base_uri": "https://localhost:8080/"
        },
        "id": "cf4ANA76My-r",
        "outputId": "bed07d2c-5403-4b1e-eb70-3c7948f7e3b9"
      },
      "execution_count": 94,
      "outputs": [
        {
          "output_type": "stream",
          "name": "stdout",
          "text": [
            "Fitting 3 folds for each of 3 candidates, totalling 9 fits\n"
          ]
        },
        {
          "output_type": "execute_result",
          "data": {
            "text/plain": [
              "GridSearchCV(cv=3,\n",
              "             estimator=MLPClassifier(alpha=1e-05, max_iter=600, random_state=1),\n",
              "             n_jobs=-1, param_grid={'hidden_layer_sizes': array([2, 3, 4])},\n",
              "             verbose=10)"
            ]
          },
          "metadata": {},
          "execution_count": 94
        }
      ]
    },
    {
      "cell_type": "code",
      "source": [
        "print(mlp_cv.best_score_,mlp_cv.best_params_)"
      ],
      "metadata": {
        "colab": {
          "base_uri": "https://localhost:8080/"
        },
        "id": "aUZcLGuFUw7v",
        "outputId": "e5155a98-ec86-467d-a0da-f5d6dcc48a39"
      },
      "execution_count": 95,
      "outputs": [
        {
          "output_type": "stream",
          "name": "stdout",
          "text": [
            "0.9986287217056447 {'hidden_layer_sizes': 4}\n"
          ]
        }
      ]
    },
    {
      "cell_type": "markdown",
      "source": [
        "### Haciendo validación cruzada con el parámetro escogido"
      ],
      "metadata": {
        "id": "vXwLdTg8YZsg"
      }
    },
    {
      "cell_type": "code",
      "source": [
        "scoring = ['precision_macro', 'recall_macro','f1_macro']\n",
        "mlp = MLPClassifier(solver='adam', alpha=1e-5, hidden_layer_sizes = 4, random_state=1, max_iter=600)\n",
        "accuracy = cross_val_score(mlp, X_train, y_train, cv=3)\n",
        "scores = cross_validate(mlp, X_train, y_train, scoring=scoring, cv=3)"
      ],
      "metadata": {
        "id": "E1nU8E-gVPOR"
      },
      "execution_count": 96,
      "outputs": []
    },
    {
      "cell_type": "code",
      "source": [
        "accuracy"
      ],
      "metadata": {
        "colab": {
          "base_uri": "https://localhost:8080/"
        },
        "id": "I8-cnpOqjAA_",
        "outputId": "5982eca5-e2e7-415c-f8a3-bcecc10c984c"
      },
      "execution_count": 97,
      "outputs": [
        {
          "output_type": "execute_result",
          "data": {
            "text/plain": [
              "array([0.99864751, 0.99847844, 0.99876021])"
            ]
          },
          "metadata": {},
          "execution_count": 97
        }
      ]
    },
    {
      "cell_type": "code",
      "source": [
        "accuracy.mean()"
      ],
      "metadata": {
        "colab": {
          "base_uri": "https://localhost:8080/"
        },
        "id": "LQzWZobDjEPh",
        "outputId": "a89827a4-2680-4418-a9c1-7439360e5b2b"
      },
      "execution_count": 98,
      "outputs": [
        {
          "output_type": "execute_result",
          "data": {
            "text/plain": [
              "0.9986287217056447"
            ]
          },
          "metadata": {},
          "execution_count": 98
        }
      ]
    },
    {
      "cell_type": "code",
      "source": [
        "for score in scores:\n",
        "  print(f\"{score} mean: {scores[score].mean()}\")"
      ],
      "metadata": {
        "colab": {
          "base_uri": "https://localhost:8080/"
        },
        "id": "g4tkU33-jMQQ",
        "outputId": "476f896e-7126-4820-ec56-0872b88b49d8"
      },
      "execution_count": 99,
      "outputs": [
        {
          "output_type": "stream",
          "name": "stdout",
          "text": [
            "fit_time mean: 46.49333922068278\n",
            "score_time mean: 0.049516757329305015\n",
            "test_precision_macro mean: 0.9989428843507615\n",
            "test_recall_macro mean: 0.997696264877621\n",
            "test_f1_macro mean: 0.998316840480095\n"
          ]
        }
      ]
    },
    {
      "cell_type": "markdown",
      "source": [
        "### Análisis de resultados con los parámetros escogidos"
      ],
      "metadata": {
        "id": "qdUdYa2Rmet2"
      }
    },
    {
      "cell_type": "code",
      "source": [
        "mlp.fit(X_train, y_train)"
      ],
      "metadata": {
        "colab": {
          "base_uri": "https://localhost:8080/"
        },
        "id": "gDFbQUUHmikR",
        "outputId": "35ae977a-0c17-4e0b-c375-c7afa3a625d7"
      },
      "execution_count": 100,
      "outputs": [
        {
          "output_type": "execute_result",
          "data": {
            "text/plain": [
              "MLPClassifier(alpha=1e-05, hidden_layer_sizes=4, max_iter=600, random_state=1)"
            ]
          },
          "metadata": {},
          "execution_count": 100
        }
      ]
    },
    {
      "cell_type": "code",
      "source": [
        "y_pred = mlp.predict(X_test)\n",
        "cm=confusion_matrix(y_test,y_pred)\n",
        "classes = np.unique(Y)\n",
        "disp = ConfusionMatrixDisplay(confusion_matrix=cm, display_labels=classes)\n",
        "disp.plot(cmap=plt.cm.Blues)\n",
        "pd.crosstab(y_test, y_pred, rownames=['True'], colnames=['Predicted'], margins=True)"
      ],
      "metadata": {
        "colab": {
          "base_uri": "https://localhost:8080/",
          "height": 437
        },
        "id": "zI8ZM54_mt-a",
        "outputId": "cb127e17-704b-4c98-81e6-a4e7929b913b"
      },
      "execution_count": 101,
      "outputs": [
        {
          "output_type": "execute_result",
          "data": {
            "text/plain": [
              "Predicted   0.0   1.0   All\n",
              "True                       \n",
              "0.0        2674     7  2681\n",
              "1.0           1  6713  6714\n",
              "All        2675  6720  9395"
            ],
            "text/html": [
              "\n",
              "  <div id=\"df-a1ef28cd-3fa8-4544-a3f6-1ea1e8b9e9c6\">\n",
              "    <div class=\"colab-df-container\">\n",
              "      <div>\n",
              "<style scoped>\n",
              "    .dataframe tbody tr th:only-of-type {\n",
              "        vertical-align: middle;\n",
              "    }\n",
              "\n",
              "    .dataframe tbody tr th {\n",
              "        vertical-align: top;\n",
              "    }\n",
              "\n",
              "    .dataframe thead th {\n",
              "        text-align: right;\n",
              "    }\n",
              "</style>\n",
              "<table border=\"1\" class=\"dataframe\">\n",
              "  <thead>\n",
              "    <tr style=\"text-align: right;\">\n",
              "      <th>Predicted</th>\n",
              "      <th>0.0</th>\n",
              "      <th>1.0</th>\n",
              "      <th>All</th>\n",
              "    </tr>\n",
              "    <tr>\n",
              "      <th>True</th>\n",
              "      <th></th>\n",
              "      <th></th>\n",
              "      <th></th>\n",
              "    </tr>\n",
              "  </thead>\n",
              "  <tbody>\n",
              "    <tr>\n",
              "      <th>0.0</th>\n",
              "      <td>2674</td>\n",
              "      <td>7</td>\n",
              "      <td>2681</td>\n",
              "    </tr>\n",
              "    <tr>\n",
              "      <th>1.0</th>\n",
              "      <td>1</td>\n",
              "      <td>6713</td>\n",
              "      <td>6714</td>\n",
              "    </tr>\n",
              "    <tr>\n",
              "      <th>All</th>\n",
              "      <td>2675</td>\n",
              "      <td>6720</td>\n",
              "      <td>9395</td>\n",
              "    </tr>\n",
              "  </tbody>\n",
              "</table>\n",
              "</div>\n",
              "      <button class=\"colab-df-convert\" onclick=\"convertToInteractive('df-a1ef28cd-3fa8-4544-a3f6-1ea1e8b9e9c6')\"\n",
              "              title=\"Convert this dataframe to an interactive table.\"\n",
              "              style=\"display:none;\">\n",
              "        \n",
              "  <svg xmlns=\"http://www.w3.org/2000/svg\" height=\"24px\"viewBox=\"0 0 24 24\"\n",
              "       width=\"24px\">\n",
              "    <path d=\"M0 0h24v24H0V0z\" fill=\"none\"/>\n",
              "    <path d=\"M18.56 5.44l.94 2.06.94-2.06 2.06-.94-2.06-.94-.94-2.06-.94 2.06-2.06.94zm-11 1L8.5 8.5l.94-2.06 2.06-.94-2.06-.94L8.5 2.5l-.94 2.06-2.06.94zm10 10l.94 2.06.94-2.06 2.06-.94-2.06-.94-.94-2.06-.94 2.06-2.06.94z\"/><path d=\"M17.41 7.96l-1.37-1.37c-.4-.4-.92-.59-1.43-.59-.52 0-1.04.2-1.43.59L10.3 9.45l-7.72 7.72c-.78.78-.78 2.05 0 2.83L4 21.41c.39.39.9.59 1.41.59.51 0 1.02-.2 1.41-.59l7.78-7.78 2.81-2.81c.8-.78.8-2.07 0-2.86zM5.41 20L4 18.59l7.72-7.72 1.47 1.35L5.41 20z\"/>\n",
              "  </svg>\n",
              "      </button>\n",
              "      \n",
              "  <style>\n",
              "    .colab-df-container {\n",
              "      display:flex;\n",
              "      flex-wrap:wrap;\n",
              "      gap: 12px;\n",
              "    }\n",
              "\n",
              "    .colab-df-convert {\n",
              "      background-color: #E8F0FE;\n",
              "      border: none;\n",
              "      border-radius: 50%;\n",
              "      cursor: pointer;\n",
              "      display: none;\n",
              "      fill: #1967D2;\n",
              "      height: 32px;\n",
              "      padding: 0 0 0 0;\n",
              "      width: 32px;\n",
              "    }\n",
              "\n",
              "    .colab-df-convert:hover {\n",
              "      background-color: #E2EBFA;\n",
              "      box-shadow: 0px 1px 2px rgba(60, 64, 67, 0.3), 0px 1px 3px 1px rgba(60, 64, 67, 0.15);\n",
              "      fill: #174EA6;\n",
              "    }\n",
              "\n",
              "    [theme=dark] .colab-df-convert {\n",
              "      background-color: #3B4455;\n",
              "      fill: #D2E3FC;\n",
              "    }\n",
              "\n",
              "    [theme=dark] .colab-df-convert:hover {\n",
              "      background-color: #434B5C;\n",
              "      box-shadow: 0px 1px 3px 1px rgba(0, 0, 0, 0.15);\n",
              "      filter: drop-shadow(0px 1px 2px rgba(0, 0, 0, 0.3));\n",
              "      fill: #FFFFFF;\n",
              "    }\n",
              "  </style>\n",
              "\n",
              "      <script>\n",
              "        const buttonEl =\n",
              "          document.querySelector('#df-a1ef28cd-3fa8-4544-a3f6-1ea1e8b9e9c6 button.colab-df-convert');\n",
              "        buttonEl.style.display =\n",
              "          google.colab.kernel.accessAllowed ? 'block' : 'none';\n",
              "\n",
              "        async function convertToInteractive(key) {\n",
              "          const element = document.querySelector('#df-a1ef28cd-3fa8-4544-a3f6-1ea1e8b9e9c6');\n",
              "          const dataTable =\n",
              "            await google.colab.kernel.invokeFunction('convertToInteractive',\n",
              "                                                     [key], {});\n",
              "          if (!dataTable) return;\n",
              "\n",
              "          const docLinkHtml = 'Like what you see? Visit the ' +\n",
              "            '<a target=\"_blank\" href=https://colab.research.google.com/notebooks/data_table.ipynb>data table notebook</a>'\n",
              "            + ' to learn more about interactive tables.';\n",
              "          element.innerHTML = '';\n",
              "          dataTable['output_type'] = 'display_data';\n",
              "          await google.colab.output.renderOutput(dataTable, element);\n",
              "          const docLink = document.createElement('div');\n",
              "          docLink.innerHTML = docLinkHtml;\n",
              "          element.appendChild(docLink);\n",
              "        }\n",
              "      </script>\n",
              "    </div>\n",
              "  </div>\n",
              "  "
            ]
          },
          "metadata": {},
          "execution_count": 101
        },
        {
          "output_type": "display_data",
          "data": {
            "text/plain": [
              "<Figure size 432x288 with 2 Axes>"
            ],
            "image/png": "[encoded data removed]"
          },
          "metadata": {
            "needs_background": "light"
          }
        }
      ]
    },
    {
      "cell_type": "code",
      "source": [
        "print(f'acurracy: {(2674+6713)/9395}')"
      ],
      "metadata": {
        "colab": {
          "base_uri": "https://localhost:8080/"
        },
        "id": "qnuy0TGwnSet",
        "outputId": "3dc68b51-03df-4cb2-b8f8-16e5652066d4"
      },
      "execution_count": 102,
      "outputs": [
        {
          "output_type": "stream",
          "name": "stdout",
          "text": [
            "acurracy: 0.9991484832357637\n"
          ]
        }
      ]
    },
    {
      "cell_type": "code",
      "source": [
        "print(classification_report(y_test,y_pred))"
      ],
      "metadata": {
        "colab": {
          "base_uri": "https://localhost:8080/"
        },
        "id": "If_JR_E2m20Q",
        "outputId": "d5b58a9d-a815-4835-8b55-e2a40bf88f93"
      },
      "execution_count": 103,
      "outputs": [
        {
          "output_type": "stream",
          "name": "stdout",
          "text": [
            "              precision    recall  f1-score   support\n",
            "\n",
            "         0.0       1.00      1.00      1.00      2681\n",
            "         1.0       1.00      1.00      1.00      6714\n",
            "\n",
            "    accuracy                           1.00      9395\n",
            "   macro avg       1.00      1.00      1.00      9395\n",
            "weighted avg       1.00      1.00      1.00      9395\n",
            "\n"
          ]
        }
      ]
    },
    {
      "cell_type": "markdown",
      "source": [
        "## Comparación de todos los métodos con validación cruzada estratificada"
      ],
      "metadata": {
        "id": "jXCGed9LDmSy"
      }
    },
    {
      "cell_type": "code",
      "source": [
        "list_Classifiers=[\n",
        "  KNeighborsClassifier(n_neighbors=2, metric='euclidean'),\n",
        "  GaussianNB(),\n",
        "  SVC(kernel='rbf'),\n",
        "  tree.DecisionTreeClassifier(criterion='entropy'),\n",
        "  MLPClassifier(solver='adam', hidden_layer_sizes=4, alpha=1e-5,random_state=1, max_iter=600)\n",
        "]"
      ],
      "metadata": {
        "id": "rGXOLaJkDspt"
      },
      "execution_count": 104,
      "outputs": []
    },
    {
      "cell_type": "code",
      "source": [
        "X_copy = X.copy()\n",
        "Y_copy = Y.copy()\n",
        "X_copy = ss.fit_transform(X_copy)"
      ],
      "metadata": {
        "id": "5FnrPUXCwnAx"
      },
      "execution_count": 105,
      "outputs": []
    },
    {
      "cell_type": "code",
      "source": [
        "from sklearn.base import clone\n",
        "from sklearn.model_selection import StratifiedKFold\n",
        "from sklearn.metrics import f1_score, precision_score, recall_score\n",
        "from statistics import mean, stdev\n",
        "import itertools\n",
        "\n",
        "def cvClassifiers(X,Y, list_Classifiers):\n",
        "  skf = StratifiedKFold(n_splits=10)\n",
        "  scores = [[] for c in list_Classifiers]\n",
        "  predicted_y=[[] for c in list_Classifiers]\n",
        "  real_y=[[] for c in list_Classifiers]\n",
        "  for train_index, test_index in skf.split(X_copy, Y_copy):\n",
        "    for i,c in enumerate(list_Classifiers):    \n",
        "      model = clone(c)\n",
        "      X_train_cv, X_test_cv = X_copy[train_index], X_copy[test_index]\n",
        "      y_train_cv, y_test_cv = Y_copy[train_index], Y_copy[test_index]\n",
        "      model.fit(X_train_cv, y_train_cv)\n",
        "      scores[i].append(model.score(X_test_cv,y_test_cv))\n",
        "      py=model.predict(X_test_cv)\n",
        "      predicted_y[i]=list(itertools.chain(predicted_y[i],py.flatten().tolist()))\n",
        "      real_y[i]=list(itertools.chain(real_y[i],y_test_cv.flatten().tolist()))\n",
        "  accuracy=[mean(sc) for sc in scores]\n",
        "  cm=[confusion_matrix(real_y[i],predicted_y[i]) for i in range(0,len(list_Classifiers))]\n",
        "  f1=[f1_score(real_y[i],predicted_y[i]) for i in range(0,len(list_Classifiers))]\n",
        "  precision=[precision_score(real_y[i],predicted_y[i]) for i in range(0,len(list_Classifiers))]\n",
        "  recall=[recall_score(real_y[i],predicted_y[i]) for i in range(0,len(list_Classifiers))]\n",
        "  return accuracy, f1, precision, recall, cm"
      ],
      "metadata": {
        "id": "iuO--3QEoufw"
      },
      "execution_count": 106,
      "outputs": []
    },
    {
      "cell_type": "code",
      "source": [
        "acc, f1, precision, recall, c =cvClassifiers(X_train, y_train,list_Classifiers)"
      ],
      "metadata": {
        "id": "h9PwoN4NpL53"
      },
      "execution_count": 108,
      "outputs": []
    },
    {
      "cell_type": "code",
      "source": [
        "clfrs = ['K-NN','Naive Bayes', 'Support Vector Machine', 'Decision Tree', 'Multi-Layer Perceptron']"
      ],
      "metadata": {
        "id": "vtBAeg596lcN"
      },
      "execution_count": 109,
      "outputs": []
    },
    {
      "cell_type": "code",
      "source": [
        "for i in range(0,len(c)):\n",
        "  disp = ConfusionMatrixDisplay(confusion_matrix=c[i])\n",
        "  disp.plot(cmap=plt.cm.Blues)\n",
        "  disp.ax_.set_title(clfrs[i])"
      ],
      "metadata": {
        "colab": {
          "base_uri": "https://localhost:8080/",
          "height": 1000
        },
        "id": "hGik5HLupQWT",
        "outputId": "67f012a1-5217-4f9b-8664-0c90050e2cd8"
      },
      "execution_count": 111,
      "outputs": [
        {
          "output_type": "display_data",
          "data": {
            "text/plain": [
              "<Figure size 432x288 with 2 Axes>"
            ],
            "image/png": "[encoded data removed]"
          },
          "metadata": {
            "needs_background": "light"
          }
        },
        {
          "output_type": "display_data",
          "data": {
            "text/plain": [
              "<Figure size 432x288 with 2 Axes>"
            ],
            "image/png": "[encoded data removed]"
          },
          "metadata": {
            "needs_background": "light"
          }
        },
        {
          "output_type": "display_data",
          "data": {
            "text/plain": [
              "<Figure size 432x288 with 2 Axes>"
            ],
            "image/png": "[encoded data removed]"
          },
          "metadata": {
            "needs_background": "light"
          }
        },
        {
          "output_type": "display_data",
          "data": {
            "text/plain": [
              "<Figure size 432x288 with 2 Axes>"
            ],
            "image/png": "[encoded data removed]"
          },
          "metadata": {
            "needs_background": "light"
          }
        },
        {
          "output_type": "display_data",
          "data": {
            "text/plain": [
              "<Figure size 432x288 with 2 Axes>"
            ],
            "image/png": "[encoded data removed]"
          },
          "metadata": {
            "needs_background": "light"
          }
        }
      ]
    },
    {
      "cell_type": "code",
      "source": [
        "stats = {'Model': clfrs, 'Accuracy': acc, 'F1':f1, 'precision':precision, 'recall':recall}"
      ],
      "metadata": {
        "id": "JVOayQY3nrkm"
      },
      "execution_count": 120,
      "outputs": []
    },
    {
      "cell_type": "code",
      "source": [
        "statsDataFrame = pd.DataFrame(data = stats)"
      ],
      "metadata": {
        "id": "NnZKK1pZoLE4"
      },
      "execution_count": 121,
      "outputs": []
    },
    {
      "cell_type": "code",
      "source": [
        "statsDataFrame"
      ],
      "metadata": {
        "colab": {
          "base_uri": "https://localhost:8080/",
          "height": 206
        },
        "id": "WbRV2m_koRhg",
        "outputId": "ed8d37ea-35ae-4f58-ad22-1739c1acb7de"
      },
      "execution_count": 122,
      "outputs": [
        {
          "output_type": "execute_result",
          "data": {
            "text/plain": [
              "                    Model  Accuracy        F1  precision    recall\n",
              "0                    K-NN  0.873096  0.907212   0.949977  0.868132\n",
              "1             Naive Bayes  0.766134  0.856288   0.763374  0.974954\n",
              "2  Support Vector Machine  0.822513  0.872059   0.899281  0.846437\n",
              "3           Decision Tree  0.903177  0.927546   0.996867  0.867239\n",
              "4  Multi-Layer Perceptron  0.855564  0.891075   0.966311  0.826709"
            ],
            "text/html": [
              "\n",
              "  <div id=\"df-e68a7abf-e565-4501-8f8b-f2302c8fa505\">\n",
              "    <div class=\"colab-df-container\">\n",
              "      <div>\n",
              "<style scoped>\n",
              "    .dataframe tbody tr th:only-of-type {\n",
              "        vertical-align: middle;\n",
              "    }\n",
              "\n",
              "    .dataframe tbody tr th {\n",
              "        vertical-align: top;\n",
              "    }\n",
              "\n",
              "    .dataframe thead th {\n",
              "        text-align: right;\n",
              "    }\n",
              "</style>\n",
              "<table border=\"1\" class=\"dataframe\">\n",
              "  <thead>\n",
              "    <tr style=\"text-align: right;\">\n",
              "      <th></th>\n",
              "      <th>Model</th>\n",
              "      <th>Accuracy</th>\n",
              "      <th>F1</th>\n",
              "      <th>precision</th>\n",
              "      <th>recall</th>\n",
              "    </tr>\n",
              "  </thead>\n",
              "  <tbody>\n",
              "    <tr>\n",
              "      <th>0</th>\n",
              "      <td>K-NN</td>\n",
              "      <td>0.873096</td>\n",
              "      <td>0.907212</td>\n",
              "      <td>0.949977</td>\n",
              "      <td>0.868132</td>\n",
              "    </tr>\n",
              "    <tr>\n",
              "      <th>1</th>\n",
              "      <td>Naive Bayes</td>\n",
              "      <td>0.766134</td>\n",
              "      <td>0.856288</td>\n",
              "      <td>0.763374</td>\n",
              "      <td>0.974954</td>\n",
              "    </tr>\n",
              "    <tr>\n",
              "      <th>2</th>\n",
              "      <td>Support Vector Machine</td>\n",
              "      <td>0.822513</td>\n",
              "      <td>0.872059</td>\n",
              "      <td>0.899281</td>\n",
              "      <td>0.846437</td>\n",
              "    </tr>\n",
              "    <tr>\n",
              "      <th>3</th>\n",
              "      <td>Decision Tree</td>\n",
              "      <td>0.903177</td>\n",
              "      <td>0.927546</td>\n",
              "      <td>0.996867</td>\n",
              "      <td>0.867239</td>\n",
              "    </tr>\n",
              "    <tr>\n",
              "      <th>4</th>\n",
              "      <td>Multi-Layer Perceptron</td>\n",
              "      <td>0.855564</td>\n",
              "      <td>0.891075</td>\n",
              "      <td>0.966311</td>\n",
              "      <td>0.826709</td>\n",
              "    </tr>\n",
              "  </tbody>\n",
              "</table>\n",
              "</div>\n",
              "      <button class=\"colab-df-convert\" onclick=\"convertToInteractive('df-e68a7abf-e565-4501-8f8b-f2302c8fa505')\"\n",
              "              title=\"Convert this dataframe to an interactive table.\"\n",
              "              style=\"display:none;\">\n",
              "        \n",
              "  <svg xmlns=\"http://www.w3.org/2000/svg\" height=\"24px\"viewBox=\"0 0 24 24\"\n",
              "       width=\"24px\">\n",
              "    <path d=\"M0 0h24v24H0V0z\" fill=\"none\"/>\n",
              "    <path d=\"M18.56 5.44l.94 2.06.94-2.06 2.06-.94-2.06-.94-.94-2.06-.94 2.06-2.06.94zm-11 1L8.5 8.5l.94-2.06 2.06-.94-2.06-.94L8.5 2.5l-.94 2.06-2.06.94zm10 10l.94 2.06.94-2.06 2.06-.94-2.06-.94-.94-2.06-.94 2.06-2.06.94z\"/><path d=\"M17.41 7.96l-1.37-1.37c-.4-.4-.92-.59-1.43-.59-.52 0-1.04.2-1.43.59L10.3 9.45l-7.72 7.72c-.78.78-.78 2.05 0 2.83L4 21.41c.39.39.9.59 1.41.59.51 0 1.02-.2 1.41-.59l7.78-7.78 2.81-2.81c.8-.78.8-2.07 0-2.86zM5.41 20L4 18.59l7.72-7.72 1.47 1.35L5.41 20z\"/>\n",
              "  </svg>\n",
              "      </button>\n",
              "      \n",
              "  <style>\n",
              "    .colab-df-container {\n",
              "      display:flex;\n",
              "      flex-wrap:wrap;\n",
              "      gap: 12px;\n",
              "    }\n",
              "\n",
              "    .colab-df-convert {\n",
              "      background-color: #E8F0FE;\n",
              "      border: none;\n",
              "      border-radius: 50%;\n",
              "      cursor: pointer;\n",
              "      display: none;\n",
              "      fill: #1967D2;\n",
              "      height: 32px;\n",
              "      padding: 0 0 0 0;\n",
              "      width: 32px;\n",
              "    }\n",
              "\n",
              "    .colab-df-convert:hover {\n",
              "      background-color: #E2EBFA;\n",
              "      box-shadow: 0px 1px 2px rgba(60, 64, 67, 0.3), 0px 1px 3px 1px rgba(60, 64, 67, 0.15);\n",
              "      fill: #174EA6;\n",
              "    }\n",
              "\n",
              "    [theme=dark] .colab-df-convert {\n",
              "      background-color: #3B4455;\n",
              "      fill: #D2E3FC;\n",
              "    }\n",
              "\n",
              "    [theme=dark] .colab-df-convert:hover {\n",
              "      background-color: #434B5C;\n",
              "      box-shadow: 0px 1px 3px 1px rgba(0, 0, 0, 0.15);\n",
              "      filter: drop-shadow(0px 1px 2px rgba(0, 0, 0, 0.3));\n",
              "      fill: #FFFFFF;\n",
              "    }\n",
              "  </style>\n",
              "\n",
              "      <script>\n",
              "        const buttonEl =\n",
              "          document.querySelector('#df-e68a7abf-e565-4501-8f8b-f2302c8fa505 button.colab-df-convert');\n",
              "        buttonEl.style.display =\n",
              "          google.colab.kernel.accessAllowed ? 'block' : 'none';\n",
              "\n",
              "        async function convertToInteractive(key) {\n",
              "          const element = document.querySelector('#df-e68a7abf-e565-4501-8f8b-f2302c8fa505');\n",
              "          const dataTable =\n",
              "            await google.colab.kernel.invokeFunction('convertToInteractive',\n",
              "                                                     [key], {});\n",
              "          if (!dataTable) return;\n",
              "\n",
              "          const docLinkHtml = 'Like what you see? Visit the ' +\n",
              "            '<a target=\"_blank\" href=https://colab.research.google.com/notebooks/data_table.ipynb>data table notebook</a>'\n",
              "            + ' to learn more about interactive tables.';\n",
              "          element.innerHTML = '';\n",
              "          dataTable['output_type'] = 'display_data';\n",
              "          await google.colab.output.renderOutput(dataTable, element);\n",
              "          const docLink = document.createElement('div');\n",
              "          docLink.innerHTML = docLinkHtml;\n",
              "          element.appendChild(docLink);\n",
              "        }\n",
              "      </script>\n",
              "    </div>\n",
              "  </div>\n",
              "  "
            ]
          },
          "metadata": {},
          "execution_count": 122
        }
      ]
    }
  ]
}