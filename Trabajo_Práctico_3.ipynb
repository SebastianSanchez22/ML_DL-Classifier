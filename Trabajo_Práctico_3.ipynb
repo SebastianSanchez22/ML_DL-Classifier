{
  "nbformat": 4,
  "nbformat_minor": 0,
  "metadata": {
    "colab": {
      "provenance": [],
      "toc_visible": true,
      "collapsed_sections": [],
      "include_colab_link": true
    },
    "kernelspec": {
      "name": "python3",
      "display_name": "Python 3"
    },
    "language_info": {
      "name": "python"
    }
  },
  "cells": [
    {
      "cell_type": "markdown",
      "metadata": {
        "id": "view-in-github",
        "colab_type": "text"
      },
      "source": [
        "<a href=\"https://colab.research.google.com/github/SebastianSanchez22/ML_DL-Classifier/blob/main/Trabajo_Pr%C3%A1ctico_3.ipynb\" target=\"_parent\"><img src=\"https://colab.research.google.com/assets/colab-badge.svg\" alt=\"Open In Colab\"/></a>"
      ]
    },
    {
      "cell_type": "markdown",
      "source": [
        "# Trabajo Práctico 3\n"
      ],
      "metadata": {
        "id": "w4XYzTiGTnP4"
      }
    },
    {
      "cell_type": "markdown",
      "source": [
        "## Importando el dataset"
      ],
      "metadata": {
        "id": "QjkaZ5JSTYwK"
      }
    },
    {
      "cell_type": "code",
      "execution_count": 1,
      "metadata": {
        "colab": {
          "base_uri": "https://localhost:8080/"
        },
        "id": "Vv7iRVJTRs96",
        "outputId": "aaceff11-5ff3-481b-a5e8-4b19735994b0"
      },
      "outputs": [
        {
          "output_type": "stream",
          "name": "stdout",
          "text": [
            "Drive already mounted at /content/drive/; to attempt to forcibly remount, call drive.mount(\"/content/drive/\", force_remount=True).\n"
          ]
        }
      ],
      "source": [
        "from google.colab import drive\n",
        "drive.mount('/content/drive/')"
      ]
    },
    {
      "cell_type": "code",
      "source": [
        "import numpy as np\n",
        "import pandas as pd\n",
        "import matplotlib.pyplot as plt\n",
        "import seaborn as sns"
      ],
      "metadata": {
        "id": "JWM2OO4CSXre"
      },
      "execution_count": 2,
      "outputs": []
    },
    {
      "cell_type": "code",
      "source": [
        "data = pd.read_csv('/content/drive/MyDrive/Datasets/smoke_detection_iot.csv')"
      ],
      "metadata": {
        "id": "Ys-ZACNsSinJ"
      },
      "execution_count": 3,
      "outputs": []
    },
    {
      "cell_type": "code",
      "source": [
        "data.keys()"
      ],
      "metadata": {
        "colab": {
          "base_uri": "https://localhost:8080/"
        },
        "id": "6NhNExD0W23G",
        "outputId": "9b2c6d3b-69f5-4422-fe53-91b578fa0ecc"
      },
      "execution_count": 4,
      "outputs": [
        {
          "output_type": "execute_result",
          "data": {
            "text/plain": [
              "Index(['Unnamed: 0', 'UTC', 'Temperature[C]', 'Humidity[%]', 'TVOC[ppb]',\n",
              "       'eCO2[ppm]', 'Raw H2', 'Raw Ethanol', 'Pressure[hPa]', 'PM1.0', 'PM2.5',\n",
              "       'NC0.5', 'NC1.0', 'NC2.5', 'CNT', 'Fire Alarm'],\n",
              "      dtype='object')"
            ]
          },
          "metadata": {},
          "execution_count": 4
        }
      ]
    },
    {
      "cell_type": "code",
      "source": [
        "data.shape"
      ],
      "metadata": {
        "colab": {
          "base_uri": "https://localhost:8080/"
        },
        "id": "brbXe6c1TP1g",
        "outputId": "884b5520-5562-44bf-d4a0-976112220c9f"
      },
      "execution_count": 5,
      "outputs": [
        {
          "output_type": "execute_result",
          "data": {
            "text/plain": [
              "(62630, 16)"
            ]
          },
          "metadata": {},
          "execution_count": 5
        }
      ]
    },
    {
      "cell_type": "code",
      "source": [
        "data"
      ],
      "metadata": {
        "colab": {
          "base_uri": "https://localhost:8080/",
          "height": 505
        },
        "id": "HpZeFiZgvq-f",
        "outputId": "b85c6dd2-9493-4573-f4f0-1a5536b5b159"
      },
      "execution_count": 6,
      "outputs": [
        {
          "output_type": "execute_result",
          "data": {
            "text/plain": [
              "       Unnamed: 0         UTC  Temperature[C]  Humidity[%]  TVOC[ppb]  \\\n",
              "0               0  1654733331          20.000        57.36          0   \n",
              "1               1  1654733332          20.015        56.67          0   \n",
              "2               2  1654733333          20.029        55.96          0   \n",
              "3               3  1654733334          20.044        55.28          0   \n",
              "4               4  1654733335          20.059        54.69          0   \n",
              "...           ...         ...             ...          ...        ...   \n",
              "62625       62625  1655130047          18.438        15.79        625   \n",
              "62626       62626  1655130048          18.653        15.87        612   \n",
              "62627       62627  1655130049          18.867        15.84        627   \n",
              "62628       62628  1655130050          19.083        16.04        638   \n",
              "62629       62629  1655130051          19.299        16.52        643   \n",
              "\n",
              "       eCO2[ppm]  Raw H2  Raw Ethanol  Pressure[hPa]  PM1.0  PM2.5  NC0.5  \\\n",
              "0            400   12306        18520        939.735   0.00   0.00   0.00   \n",
              "1            400   12345        18651        939.744   0.00   0.00   0.00   \n",
              "2            400   12374        18764        939.738   0.00   0.00   0.00   \n",
              "3            400   12390        18849        939.736   0.00   0.00   0.00   \n",
              "4            400   12403        18921        939.744   0.00   0.00   0.00   \n",
              "...          ...     ...          ...            ...    ...    ...    ...   \n",
              "62625        400   13723        20569        936.670   0.63   0.65   4.32   \n",
              "62626        400   13731        20588        936.678   0.61   0.63   4.18   \n",
              "62627        400   13725        20582        936.687   0.57   0.60   3.95   \n",
              "62628        400   13712        20566        936.680   0.57   0.59   3.92   \n",
              "62629        400   13696        20543        936.676   0.57   0.59   3.90   \n",
              "\n",
              "       NC1.0  NC2.5   CNT  Fire Alarm  \n",
              "0      0.000  0.000     0           0  \n",
              "1      0.000  0.000     1           0  \n",
              "2      0.000  0.000     2           0  \n",
              "3      0.000  0.000     3           0  \n",
              "4      0.000  0.000     4           0  \n",
              "...      ...    ...   ...         ...  \n",
              "62625  0.673  0.015  5739           0  \n",
              "62626  0.652  0.015  5740           0  \n",
              "62627  0.617  0.014  5741           0  \n",
              "62628  0.611  0.014  5742           0  \n",
              "62629  0.607  0.014  5743           0  \n",
              "\n",
              "[62630 rows x 16 columns]"
            ],
            "text/html": [
              "\n",
              "  <div id=\"df-b880cbc9-fcb7-408b-bd44-522f1f9b460e\">\n",
              "    <div class=\"colab-df-container\">\n",
              "      <div>\n",
              "<style scoped>\n",
              "    .dataframe tbody tr th:only-of-type {\n",
              "        vertical-align: middle;\n",
              "    }\n",
              "\n",
              "    .dataframe tbody tr th {\n",
              "        vertical-align: top;\n",
              "    }\n",
              "\n",
              "    .dataframe thead th {\n",
              "        text-align: right;\n",
              "    }\n",
              "</style>\n",
              "<table border=\"1\" class=\"dataframe\">\n",
              "  <thead>\n",
              "    <tr style=\"text-align: right;\">\n",
              "      <th></th>\n",
              "      <th>Unnamed: 0</th>\n",
              "      <th>UTC</th>\n",
              "      <th>Temperature[C]</th>\n",
              "      <th>Humidity[%]</th>\n",
              "      <th>TVOC[ppb]</th>\n",
              "      <th>eCO2[ppm]</th>\n",
              "      <th>Raw H2</th>\n",
              "      <th>Raw Ethanol</th>\n",
              "      <th>Pressure[hPa]</th>\n",
              "      <th>PM1.0</th>\n",
              "      <th>PM2.5</th>\n",
              "      <th>NC0.5</th>\n",
              "      <th>NC1.0</th>\n",
              "      <th>NC2.5</th>\n",
              "      <th>CNT</th>\n",
              "      <th>Fire Alarm</th>\n",
              "    </tr>\n",
              "  </thead>\n",
              "  <tbody>\n",
              "    <tr>\n",
              "      <th>0</th>\n",
              "      <td>0</td>\n",
              "      <td>1654733331</td>\n",
              "      <td>20.000</td>\n",
              "      <td>57.36</td>\n",
              "      <td>0</td>\n",
              "      <td>400</td>\n",
              "      <td>12306</td>\n",
              "      <td>18520</td>\n",
              "      <td>939.735</td>\n",
              "      <td>0.00</td>\n",
              "      <td>0.00</td>\n",
              "      <td>0.00</td>\n",
              "      <td>0.000</td>\n",
              "      <td>0.000</td>\n",
              "      <td>0</td>\n",
              "      <td>0</td>\n",
              "    </tr>\n",
              "    <tr>\n",
              "      <th>1</th>\n",
              "      <td>1</td>\n",
              "      <td>1654733332</td>\n",
              "      <td>20.015</td>\n",
              "      <td>56.67</td>\n",
              "      <td>0</td>\n",
              "      <td>400</td>\n",
              "      <td>12345</td>\n",
              "      <td>18651</td>\n",
              "      <td>939.744</td>\n",
              "      <td>0.00</td>\n",
              "      <td>0.00</td>\n",
              "      <td>0.00</td>\n",
              "      <td>0.000</td>\n",
              "      <td>0.000</td>\n",
              "      <td>1</td>\n",
              "      <td>0</td>\n",
              "    </tr>\n",
              "    <tr>\n",
              "      <th>2</th>\n",
              "      <td>2</td>\n",
              "      <td>1654733333</td>\n",
              "      <td>20.029</td>\n",
              "      <td>55.96</td>\n",
              "      <td>0</td>\n",
              "      <td>400</td>\n",
              "      <td>12374</td>\n",
              "      <td>18764</td>\n",
              "      <td>939.738</td>\n",
              "      <td>0.00</td>\n",
              "      <td>0.00</td>\n",
              "      <td>0.00</td>\n",
              "      <td>0.000</td>\n",
              "      <td>0.000</td>\n",
              "      <td>2</td>\n",
              "      <td>0</td>\n",
              "    </tr>\n",
              "    <tr>\n",
              "      <th>3</th>\n",
              "      <td>3</td>\n",
              "      <td>1654733334</td>\n",
              "      <td>20.044</td>\n",
              "      <td>55.28</td>\n",
              "      <td>0</td>\n",
              "      <td>400</td>\n",
              "      <td>12390</td>\n",
              "      <td>18849</td>\n",
              "      <td>939.736</td>\n",
              "      <td>0.00</td>\n",
              "      <td>0.00</td>\n",
              "      <td>0.00</td>\n",
              "      <td>0.000</td>\n",
              "      <td>0.000</td>\n",
              "      <td>3</td>\n",
              "      <td>0</td>\n",
              "    </tr>\n",
              "    <tr>\n",
              "      <th>4</th>\n",
              "      <td>4</td>\n",
              "      <td>1654733335</td>\n",
              "      <td>20.059</td>\n",
              "      <td>54.69</td>\n",
              "      <td>0</td>\n",
              "      <td>400</td>\n",
              "      <td>12403</td>\n",
              "      <td>18921</td>\n",
              "      <td>939.744</td>\n",
              "      <td>0.00</td>\n",
              "      <td>0.00</td>\n",
              "      <td>0.00</td>\n",
              "      <td>0.000</td>\n",
              "      <td>0.000</td>\n",
              "      <td>4</td>\n",
              "      <td>0</td>\n",
              "    </tr>\n",
              "    <tr>\n",
              "      <th>...</th>\n",
              "      <td>...</td>\n",
              "      <td>...</td>\n",
              "      <td>...</td>\n",
              "      <td>...</td>\n",
              "      <td>...</td>\n",
              "      <td>...</td>\n",
              "      <td>...</td>\n",
              "      <td>...</td>\n",
              "      <td>...</td>\n",
              "      <td>...</td>\n",
              "      <td>...</td>\n",
              "      <td>...</td>\n",
              "      <td>...</td>\n",
              "      <td>...</td>\n",
              "      <td>...</td>\n",
              "      <td>...</td>\n",
              "    </tr>\n",
              "    <tr>\n",
              "      <th>62625</th>\n",
              "      <td>62625</td>\n",
              "      <td>1655130047</td>\n",
              "      <td>18.438</td>\n",
              "      <td>15.79</td>\n",
              "      <td>625</td>\n",
              "      <td>400</td>\n",
              "      <td>13723</td>\n",
              "      <td>20569</td>\n",
              "      <td>936.670</td>\n",
              "      <td>0.63</td>\n",
              "      <td>0.65</td>\n",
              "      <td>4.32</td>\n",
              "      <td>0.673</td>\n",
              "      <td>0.015</td>\n",
              "      <td>5739</td>\n",
              "      <td>0</td>\n",
              "    </tr>\n",
              "    <tr>\n",
              "      <th>62626</th>\n",
              "      <td>62626</td>\n",
              "      <td>1655130048</td>\n",
              "      <td>18.653</td>\n",
              "      <td>15.87</td>\n",
              "      <td>612</td>\n",
              "      <td>400</td>\n",
              "      <td>13731</td>\n",
              "      <td>20588</td>\n",
              "      <td>936.678</td>\n",
              "      <td>0.61</td>\n",
              "      <td>0.63</td>\n",
              "      <td>4.18</td>\n",
              "      <td>0.652</td>\n",
              "      <td>0.015</td>\n",
              "      <td>5740</td>\n",
              "      <td>0</td>\n",
              "    </tr>\n",
              "    <tr>\n",
              "      <th>62627</th>\n",
              "      <td>62627</td>\n",
              "      <td>1655130049</td>\n",
              "      <td>18.867</td>\n",
              "      <td>15.84</td>\n",
              "      <td>627</td>\n",
              "      <td>400</td>\n",
              "      <td>13725</td>\n",
              "      <td>20582</td>\n",
              "      <td>936.687</td>\n",
              "      <td>0.57</td>\n",
              "      <td>0.60</td>\n",
              "      <td>3.95</td>\n",
              "      <td>0.617</td>\n",
              "      <td>0.014</td>\n",
              "      <td>5741</td>\n",
              "      <td>0</td>\n",
              "    </tr>\n",
              "    <tr>\n",
              "      <th>62628</th>\n",
              "      <td>62628</td>\n",
              "      <td>1655130050</td>\n",
              "      <td>19.083</td>\n",
              "      <td>16.04</td>\n",
              "      <td>638</td>\n",
              "      <td>400</td>\n",
              "      <td>13712</td>\n",
              "      <td>20566</td>\n",
              "      <td>936.680</td>\n",
              "      <td>0.57</td>\n",
              "      <td>0.59</td>\n",
              "      <td>3.92</td>\n",
              "      <td>0.611</td>\n",
              "      <td>0.014</td>\n",
              "      <td>5742</td>\n",
              "      <td>0</td>\n",
              "    </tr>\n",
              "    <tr>\n",
              "      <th>62629</th>\n",
              "      <td>62629</td>\n",
              "      <td>1655130051</td>\n",
              "      <td>19.299</td>\n",
              "      <td>16.52</td>\n",
              "      <td>643</td>\n",
              "      <td>400</td>\n",
              "      <td>13696</td>\n",
              "      <td>20543</td>\n",
              "      <td>936.676</td>\n",
              "      <td>0.57</td>\n",
              "      <td>0.59</td>\n",
              "      <td>3.90</td>\n",
              "      <td>0.607</td>\n",
              "      <td>0.014</td>\n",
              "      <td>5743</td>\n",
              "      <td>0</td>\n",
              "    </tr>\n",
              "  </tbody>\n",
              "</table>\n",
              "<p>62630 rows × 16 columns</p>\n",
              "</div>\n",
              "      <button class=\"colab-df-convert\" onclick=\"convertToInteractive('df-b880cbc9-fcb7-408b-bd44-522f1f9b460e')\"\n",
              "              title=\"Convert this dataframe to an interactive table.\"\n",
              "              style=\"display:none;\">\n",
              "        \n",
              "  <svg xmlns=\"http://www.w3.org/2000/svg\" height=\"24px\"viewBox=\"0 0 24 24\"\n",
              "       width=\"24px\">\n",
              "    <path d=\"M0 0h24v24H0V0z\" fill=\"none\"/>\n",
              "    <path d=\"M18.56 5.44l.94 2.06.94-2.06 2.06-.94-2.06-.94-.94-2.06-.94 2.06-2.06.94zm-11 1L8.5 8.5l.94-2.06 2.06-.94-2.06-.94L8.5 2.5l-.94 2.06-2.06.94zm10 10l.94 2.06.94-2.06 2.06-.94-2.06-.94-.94-2.06-.94 2.06-2.06.94z\"/><path d=\"M17.41 7.96l-1.37-1.37c-.4-.4-.92-.59-1.43-.59-.52 0-1.04.2-1.43.59L10.3 9.45l-7.72 7.72c-.78.78-.78 2.05 0 2.83L4 21.41c.39.39.9.59 1.41.59.51 0 1.02-.2 1.41-.59l7.78-7.78 2.81-2.81c.8-.78.8-2.07 0-2.86zM5.41 20L4 18.59l7.72-7.72 1.47 1.35L5.41 20z\"/>\n",
              "  </svg>\n",
              "      </button>\n",
              "      \n",
              "  <style>\n",
              "    .colab-df-container {\n",
              "      display:flex;\n",
              "      flex-wrap:wrap;\n",
              "      gap: 12px;\n",
              "    }\n",
              "\n",
              "    .colab-df-convert {\n",
              "      background-color: #E8F0FE;\n",
              "      border: none;\n",
              "      border-radius: 50%;\n",
              "      cursor: pointer;\n",
              "      display: none;\n",
              "      fill: #1967D2;\n",
              "      height: 32px;\n",
              "      padding: 0 0 0 0;\n",
              "      width: 32px;\n",
              "    }\n",
              "\n",
              "    .colab-df-convert:hover {\n",
              "      background-color: #E2EBFA;\n",
              "      box-shadow: 0px 1px 2px rgba(60, 64, 67, 0.3), 0px 1px 3px 1px rgba(60, 64, 67, 0.15);\n",
              "      fill: #174EA6;\n",
              "    }\n",
              "\n",
              "    [theme=dark] .colab-df-convert {\n",
              "      background-color: #3B4455;\n",
              "      fill: #D2E3FC;\n",
              "    }\n",
              "\n",
              "    [theme=dark] .colab-df-convert:hover {\n",
              "      background-color: #434B5C;\n",
              "      box-shadow: 0px 1px 3px 1px rgba(0, 0, 0, 0.15);\n",
              "      filter: drop-shadow(0px 1px 2px rgba(0, 0, 0, 0.3));\n",
              "      fill: #FFFFFF;\n",
              "    }\n",
              "  </style>\n",
              "\n",
              "      <script>\n",
              "        const buttonEl =\n",
              "          document.querySelector('#df-b880cbc9-fcb7-408b-bd44-522f1f9b460e button.colab-df-convert');\n",
              "        buttonEl.style.display =\n",
              "          google.colab.kernel.accessAllowed ? 'block' : 'none';\n",
              "\n",
              "        async function convertToInteractive(key) {\n",
              "          const element = document.querySelector('#df-b880cbc9-fcb7-408b-bd44-522f1f9b460e');\n",
              "          const dataTable =\n",
              "            await google.colab.kernel.invokeFunction('convertToInteractive',\n",
              "                                                     [key], {});\n",
              "          if (!dataTable) return;\n",
              "\n",
              "          const docLinkHtml = 'Like what you see? Visit the ' +\n",
              "            '<a target=\"_blank\" href=https://colab.research.google.com/notebooks/data_table.ipynb>data table notebook</a>'\n",
              "            + ' to learn more about interactive tables.';\n",
              "          element.innerHTML = '';\n",
              "          dataTable['output_type'] = 'display_data';\n",
              "          await google.colab.output.renderOutput(dataTable, element);\n",
              "          const docLink = document.createElement('div');\n",
              "          docLink.innerHTML = docLinkHtml;\n",
              "          element.appendChild(docLink);\n",
              "        }\n",
              "      </script>\n",
              "    </div>\n",
              "  </div>\n",
              "  "
            ]
          },
          "metadata": {},
          "execution_count": 6
        }
      ]
    },
    {
      "cell_type": "markdown",
      "source": [
        "## Limpieza de datos"
      ],
      "metadata": {
        "id": "AEZR5SWpTVx_"
      }
    },
    {
      "cell_type": "markdown",
      "source": [
        "Chequeando si existen datos nulos:"
      ],
      "metadata": {
        "id": "q4C0tv7FWgWm"
      }
    },
    {
      "cell_type": "code",
      "source": [
        "data.isnull().sum()"
      ],
      "metadata": {
        "colab": {
          "base_uri": "https://localhost:8080/"
        },
        "id": "5QdGl_3oTNwo",
        "outputId": "5d5bb96d-1329-40ca-e08f-85191f1b776b"
      },
      "execution_count": 7,
      "outputs": [
        {
          "output_type": "execute_result",
          "data": {
            "text/plain": [
              "Unnamed: 0        0\n",
              "UTC               0\n",
              "Temperature[C]    0\n",
              "Humidity[%]       0\n",
              "TVOC[ppb]         0\n",
              "eCO2[ppm]         0\n",
              "Raw H2            0\n",
              "Raw Ethanol       0\n",
              "Pressure[hPa]     0\n",
              "PM1.0             0\n",
              "PM2.5             0\n",
              "NC0.5             0\n",
              "NC1.0             0\n",
              "NC2.5             0\n",
              "CNT               0\n",
              "Fire Alarm        0\n",
              "dtype: int64"
            ]
          },
          "metadata": {},
          "execution_count": 7
        }
      ]
    },
    {
      "cell_type": "markdown",
      "source": [
        "Las columnas \"Unnamed: 0\", \"UTC\", \"CNT\" deben ser eliminadas ya que no proveen información útil para el trabajo."
      ],
      "metadata": {
        "id": "RVgxnD8bWThe"
      }
    },
    {
      "cell_type": "code",
      "source": [
        "unuseful_features = ['Unnamed: 0', 'UTC','CNT']\n",
        "for feature in unuseful_features:\n",
        "  data = data.drop(feature, axis=1)\n",
        "\n",
        "data.head()"
      ],
      "metadata": {
        "colab": {
          "base_uri": "https://localhost:8080/",
          "height": 287
        },
        "id": "bbLQYkdGVSq-",
        "outputId": "a1daec39-228f-4682-cc00-2b88d1421afa"
      },
      "execution_count": 8,
      "outputs": [
        {
          "output_type": "execute_result",
          "data": {
            "text/plain": [
              "   Temperature[C]  Humidity[%]  TVOC[ppb]  eCO2[ppm]  Raw H2  Raw Ethanol  \\\n",
              "0          20.000        57.36          0        400   12306        18520   \n",
              "1          20.015        56.67          0        400   12345        18651   \n",
              "2          20.029        55.96          0        400   12374        18764   \n",
              "3          20.044        55.28          0        400   12390        18849   \n",
              "4          20.059        54.69          0        400   12403        18921   \n",
              "\n",
              "   Pressure[hPa]  PM1.0  PM2.5  NC0.5  NC1.0  NC2.5  Fire Alarm  \n",
              "0        939.735    0.0    0.0    0.0    0.0    0.0           0  \n",
              "1        939.744    0.0    0.0    0.0    0.0    0.0           0  \n",
              "2        939.738    0.0    0.0    0.0    0.0    0.0           0  \n",
              "3        939.736    0.0    0.0    0.0    0.0    0.0           0  \n",
              "4        939.744    0.0    0.0    0.0    0.0    0.0           0  "
            ],
            "text/html": [
              "\n",
              "  <div id=\"df-f0004012-9423-49e8-9e39-21cccc5c6a7a\">\n",
              "    <div class=\"colab-df-container\">\n",
              "      <div>\n",
              "<style scoped>\n",
              "    .dataframe tbody tr th:only-of-type {\n",
              "        vertical-align: middle;\n",
              "    }\n",
              "\n",
              "    .dataframe tbody tr th {\n",
              "        vertical-align: top;\n",
              "    }\n",
              "\n",
              "    .dataframe thead th {\n",
              "        text-align: right;\n",
              "    }\n",
              "</style>\n",
              "<table border=\"1\" class=\"dataframe\">\n",
              "  <thead>\n",
              "    <tr style=\"text-align: right;\">\n",
              "      <th></th>\n",
              "      <th>Temperature[C]</th>\n",
              "      <th>Humidity[%]</th>\n",
              "      <th>TVOC[ppb]</th>\n",
              "      <th>eCO2[ppm]</th>\n",
              "      <th>Raw H2</th>\n",
              "      <th>Raw Ethanol</th>\n",
              "      <th>Pressure[hPa]</th>\n",
              "      <th>PM1.0</th>\n",
              "      <th>PM2.5</th>\n",
              "      <th>NC0.5</th>\n",
              "      <th>NC1.0</th>\n",
              "      <th>NC2.5</th>\n",
              "      <th>Fire Alarm</th>\n",
              "    </tr>\n",
              "  </thead>\n",
              "  <tbody>\n",
              "    <tr>\n",
              "      <th>0</th>\n",
              "      <td>20.000</td>\n",
              "      <td>57.36</td>\n",
              "      <td>0</td>\n",
              "      <td>400</td>\n",
              "      <td>12306</td>\n",
              "      <td>18520</td>\n",
              "      <td>939.735</td>\n",
              "      <td>0.0</td>\n",
              "      <td>0.0</td>\n",
              "      <td>0.0</td>\n",
              "      <td>0.0</td>\n",
              "      <td>0.0</td>\n",
              "      <td>0</td>\n",
              "    </tr>\n",
              "    <tr>\n",
              "      <th>1</th>\n",
              "      <td>20.015</td>\n",
              "      <td>56.67</td>\n",
              "      <td>0</td>\n",
              "      <td>400</td>\n",
              "      <td>12345</td>\n",
              "      <td>18651</td>\n",
              "      <td>939.744</td>\n",
              "      <td>0.0</td>\n",
              "      <td>0.0</td>\n",
              "      <td>0.0</td>\n",
              "      <td>0.0</td>\n",
              "      <td>0.0</td>\n",
              "      <td>0</td>\n",
              "    </tr>\n",
              "    <tr>\n",
              "      <th>2</th>\n",
              "      <td>20.029</td>\n",
              "      <td>55.96</td>\n",
              "      <td>0</td>\n",
              "      <td>400</td>\n",
              "      <td>12374</td>\n",
              "      <td>18764</td>\n",
              "      <td>939.738</td>\n",
              "      <td>0.0</td>\n",
              "      <td>0.0</td>\n",
              "      <td>0.0</td>\n",
              "      <td>0.0</td>\n",
              "      <td>0.0</td>\n",
              "      <td>0</td>\n",
              "    </tr>\n",
              "    <tr>\n",
              "      <th>3</th>\n",
              "      <td>20.044</td>\n",
              "      <td>55.28</td>\n",
              "      <td>0</td>\n",
              "      <td>400</td>\n",
              "      <td>12390</td>\n",
              "      <td>18849</td>\n",
              "      <td>939.736</td>\n",
              "      <td>0.0</td>\n",
              "      <td>0.0</td>\n",
              "      <td>0.0</td>\n",
              "      <td>0.0</td>\n",
              "      <td>0.0</td>\n",
              "      <td>0</td>\n",
              "    </tr>\n",
              "    <tr>\n",
              "      <th>4</th>\n",
              "      <td>20.059</td>\n",
              "      <td>54.69</td>\n",
              "      <td>0</td>\n",
              "      <td>400</td>\n",
              "      <td>12403</td>\n",
              "      <td>18921</td>\n",
              "      <td>939.744</td>\n",
              "      <td>0.0</td>\n",
              "      <td>0.0</td>\n",
              "      <td>0.0</td>\n",
              "      <td>0.0</td>\n",
              "      <td>0.0</td>\n",
              "      <td>0</td>\n",
              "    </tr>\n",
              "  </tbody>\n",
              "</table>\n",
              "</div>\n",
              "      <button class=\"colab-df-convert\" onclick=\"convertToInteractive('df-f0004012-9423-49e8-9e39-21cccc5c6a7a')\"\n",
              "              title=\"Convert this dataframe to an interactive table.\"\n",
              "              style=\"display:none;\">\n",
              "        \n",
              "  <svg xmlns=\"http://www.w3.org/2000/svg\" height=\"24px\"viewBox=\"0 0 24 24\"\n",
              "       width=\"24px\">\n",
              "    <path d=\"M0 0h24v24H0V0z\" fill=\"none\"/>\n",
              "    <path d=\"M18.56 5.44l.94 2.06.94-2.06 2.06-.94-2.06-.94-.94-2.06-.94 2.06-2.06.94zm-11 1L8.5 8.5l.94-2.06 2.06-.94-2.06-.94L8.5 2.5l-.94 2.06-2.06.94zm10 10l.94 2.06.94-2.06 2.06-.94-2.06-.94-.94-2.06-.94 2.06-2.06.94z\"/><path d=\"M17.41 7.96l-1.37-1.37c-.4-.4-.92-.59-1.43-.59-.52 0-1.04.2-1.43.59L10.3 9.45l-7.72 7.72c-.78.78-.78 2.05 0 2.83L4 21.41c.39.39.9.59 1.41.59.51 0 1.02-.2 1.41-.59l7.78-7.78 2.81-2.81c.8-.78.8-2.07 0-2.86zM5.41 20L4 18.59l7.72-7.72 1.47 1.35L5.41 20z\"/>\n",
              "  </svg>\n",
              "      </button>\n",
              "      \n",
              "  <style>\n",
              "    .colab-df-container {\n",
              "      display:flex;\n",
              "      flex-wrap:wrap;\n",
              "      gap: 12px;\n",
              "    }\n",
              "\n",
              "    .colab-df-convert {\n",
              "      background-color: #E8F0FE;\n",
              "      border: none;\n",
              "      border-radius: 50%;\n",
              "      cursor: pointer;\n",
              "      display: none;\n",
              "      fill: #1967D2;\n",
              "      height: 32px;\n",
              "      padding: 0 0 0 0;\n",
              "      width: 32px;\n",
              "    }\n",
              "\n",
              "    .colab-df-convert:hover {\n",
              "      background-color: #E2EBFA;\n",
              "      box-shadow: 0px 1px 2px rgba(60, 64, 67, 0.3), 0px 1px 3px 1px rgba(60, 64, 67, 0.15);\n",
              "      fill: #174EA6;\n",
              "    }\n",
              "\n",
              "    [theme=dark] .colab-df-convert {\n",
              "      background-color: #3B4455;\n",
              "      fill: #D2E3FC;\n",
              "    }\n",
              "\n",
              "    [theme=dark] .colab-df-convert:hover {\n",
              "      background-color: #434B5C;\n",
              "      box-shadow: 0px 1px 3px 1px rgba(0, 0, 0, 0.15);\n",
              "      filter: drop-shadow(0px 1px 2px rgba(0, 0, 0, 0.3));\n",
              "      fill: #FFFFFF;\n",
              "    }\n",
              "  </style>\n",
              "\n",
              "      <script>\n",
              "        const buttonEl =\n",
              "          document.querySelector('#df-f0004012-9423-49e8-9e39-21cccc5c6a7a button.colab-df-convert');\n",
              "        buttonEl.style.display =\n",
              "          google.colab.kernel.accessAllowed ? 'block' : 'none';\n",
              "\n",
              "        async function convertToInteractive(key) {\n",
              "          const element = document.querySelector('#df-f0004012-9423-49e8-9e39-21cccc5c6a7a');\n",
              "          const dataTable =\n",
              "            await google.colab.kernel.invokeFunction('convertToInteractive',\n",
              "                                                     [key], {});\n",
              "          if (!dataTable) return;\n",
              "\n",
              "          const docLinkHtml = 'Like what you see? Visit the ' +\n",
              "            '<a target=\"_blank\" href=https://colab.research.google.com/notebooks/data_table.ipynb>data table notebook</a>'\n",
              "            + ' to learn more about interactive tables.';\n",
              "          element.innerHTML = '';\n",
              "          dataTable['output_type'] = 'display_data';\n",
              "          await google.colab.output.renderOutput(dataTable, element);\n",
              "          const docLink = document.createElement('div');\n",
              "          docLink.innerHTML = docLinkHtml;\n",
              "          element.appendChild(docLink);\n",
              "        }\n",
              "      </script>\n",
              "    </div>\n",
              "  </div>\n",
              "  "
            ]
          },
          "metadata": {},
          "execution_count": 8
        }
      ]
    },
    {
      "cell_type": "markdown",
      "source": [
        "## Análisis de los datos"
      ],
      "metadata": {
        "id": "YF1lC82UYolB"
      }
    },
    {
      "cell_type": "code",
      "source": [
        "data.describe()"
      ],
      "metadata": {
        "colab": {
          "base_uri": "https://localhost:8080/",
          "height": 364
        },
        "id": "zuCV6PVFDzcG",
        "outputId": "77ff7a85-c1b1-4be9-9f1d-18f5abc75808"
      },
      "execution_count": 9,
      "outputs": [
        {
          "output_type": "execute_result",
          "data": {
            "text/plain": [
              "       Temperature[C]   Humidity[%]     TVOC[ppb]     eCO2[ppm]        Raw H2  \\\n",
              "count    62630.000000  62630.000000  62630.000000  62630.000000  62630.000000   \n",
              "mean        15.970424     48.539499   1942.057528    670.021044  12942.453936   \n",
              "std         14.359576      8.865367   7811.589055   1905.885439    272.464305   \n",
              "min        -22.010000     10.740000      0.000000    400.000000  10668.000000   \n",
              "25%         10.994250     47.530000    130.000000    400.000000  12830.000000   \n",
              "50%         20.130000     50.150000    981.000000    400.000000  12924.000000   \n",
              "75%         25.409500     53.240000   1189.000000    438.000000  13109.000000   \n",
              "max         59.930000     75.200000  60000.000000  60000.000000  13803.000000   \n",
              "\n",
              "        Raw Ethanol  Pressure[hPa]         PM1.0         PM2.5         NC0.5  \\\n",
              "count  62630.000000   62630.000000  62630.000000  62630.000000  62630.000000   \n",
              "mean   19754.257912     938.627649    100.594309    184.467770    491.463608   \n",
              "std      609.513156       1.331344    922.524245   1976.305615   4265.661251   \n",
              "min    15317.000000     930.852000      0.000000      0.000000      0.000000   \n",
              "25%    19435.000000     938.700000      1.280000      1.340000      8.820000   \n",
              "50%    19501.000000     938.816000      1.810000      1.880000     12.450000   \n",
              "75%    20078.000000     939.418000      2.090000      2.180000     14.420000   \n",
              "max    21410.000000     939.861000  14333.690000  45432.260000  61482.030000   \n",
              "\n",
              "              NC1.0         NC2.5    Fire Alarm  \n",
              "count  62630.000000  62630.000000  62630.000000  \n",
              "mean     203.586487     80.049042      0.714626  \n",
              "std     2214.738556   1083.383189      0.451596  \n",
              "min        0.000000      0.000000      0.000000  \n",
              "25%        1.384000      0.033000      0.000000  \n",
              "50%        1.943000      0.044000      1.000000  \n",
              "75%        2.249000      0.051000      1.000000  \n",
              "max    51914.680000  30026.438000      1.000000  "
            ],
            "text/html": [
              "\n",
              "  <div id=\"df-a892a080-fc8b-4689-975f-cc69f6e473b3\">\n",
              "    <div class=\"colab-df-container\">\n",
              "      <div>\n",
              "<style scoped>\n",
              "    .dataframe tbody tr th:only-of-type {\n",
              "        vertical-align: middle;\n",
              "    }\n",
              "\n",
              "    .dataframe tbody tr th {\n",
              "        vertical-align: top;\n",
              "    }\n",
              "\n",
              "    .dataframe thead th {\n",
              "        text-align: right;\n",
              "    }\n",
              "</style>\n",
              "<table border=\"1\" class=\"dataframe\">\n",
              "  <thead>\n",
              "    <tr style=\"text-align: right;\">\n",
              "      <th></th>\n",
              "      <th>Temperature[C]</th>\n",
              "      <th>Humidity[%]</th>\n",
              "      <th>TVOC[ppb]</th>\n",
              "      <th>eCO2[ppm]</th>\n",
              "      <th>Raw H2</th>\n",
              "      <th>Raw Ethanol</th>\n",
              "      <th>Pressure[hPa]</th>\n",
              "      <th>PM1.0</th>\n",
              "      <th>PM2.5</th>\n",
              "      <th>NC0.5</th>\n",
              "      <th>NC1.0</th>\n",
              "      <th>NC2.5</th>\n",
              "      <th>Fire Alarm</th>\n",
              "    </tr>\n",
              "  </thead>\n",
              "  <tbody>\n",
              "    <tr>\n",
              "      <th>count</th>\n",
              "      <td>62630.000000</td>\n",
              "      <td>62630.000000</td>\n",
              "      <td>62630.000000</td>\n",
              "      <td>62630.000000</td>\n",
              "      <td>62630.000000</td>\n",
              "      <td>62630.000000</td>\n",
              "      <td>62630.000000</td>\n",
              "      <td>62630.000000</td>\n",
              "      <td>62630.000000</td>\n",
              "      <td>62630.000000</td>\n",
              "      <td>62630.000000</td>\n",
              "      <td>62630.000000</td>\n",
              "      <td>62630.000000</td>\n",
              "    </tr>\n",
              "    <tr>\n",
              "      <th>mean</th>\n",
              "      <td>15.970424</td>\n",
              "      <td>48.539499</td>\n",
              "      <td>1942.057528</td>\n",
              "      <td>670.021044</td>\n",
              "      <td>12942.453936</td>\n",
              "      <td>19754.257912</td>\n",
              "      <td>938.627649</td>\n",
              "      <td>100.594309</td>\n",
              "      <td>184.467770</td>\n",
              "      <td>491.463608</td>\n",
              "      <td>203.586487</td>\n",
              "      <td>80.049042</td>\n",
              "      <td>0.714626</td>\n",
              "    </tr>\n",
              "    <tr>\n",
              "      <th>std</th>\n",
              "      <td>14.359576</td>\n",
              "      <td>8.865367</td>\n",
              "      <td>7811.589055</td>\n",
              "      <td>1905.885439</td>\n",
              "      <td>272.464305</td>\n",
              "      <td>609.513156</td>\n",
              "      <td>1.331344</td>\n",
              "      <td>922.524245</td>\n",
              "      <td>1976.305615</td>\n",
              "      <td>4265.661251</td>\n",
              "      <td>2214.738556</td>\n",
              "      <td>1083.383189</td>\n",
              "      <td>0.451596</td>\n",
              "    </tr>\n",
              "    <tr>\n",
              "      <th>min</th>\n",
              "      <td>-22.010000</td>\n",
              "      <td>10.740000</td>\n",
              "      <td>0.000000</td>\n",
              "      <td>400.000000</td>\n",
              "      <td>10668.000000</td>\n",
              "      <td>15317.000000</td>\n",
              "      <td>930.852000</td>\n",
              "      <td>0.000000</td>\n",
              "      <td>0.000000</td>\n",
              "      <td>0.000000</td>\n",
              "      <td>0.000000</td>\n",
              "      <td>0.000000</td>\n",
              "      <td>0.000000</td>\n",
              "    </tr>\n",
              "    <tr>\n",
              "      <th>25%</th>\n",
              "      <td>10.994250</td>\n",
              "      <td>47.530000</td>\n",
              "      <td>130.000000</td>\n",
              "      <td>400.000000</td>\n",
              "      <td>12830.000000</td>\n",
              "      <td>19435.000000</td>\n",
              "      <td>938.700000</td>\n",
              "      <td>1.280000</td>\n",
              "      <td>1.340000</td>\n",
              "      <td>8.820000</td>\n",
              "      <td>1.384000</td>\n",
              "      <td>0.033000</td>\n",
              "      <td>0.000000</td>\n",
              "    </tr>\n",
              "    <tr>\n",
              "      <th>50%</th>\n",
              "      <td>20.130000</td>\n",
              "      <td>50.150000</td>\n",
              "      <td>981.000000</td>\n",
              "      <td>400.000000</td>\n",
              "      <td>12924.000000</td>\n",
              "      <td>19501.000000</td>\n",
              "      <td>938.816000</td>\n",
              "      <td>1.810000</td>\n",
              "      <td>1.880000</td>\n",
              "      <td>12.450000</td>\n",
              "      <td>1.943000</td>\n",
              "      <td>0.044000</td>\n",
              "      <td>1.000000</td>\n",
              "    </tr>\n",
              "    <tr>\n",
              "      <th>75%</th>\n",
              "      <td>25.409500</td>\n",
              "      <td>53.240000</td>\n",
              "      <td>1189.000000</td>\n",
              "      <td>438.000000</td>\n",
              "      <td>13109.000000</td>\n",
              "      <td>20078.000000</td>\n",
              "      <td>939.418000</td>\n",
              "      <td>2.090000</td>\n",
              "      <td>2.180000</td>\n",
              "      <td>14.420000</td>\n",
              "      <td>2.249000</td>\n",
              "      <td>0.051000</td>\n",
              "      <td>1.000000</td>\n",
              "    </tr>\n",
              "    <tr>\n",
              "      <th>max</th>\n",
              "      <td>59.930000</td>\n",
              "      <td>75.200000</td>\n",
              "      <td>60000.000000</td>\n",
              "      <td>60000.000000</td>\n",
              "      <td>13803.000000</td>\n",
              "      <td>21410.000000</td>\n",
              "      <td>939.861000</td>\n",
              "      <td>14333.690000</td>\n",
              "      <td>45432.260000</td>\n",
              "      <td>61482.030000</td>\n",
              "      <td>51914.680000</td>\n",
              "      <td>30026.438000</td>\n",
              "      <td>1.000000</td>\n",
              "    </tr>\n",
              "  </tbody>\n",
              "</table>\n",
              "</div>\n",
              "      <button class=\"colab-df-convert\" onclick=\"convertToInteractive('df-a892a080-fc8b-4689-975f-cc69f6e473b3')\"\n",
              "              title=\"Convert this dataframe to an interactive table.\"\n",
              "              style=\"display:none;\">\n",
              "        \n",
              "  <svg xmlns=\"http://www.w3.org/2000/svg\" height=\"24px\"viewBox=\"0 0 24 24\"\n",
              "       width=\"24px\">\n",
              "    <path d=\"M0 0h24v24H0V0z\" fill=\"none\"/>\n",
              "    <path d=\"M18.56 5.44l.94 2.06.94-2.06 2.06-.94-2.06-.94-.94-2.06-.94 2.06-2.06.94zm-11 1L8.5 8.5l.94-2.06 2.06-.94-2.06-.94L8.5 2.5l-.94 2.06-2.06.94zm10 10l.94 2.06.94-2.06 2.06-.94-2.06-.94-.94-2.06-.94 2.06-2.06.94z\"/><path d=\"M17.41 7.96l-1.37-1.37c-.4-.4-.92-.59-1.43-.59-.52 0-1.04.2-1.43.59L10.3 9.45l-7.72 7.72c-.78.78-.78 2.05 0 2.83L4 21.41c.39.39.9.59 1.41.59.51 0 1.02-.2 1.41-.59l7.78-7.78 2.81-2.81c.8-.78.8-2.07 0-2.86zM5.41 20L4 18.59l7.72-7.72 1.47 1.35L5.41 20z\"/>\n",
              "  </svg>\n",
              "      </button>\n",
              "      \n",
              "  <style>\n",
              "    .colab-df-container {\n",
              "      display:flex;\n",
              "      flex-wrap:wrap;\n",
              "      gap: 12px;\n",
              "    }\n",
              "\n",
              "    .colab-df-convert {\n",
              "      background-color: #E8F0FE;\n",
              "      border: none;\n",
              "      border-radius: 50%;\n",
              "      cursor: pointer;\n",
              "      display: none;\n",
              "      fill: #1967D2;\n",
              "      height: 32px;\n",
              "      padding: 0 0 0 0;\n",
              "      width: 32px;\n",
              "    }\n",
              "\n",
              "    .colab-df-convert:hover {\n",
              "      background-color: #E2EBFA;\n",
              "      box-shadow: 0px 1px 2px rgba(60, 64, 67, 0.3), 0px 1px 3px 1px rgba(60, 64, 67, 0.15);\n",
              "      fill: #174EA6;\n",
              "    }\n",
              "\n",
              "    [theme=dark] .colab-df-convert {\n",
              "      background-color: #3B4455;\n",
              "      fill: #D2E3FC;\n",
              "    }\n",
              "\n",
              "    [theme=dark] .colab-df-convert:hover {\n",
              "      background-color: #434B5C;\n",
              "      box-shadow: 0px 1px 3px 1px rgba(0, 0, 0, 0.15);\n",
              "      filter: drop-shadow(0px 1px 2px rgba(0, 0, 0, 0.3));\n",
              "      fill: #FFFFFF;\n",
              "    }\n",
              "  </style>\n",
              "\n",
              "      <script>\n",
              "        const buttonEl =\n",
              "          document.querySelector('#df-a892a080-fc8b-4689-975f-cc69f6e473b3 button.colab-df-convert');\n",
              "        buttonEl.style.display =\n",
              "          google.colab.kernel.accessAllowed ? 'block' : 'none';\n",
              "\n",
              "        async function convertToInteractive(key) {\n",
              "          const element = document.querySelector('#df-a892a080-fc8b-4689-975f-cc69f6e473b3');\n",
              "          const dataTable =\n",
              "            await google.colab.kernel.invokeFunction('convertToInteractive',\n",
              "                                                     [key], {});\n",
              "          if (!dataTable) return;\n",
              "\n",
              "          const docLinkHtml = 'Like what you see? Visit the ' +\n",
              "            '<a target=\"_blank\" href=https://colab.research.google.com/notebooks/data_table.ipynb>data table notebook</a>'\n",
              "            + ' to learn more about interactive tables.';\n",
              "          element.innerHTML = '';\n",
              "          dataTable['output_type'] = 'display_data';\n",
              "          await google.colab.output.renderOutput(dataTable, element);\n",
              "          const docLink = document.createElement('div');\n",
              "          docLink.innerHTML = docLinkHtml;\n",
              "          element.appendChild(docLink);\n",
              "        }\n",
              "      </script>\n",
              "    </div>\n",
              "  </div>\n",
              "  "
            ]
          },
          "metadata": {},
          "execution_count": 9
        }
      ]
    },
    {
      "cell_type": "markdown",
      "source": [
        "Rango para cada una de las variables"
      ],
      "metadata": {
        "id": "XUuiyj-ftCHo"
      }
    },
    {
      "cell_type": "code",
      "source": [
        "for key in data.keys():\n",
        "  print(f\"Min and max for {key}: {data[key].min()} , {data[key].max()}\")"
      ],
      "metadata": {
        "colab": {
          "base_uri": "https://localhost:8080/"
        },
        "id": "QNkLUUX-cyqN",
        "outputId": "34de98e8-0a62-4892-c78a-c5bd4cdf8323"
      },
      "execution_count": 10,
      "outputs": [
        {
          "output_type": "stream",
          "name": "stdout",
          "text": [
            "Min and max for Temperature[C]: -22.01 , 59.93\n",
            "Min and max for Humidity[%]: 10.74 , 75.2\n",
            "Min and max for TVOC[ppb]: 0 , 60000\n",
            "Min and max for eCO2[ppm]: 400 , 60000\n",
            "Min and max for Raw H2: 10668 , 13803\n",
            "Min and max for Raw Ethanol: 15317 , 21410\n",
            "Min and max for Pressure[hPa]: 930.852 , 939.861\n",
            "Min and max for PM1.0: 0.0 , 14333.69\n",
            "Min and max for PM2.5: 0.0 , 45432.26\n",
            "Min and max for NC0.5: 0.0 , 61482.03\n",
            "Min and max for NC1.0: 0.0 , 51914.68\n",
            "Min and max for NC2.5: 0.0 , 30026.438\n",
            "Min and max for Fire Alarm: 0 , 1\n"
          ]
        }
      ]
    },
    {
      "cell_type": "markdown",
      "source": [
        "Valor más común de las variables (Moda)"
      ],
      "metadata": {
        "id": "Ev3FrKDitEoH"
      }
    },
    {
      "cell_type": "code",
      "source": [
        "for key in data.keys():\n",
        "  print(f\"Most common value for {key}: {data[key].value_counts().idxmax()}\")"
      ],
      "metadata": {
        "colab": {
          "base_uri": "https://localhost:8080/"
        },
        "id": "eGydX_YHacbk",
        "outputId": "f3fd0513-7a40-42d2-a773-767dfdbea814"
      },
      "execution_count": 11,
      "outputs": [
        {
          "output_type": "stream",
          "name": "stdout",
          "text": [
            "Most common value for Temperature[C]: 24.48\n",
            "Most common value for Humidity[%]: 47.5\n",
            "Most common value for TVOC[ppb]: 0\n",
            "Most common value for eCO2[ppm]: 400\n",
            "Most common value for Raw H2: 12969\n",
            "Most common value for Raw Ethanol: 19438\n",
            "Most common value for Pressure[hPa]: 938.709\n",
            "Most common value for PM1.0: 1.79\n",
            "Most common value for PM2.5: 1.86\n",
            "Most common value for NC0.5: 0.0\n",
            "Most common value for NC1.0: 1.976\n",
            "Most common value for NC2.5: 0.043\n",
            "Most common value for Fire Alarm: 1\n"
          ]
        }
      ]
    },
    {
      "cell_type": "markdown",
      "source": [
        "Ejemplo de gráficas de: temperatura, presión y Etanol"
      ],
      "metadata": {
        "id": "HTsT2cY4yK_w"
      }
    },
    {
      "cell_type": "code",
      "source": [
        "plt.figure(figsize = (6,6))\n",
        "sns.kdeplot(data = data,x = 'Temperature[C]')"
      ],
      "metadata": {
        "colab": {
          "base_uri": "https://localhost:8080/",
          "height": 405
        },
        "id": "B9cAT6QEyNot",
        "outputId": "c8886910-3d09-47a6-edad-42739716912f"
      },
      "execution_count": 12,
      "outputs": [
        {
          "output_type": "execute_result",
          "data": {
            "text/plain": [
              "<matplotlib.axes._subplots.AxesSubplot at 0x7fe9b85b1b90>"
            ]
          },
          "metadata": {},
          "execution_count": 12
        },
        {
          "output_type": "display_data",
          "data": {
            "text/plain": [
              "<Figure size 432x432 with 1 Axes>"
            ],
            "image/png": "[encoded data removed]"
          },
          "metadata": {
            "needs_background": "light"
          }
        }
      ]
    },
    {
      "cell_type": "code",
      "source": [
        "sns.kdeplot(data = data,x = 'Pressure[hPa]')"
      ],
      "metadata": {
        "colab": {
          "base_uri": "https://localhost:8080/",
          "height": 296
        },
        "id": "tONJgtzTzE1k",
        "outputId": "7e4818f6-6966-4c4d-9a3f-ca563da7dc2a"
      },
      "execution_count": 13,
      "outputs": [
        {
          "output_type": "execute_result",
          "data": {
            "text/plain": [
              "<matplotlib.axes._subplots.AxesSubplot at 0x7fe9b5411b90>"
            ]
          },
          "metadata": {},
          "execution_count": 13
        },
        {
          "output_type": "display_data",
          "data": {
            "text/plain": [
              "<Figure size 432x288 with 1 Axes>"
            ],
            "image/png": "[encoded data removed]"
          },
          "metadata": {
            "needs_background": "light"
          }
        }
      ]
    },
    {
      "cell_type": "code",
      "source": [
        "sns.kdeplot(data = data,x = 'Raw Ethanol')"
      ],
      "metadata": {
        "colab": {
          "base_uri": "https://localhost:8080/",
          "height": 296
        },
        "id": "28uFzp-1zNSr",
        "outputId": "13645aea-7e4c-4a1e-b64e-b172816361cb"
      },
      "execution_count": 14,
      "outputs": [
        {
          "output_type": "execute_result",
          "data": {
            "text/plain": [
              "<matplotlib.axes._subplots.AxesSubplot at 0x7fe9b4f37890>"
            ]
          },
          "metadata": {},
          "execution_count": 14
        },
        {
          "output_type": "display_data",
          "data": {
            "text/plain": [
              "<Figure size 432x288 with 1 Axes>"
            ],
            "image/png": "[encoded data removed]"
          },
          "metadata": {
            "needs_background": "light"
          }
        }
      ]
    },
    {
      "cell_type": "markdown",
      "source": [
        "Análisis para la variable de salida"
      ],
      "metadata": {
        "id": "xBMr78SbYxD_"
      }
    },
    {
      "cell_type": "code",
      "source": [
        "data['Fire Alarm'].value_counts()"
      ],
      "metadata": {
        "colab": {
          "base_uri": "https://localhost:8080/"
        },
        "id": "a4i4n_zEZLQv",
        "outputId": "a1a930e3-df5b-4c7c-bf71-278d0ed70108"
      },
      "execution_count": 15,
      "outputs": [
        {
          "output_type": "execute_result",
          "data": {
            "text/plain": [
              "1    44757\n",
              "0    17873\n",
              "Name: Fire Alarm, dtype: int64"
            ]
          },
          "metadata": {},
          "execution_count": 15
        }
      ]
    },
    {
      "cell_type": "code",
      "source": [
        "sns.histplot(data['Fire Alarm'])"
      ],
      "metadata": {
        "colab": {
          "base_uri": "https://localhost:8080/",
          "height": 296
        },
        "id": "79zcfojEY8w4",
        "outputId": "af13683e-024f-4d5a-c03f-1b12a08fc10a"
      },
      "execution_count": 16,
      "outputs": [
        {
          "output_type": "execute_result",
          "data": {
            "text/plain": [
              "<matplotlib.axes._subplots.AxesSubplot at 0x7fe9b4ea5150>"
            ]
          },
          "metadata": {},
          "execution_count": 16
        },
        {
          "output_type": "display_data",
          "data": {
            "text/plain": [
              "<Figure size 432x288 with 1 Axes>"
            ],
            "image/png": "[encoded data removed]"
          },
          "metadata": {
            "needs_background": "light"
          }
        }
      ]
    },
    {
      "cell_type": "code",
      "source": [
        "plt.pie(data['Fire Alarm'].value_counts(), \n",
        "        labels = data['Fire Alarm'].unique(), autopct='%.2f%%');"
      ],
      "metadata": {
        "colab": {
          "base_uri": "https://localhost:8080/",
          "height": 248
        },
        "id": "GXuUls5KYsU5",
        "outputId": "b51b979f-834b-42e5-b7d8-7f200360150d"
      },
      "execution_count": 17,
      "outputs": [
        {
          "output_type": "display_data",
          "data": {
            "text/plain": [
              "<Figure size 432x288 with 1 Axes>"
            ],
            "image/png": "[encoded data removed]"
          },
          "metadata": {}
        }
      ]
    },
    {
      "cell_type": "markdown",
      "source": [
        "Análisis de correlación"
      ],
      "metadata": {
        "id": "O270f3FUgpB-"
      }
    },
    {
      "cell_type": "code",
      "source": [
        "plt.figure(figsize = (12,12))\n",
        "sns.heatmap(data.corr(),annot = True,cmap = 'GnBu')"
      ],
      "metadata": {
        "colab": {
          "base_uri": "https://localhost:8080/",
          "height": 789
        },
        "id": "Xx8KUEvug1oi",
        "outputId": "eaecad3b-6658-4c06-a21b-0096310947d6"
      },
      "execution_count": 18,
      "outputs": [
        {
          "output_type": "execute_result",
          "data": {
            "text/plain": [
              "<matplotlib.axes._subplots.AxesSubplot at 0x7fe9b4e01450>"
            ]
          },
          "metadata": {},
          "execution_count": 18
        },
        {
          "output_type": "display_data",
          "data": {
            "text/plain": [
              "<Figure size 864x864 with 2 Axes>"
            ],
            "image/png": "[encoded data removed]"
          },
          "metadata": {
            "needs_background": "light"
          }
        }
      ]
    },
    {
      "cell_type": "markdown",
      "source": [
        "## División de los datos en entrenamiento, prueba y validación"
      ],
      "metadata": {
        "id": "xWWgzmCbhmeU"
      }
    },
    {
      "cell_type": "code",
      "source": [
        "from sklearn.model_selection import train_test_split\n",
        "from sklearn.preprocessing import StandardScaler"
      ],
      "metadata": {
        "id": "Uoe-nG4fiEOs"
      },
      "execution_count": 19,
      "outputs": []
    },
    {
      "cell_type": "code",
      "source": [
        "dataset = data.values\n",
        "X = dataset[:,0:-1].astype(float)\n",
        "Y = dataset[:,-1]"
      ],
      "metadata": {
        "id": "d-RDVLvjhqbT"
      },
      "execution_count": 20,
      "outputs": []
    },
    {
      "cell_type": "markdown",
      "source": [
        "Se deja un 15% para datos de prueba"
      ],
      "metadata": {
        "id": "tk0oE7y2GdIH"
      }
    },
    {
      "cell_type": "code",
      "source": [
        "X_train, X_test, y_train, y_test= train_test_split(X, Y, test_size=0.15, random_state=5, stratify=Y)"
      ],
      "metadata": {
        "id": "LqGNMNxsiFpk"
      },
      "execution_count": 21,
      "outputs": []
    },
    {
      "cell_type": "code",
      "source": [
        "ss = StandardScaler()\n",
        "X_train = ss.fit_transform(X_train)\n",
        "X_test = ss.transform(X_test)"
      ],
      "metadata": {
        "id": "X1PCx4RIiyiT"
      },
      "execution_count": 22,
      "outputs": []
    },
    {
      "cell_type": "code",
      "source": [
        "X[0:5]"
      ],
      "metadata": {
        "colab": {
          "base_uri": "https://localhost:8080/"
        },
        "id": "bePxD-J25DYK",
        "outputId": "068856c4-a80c-4493-f5b2-e79c64821e85"
      },
      "execution_count": 23,
      "outputs": [
        {
          "output_type": "execute_result",
          "data": {
            "text/plain": [
              "array([[   20.   ,    57.36 ,     0.   ,   400.   , 12306.   , 18520.   ,\n",
              "          939.735,     0.   ,     0.   ,     0.   ,     0.   ,     0.   ],\n",
              "       [   20.015,    56.67 ,     0.   ,   400.   , 12345.   , 18651.   ,\n",
              "          939.744,     0.   ,     0.   ,     0.   ,     0.   ,     0.   ],\n",
              "       [   20.029,    55.96 ,     0.   ,   400.   , 12374.   , 18764.   ,\n",
              "          939.738,     0.   ,     0.   ,     0.   ,     0.   ,     0.   ],\n",
              "       [   20.044,    55.28 ,     0.   ,   400.   , 12390.   , 18849.   ,\n",
              "          939.736,     0.   ,     0.   ,     0.   ,     0.   ,     0.   ],\n",
              "       [   20.059,    54.69 ,     0.   ,   400.   , 12403.   , 18921.   ,\n",
              "          939.744,     0.   ,     0.   ,     0.   ,     0.   ,     0.   ]])"
            ]
          },
          "metadata": {},
          "execution_count": 23
        }
      ]
    },
    {
      "cell_type": "code",
      "source": [
        "X_train[0:5]"
      ],
      "metadata": {
        "colab": {
          "base_uri": "https://localhost:8080/"
        },
        "id": "EcNtm7J75AgS",
        "outputId": "ec9d5910-28eb-4766-8f6c-6b8b40d22188"
      },
      "execution_count": 24,
      "outputs": [
        {
          "output_type": "execute_result",
          "data": {
            "text/plain": [
              "array([[ 0.7331816 ,  0.10255369, -0.07881888, -0.14269527,  0.14497478,\n",
              "        -0.56867587,  0.08272933, -0.10753156, -0.09270982, -0.11289374,\n",
              "        -0.09136876, -0.07434229],\n",
              "       [ 0.69063169, -0.13288931, -0.08638551, -0.13266846, -0.10085973,\n",
              "        -0.55719702,  0.04540057, -0.10770317, -0.0927893 , -0.11314387,\n",
              "        -0.09144319, -0.07434589],\n",
              "       [ 0.7383434 ,  0.70636922, -0.24926039, -0.14269527,  0.55225285,\n",
              "         0.38242947,  0.82258522, -0.10880787, -0.09332084, -0.11480601,\n",
              "        -0.09193455, -0.07436843],\n",
              "       [ 0.27350301,  0.02595022, -0.24605419, -0.14269527,  0.94118505,\n",
              "         0.62348548,  0.73224964, -0.1082287 , -0.09304265, -0.11393169,\n",
              "        -0.0916758 , -0.07435671],\n",
              "       [ 0.75829303, -0.05966541, -0.07958837, -0.14058437,  0.09727554,\n",
              "        -0.57851489,  0.09915398, -0.10717763, -0.09253595, -0.11235372,\n",
              "        -0.09120925, -0.07433508]])"
            ]
          },
          "metadata": {},
          "execution_count": 24
        }
      ]
    },
    {
      "cell_type": "markdown",
      "source": [
        "## KNN (K-Nearest Neighbors)"
      ],
      "metadata": {
        "id": "QiEjP-s9jsTU"
      }
    },
    {
      "cell_type": "code",
      "source": [
        "from sklearn.neighbors import KNeighborsClassifier"
      ],
      "metadata": {
        "id": "an8BHkyMjuWg"
      },
      "execution_count": 25,
      "outputs": []
    },
    {
      "cell_type": "markdown",
      "source": [
        "### Buscando el mejor parámetro para el número del vecinos"
      ],
      "metadata": {
        "id": "lrgTG0mWry49"
      }
    },
    {
      "cell_type": "code",
      "source": [
        "from sklearn.model_selection import GridSearchCV"
      ],
      "metadata": {
        "id": "0t74B986wAZG"
      },
      "execution_count": 26,
      "outputs": []
    },
    {
      "cell_type": "code",
      "source": [
        "neighbors_grid = {'n_neighbors':np.arange(1,10)}"
      ],
      "metadata": {
        "id": "lo6DpBpuj2O4"
      },
      "execution_count": 27,
      "outputs": []
    },
    {
      "cell_type": "code",
      "source": [
        "knn = KNeighborsClassifier()\n",
        "knn_cv= GridSearchCV(knn,neighbors_grid,cv=5)\n",
        "knn_cv.fit(X_train,y_train)"
      ],
      "metadata": {
        "id": "RIoMrOjQqJJd",
        "colab": {
          "base_uri": "https://localhost:8080/"
        },
        "outputId": "115a8238-6ed2-4d0b-8fcc-2f1ed4e81923"
      },
      "execution_count": 28,
      "outputs": [
        {
          "output_type": "execute_result",
          "data": {
            "text/plain": [
              "GridSearchCV(cv=5, estimator=KNeighborsClassifier(),\n",
              "             param_grid={'n_neighbors': array([1, 2, 3, 4, 5, 6, 7, 8, 9])})"
            ]
          },
          "metadata": {},
          "execution_count": 28
        }
      ]
    },
    {
      "cell_type": "code",
      "source": [
        "print(knn_cv.best_score_,knn_cv.best_params_)"
      ],
      "metadata": {
        "id": "LydK0Fjermxp",
        "colab": {
          "base_uri": "https://localhost:8080/"
        },
        "outputId": "bf9a85c0-8c21-4197-c9dc-5876e1d5b3a3"
      },
      "execution_count": 29,
      "outputs": [
        {
          "output_type": "stream",
          "name": "stdout",
          "text": [
            "0.9988541373156756 {'n_neighbors': 1}\n"
          ]
        }
      ]
    },
    {
      "cell_type": "markdown",
      "source": [
        "Comprobando el resultado del GridSearch manualmente"
      ],
      "metadata": {
        "id": "yXkAjnZMsQjB"
      }
    },
    {
      "cell_type": "code",
      "source": [
        "neighbors = np.arange(1,10)\n",
        "\n",
        "train_accuracy =np.empty(len(neighbors))\n",
        "test_accuracy = np.empty(len(neighbors))\n",
        "\n",
        "for i,k in enumerate(neighbors):\n",
        "    knn = KNeighborsClassifier(n_neighbors=k)\n",
        "    knn.fit(X_train, y_train)\n",
        "    train_accuracy[i] = knn.score(X_train, y_train)\n",
        "    test_accuracy[i] = knn.score(X_test, y_test) "
      ],
      "metadata": {
        "id": "6KTukNbxsXLJ"
      },
      "execution_count": 30,
      "outputs": []
    },
    {
      "cell_type": "code",
      "source": [
        "plt.title('k-NN')\n",
        "plt.plot(neighbors, test_accuracy, label='Testing Accuracy')\n",
        "plt.plot(neighbors, train_accuracy, label='Training accuracy')\n",
        "plt.legend()\n",
        "plt.xlabel('Number of neighbors')\n",
        "plt.ylabel('Accuracy')\n",
        "plt.show()"
      ],
      "metadata": {
        "id": "61hzV40Xstkh",
        "colab": {
          "base_uri": "https://localhost:8080/",
          "height": 295
        },
        "outputId": "278ca173-a3af-4705-906f-74c0584287f3"
      },
      "execution_count": 31,
      "outputs": [
        {
          "output_type": "display_data",
          "data": {
            "text/plain": [
              "<Figure size 432x288 with 1 Axes>"
            ],
            "image/png": "[encoded data removed]"
          },
          "metadata": {
            "needs_background": "light"
          }
        }
      ]
    },
    {
      "cell_type": "markdown",
      "source": [
        "### Validación cruzada con los parámetros escogidos"
      ],
      "metadata": {
        "id": "1JVG4Ados5Q6"
      }
    },
    {
      "cell_type": "code",
      "source": [
        "from sklearn.model_selection import cross_validate\n",
        "from sklearn.model_selection import cross_val_score\n",
        "from sklearn.metrics import recall_score\n",
        "from sklearn.model_selection import KFold\n",
        "from sklearn.model_selection import StratifiedKFold\n",
        "from sklearn.neighbors import KNeighborsClassifier"
      ],
      "metadata": {
        "id": "dlyOql-Rs8fg"
      },
      "execution_count": 32,
      "outputs": []
    },
    {
      "cell_type": "code",
      "source": [
        "scoring = ['precision_macro', 'recall_macro','f1_macro']\n",
        "knn = KNeighborsClassifier(n_neighbors=2, metric='euclidean')\n",
        "accuracy = cross_val_score(knn, X_train, y_train, cv=10)\n",
        "scores = cross_validate(knn, X_train,y_train, scoring=scoring, cv=10)"
      ],
      "metadata": {
        "id": "YiWPZSZptRgw"
      },
      "execution_count": 33,
      "outputs": []
    },
    {
      "cell_type": "code",
      "source": [
        "accuracy"
      ],
      "metadata": {
        "id": "DmedLC5ht60g",
        "colab": {
          "base_uri": "https://localhost:8080/"
        },
        "outputId": "578a509c-cd7f-4029-fef4-9103d7e91aff"
      },
      "execution_count": 34,
      "outputs": [
        {
          "output_type": "execute_result",
          "data": {
            "text/plain": [
              "array([0.99849737, 0.99887303, 0.99924869, 0.99830954, 0.9986852 ,\n",
              "       0.99924854, 0.99887282, 0.99830922, 0.99943641, 0.99962427])"
            ]
          },
          "metadata": {},
          "execution_count": 34
        }
      ]
    },
    {
      "cell_type": "code",
      "source": [
        "accuracy.mean()"
      ],
      "metadata": {
        "id": "UjVYc9He9g2w",
        "colab": {
          "base_uri": "https://localhost:8080/"
        },
        "outputId": "7abf360e-efee-4685-de23-c50496ae6dcd"
      },
      "execution_count": 35,
      "outputs": [
        {
          "output_type": "execute_result",
          "data": {
            "text/plain": [
              "0.9989105088516965"
            ]
          },
          "metadata": {},
          "execution_count": 35
        }
      ]
    },
    {
      "cell_type": "code",
      "source": [
        "for score in scores:\n",
        "  print(f\"{score} mean: {scores[score].mean()}\")"
      ],
      "metadata": {
        "id": "833t4Pwot8l_",
        "colab": {
          "base_uri": "https://localhost:8080/"
        },
        "outputId": "9014d4d9-0a36-4e9f-ba1f-6f2801b2ab28"
      },
      "execution_count": 36,
      "outputs": [
        {
          "output_type": "stream",
          "name": "stdout",
          "text": [
            "fit_time mean: 0.12701797485351562\n",
            "score_time mean: 0.572888445854187\n",
            "test_precision_macro mean: 0.9985666154808331\n",
            "test_recall_macro mean: 0.9987632878051651\n",
            "test_f1_macro mean: 0.9986646510077672\n"
          ]
        }
      ]
    },
    {
      "cell_type": "markdown",
      "source": [
        "### Análisis de resultados con los parámetros escogidos"
      ],
      "metadata": {
        "id": "ut7amIVsvcZP"
      }
    },
    {
      "cell_type": "code",
      "source": [
        "from sklearn.metrics import confusion_matrix\n",
        "from sklearn.metrics import ConfusionMatrixDisplay\n",
        "from sklearn.metrics import classification_report"
      ],
      "metadata": {
        "id": "-aso-mwsvj1m"
      },
      "execution_count": 37,
      "outputs": []
    },
    {
      "cell_type": "code",
      "source": [
        "y_pred = knn.predict(X_test)"
      ],
      "metadata": {
        "id": "GzwiW1RiwHOB"
      },
      "execution_count": 38,
      "outputs": []
    },
    {
      "cell_type": "code",
      "source": [
        "cm=confusion_matrix(y_test,y_pred)\n",
        "classes = np.unique(Y)\n",
        "disp = ConfusionMatrixDisplay(confusion_matrix=cm, display_labels=classes)\n",
        "disp.plot(cmap=plt.cm.Blues)\n",
        "pd.crosstab(y_test, y_pred, rownames=['True'], colnames=['Predicted'], margins=True)"
      ],
      "metadata": {
        "id": "MltDAu4gwPTe",
        "colab": {
          "base_uri": "https://localhost:8080/",
          "height": 437
        },
        "outputId": "f55b87db-f349-4cd3-cb6b-d5d59902096f"
      },
      "execution_count": 39,
      "outputs": [
        {
          "output_type": "execute_result",
          "data": {
            "text/plain": [
              "Predicted   0.0   1.0   All\n",
              "True                       \n",
              "0.0        2679     2  2681\n",
              "1.0           3  6711  6714\n",
              "All        2682  6713  9395"
            ],
            "text/html": [
              "\n",
              "  <div id=\"df-2f56b63a-8c13-4aeb-af3d-03ee10861808\">\n",
              "    <div class=\"colab-df-container\">\n",
              "      <div>\n",
              "<style scoped>\n",
              "    .dataframe tbody tr th:only-of-type {\n",
              "        vertical-align: middle;\n",
              "    }\n",
              "\n",
              "    .dataframe tbody tr th {\n",
              "        vertical-align: top;\n",
              "    }\n",
              "\n",
              "    .dataframe thead th {\n",
              "        text-align: right;\n",
              "    }\n",
              "</style>\n",
              "<table border=\"1\" class=\"dataframe\">\n",
              "  <thead>\n",
              "    <tr style=\"text-align: right;\">\n",
              "      <th>Predicted</th>\n",
              "      <th>0.0</th>\n",
              "      <th>1.0</th>\n",
              "      <th>All</th>\n",
              "    </tr>\n",
              "    <tr>\n",
              "      <th>True</th>\n",
              "      <th></th>\n",
              "      <th></th>\n",
              "      <th></th>\n",
              "    </tr>\n",
              "  </thead>\n",
              "  <tbody>\n",
              "    <tr>\n",
              "      <th>0.0</th>\n",
              "      <td>2679</td>\n",
              "      <td>2</td>\n",
              "      <td>2681</td>\n",
              "    </tr>\n",
              "    <tr>\n",
              "      <th>1.0</th>\n",
              "      <td>3</td>\n",
              "      <td>6711</td>\n",
              "      <td>6714</td>\n",
              "    </tr>\n",
              "    <tr>\n",
              "      <th>All</th>\n",
              "      <td>2682</td>\n",
              "      <td>6713</td>\n",
              "      <td>9395</td>\n",
              "    </tr>\n",
              "  </tbody>\n",
              "</table>\n",
              "</div>\n",
              "      <button class=\"colab-df-convert\" onclick=\"convertToInteractive('df-2f56b63a-8c13-4aeb-af3d-03ee10861808')\"\n",
              "              title=\"Convert this dataframe to an interactive table.\"\n",
              "              style=\"display:none;\">\n",
              "        \n",
              "  <svg xmlns=\"http://www.w3.org/2000/svg\" height=\"24px\"viewBox=\"0 0 24 24\"\n",
              "       width=\"24px\">\n",
              "    <path d=\"M0 0h24v24H0V0z\" fill=\"none\"/>\n",
              "    <path d=\"M18.56 5.44l.94 2.06.94-2.06 2.06-.94-2.06-.94-.94-2.06-.94 2.06-2.06.94zm-11 1L8.5 8.5l.94-2.06 2.06-.94-2.06-.94L8.5 2.5l-.94 2.06-2.06.94zm10 10l.94 2.06.94-2.06 2.06-.94-2.06-.94-.94-2.06-.94 2.06-2.06.94z\"/><path d=\"M17.41 7.96l-1.37-1.37c-.4-.4-.92-.59-1.43-.59-.52 0-1.04.2-1.43.59L10.3 9.45l-7.72 7.72c-.78.78-.78 2.05 0 2.83L4 21.41c.39.39.9.59 1.41.59.51 0 1.02-.2 1.41-.59l7.78-7.78 2.81-2.81c.8-.78.8-2.07 0-2.86zM5.41 20L4 18.59l7.72-7.72 1.47 1.35L5.41 20z\"/>\n",
              "  </svg>\n",
              "      </button>\n",
              "      \n",
              "  <style>\n",
              "    .colab-df-container {\n",
              "      display:flex;\n",
              "      flex-wrap:wrap;\n",
              "      gap: 12px;\n",
              "    }\n",
              "\n",
              "    .colab-df-convert {\n",
              "      background-color: #E8F0FE;\n",
              "      border: none;\n",
              "      border-radius: 50%;\n",
              "      cursor: pointer;\n",
              "      display: none;\n",
              "      fill: #1967D2;\n",
              "      height: 32px;\n",
              "      padding: 0 0 0 0;\n",
              "      width: 32px;\n",
              "    }\n",
              "\n",
              "    .colab-df-convert:hover {\n",
              "      background-color: #E2EBFA;\n",
              "      box-shadow: 0px 1px 2px rgba(60, 64, 67, 0.3), 0px 1px 3px 1px rgba(60, 64, 67, 0.15);\n",
              "      fill: #174EA6;\n",
              "    }\n",
              "\n",
              "    [theme=dark] .colab-df-convert {\n",
              "      background-color: #3B4455;\n",
              "      fill: #D2E3FC;\n",
              "    }\n",
              "\n",
              "    [theme=dark] .colab-df-convert:hover {\n",
              "      background-color: #434B5C;\n",
              "      box-shadow: 0px 1px 3px 1px rgba(0, 0, 0, 0.15);\n",
              "      filter: drop-shadow(0px 1px 2px rgba(0, 0, 0, 0.3));\n",
              "      fill: #FFFFFF;\n",
              "    }\n",
              "  </style>\n",
              "\n",
              "      <script>\n",
              "        const buttonEl =\n",
              "          document.querySelector('#df-2f56b63a-8c13-4aeb-af3d-03ee10861808 button.colab-df-convert');\n",
              "        buttonEl.style.display =\n",
              "          google.colab.kernel.accessAllowed ? 'block' : 'none';\n",
              "\n",
              "        async function convertToInteractive(key) {\n",
              "          const element = document.querySelector('#df-2f56b63a-8c13-4aeb-af3d-03ee10861808');\n",
              "          const dataTable =\n",
              "            await google.colab.kernel.invokeFunction('convertToInteractive',\n",
              "                                                     [key], {});\n",
              "          if (!dataTable) return;\n",
              "\n",
              "          const docLinkHtml = 'Like what you see? Visit the ' +\n",
              "            '<a target=\"_blank\" href=https://colab.research.google.com/notebooks/data_table.ipynb>data table notebook</a>'\n",
              "            + ' to learn more about interactive tables.';\n",
              "          element.innerHTML = '';\n",
              "          dataTable['output_type'] = 'display_data';\n",
              "          await google.colab.output.renderOutput(dataTable, element);\n",
              "          const docLink = document.createElement('div');\n",
              "          docLink.innerHTML = docLinkHtml;\n",
              "          element.appendChild(docLink);\n",
              "        }\n",
              "      </script>\n",
              "    </div>\n",
              "  </div>\n",
              "  "
            ]
          },
          "metadata": {},
          "execution_count": 39
        },
        {
          "output_type": "display_data",
          "data": {
            "text/plain": [
              "<Figure size 432x288 with 2 Axes>"
            ],
            "image/png": "[encoded data removed]"
          },
          "metadata": {
            "needs_background": "light"
          }
        }
      ]
    },
    {
      "cell_type": "code",
      "source": [
        "print(classification_report(y_test,y_pred))"
      ],
      "metadata": {
        "id": "Wh4Z2THqwfy-",
        "colab": {
          "base_uri": "https://localhost:8080/"
        },
        "outputId": "e88db69d-7818-40af-bcdf-746449b9c856"
      },
      "execution_count": 40,
      "outputs": [
        {
          "output_type": "stream",
          "name": "stdout",
          "text": [
            "              precision    recall  f1-score   support\n",
            "\n",
            "         0.0       1.00      1.00      1.00      2681\n",
            "         1.0       1.00      1.00      1.00      6714\n",
            "\n",
            "    accuracy                           1.00      9395\n",
            "   macro avg       1.00      1.00      1.00      9395\n",
            "weighted avg       1.00      1.00      1.00      9395\n",
            "\n"
          ]
        }
      ]
    },
    {
      "cell_type": "markdown",
      "source": [
        "## Naive Bayes"
      ],
      "metadata": {
        "id": "5Kpxu_HtAYdd"
      }
    },
    {
      "cell_type": "code",
      "source": [
        "from sklearn.naive_bayes import GaussianNB "
      ],
      "metadata": {
        "id": "iEsd0AC_AeY2"
      },
      "execution_count": 41,
      "outputs": []
    },
    {
      "cell_type": "markdown",
      "source": [
        "### Validación cruzada"
      ],
      "metadata": {
        "id": "qPPJVA4LKUEd"
      }
    },
    {
      "cell_type": "code",
      "source": [
        "scoring = ['precision_macro', 'recall_macro','f1_macro']\n",
        "bn = GaussianNB()\n",
        "accuracy = cross_val_score(bn, X_train, y_train, cv=10)\n",
        "scores = cross_validate(bn, X_train, y_train, scoring=scoring, cv=10)"
      ],
      "metadata": {
        "id": "gmC5nrowKbSz"
      },
      "execution_count": 47,
      "outputs": []
    },
    {
      "cell_type": "code",
      "source": [
        "accuracy"
      ],
      "metadata": {
        "colab": {
          "base_uri": "https://localhost:8080/"
        },
        "id": "KZjGm4yGKnbs",
        "outputId": "dba59365-d2de-4c37-e5d5-1e0ab092da37"
      },
      "execution_count": 48,
      "outputs": [
        {
          "output_type": "execute_result",
          "data": {
            "text/plain": [
              "array([0.77216379, 0.7663411 , 0.76521412, 0.75882795, 0.76202104,\n",
              "       0.76122487, 0.76855157, 0.7689273 , 0.76817584, 0.76009769])"
            ]
          },
          "metadata": {},
          "execution_count": 48
        }
      ]
    },
    {
      "cell_type": "code",
      "source": [
        "accuracy.mean()"
      ],
      "metadata": {
        "colab": {
          "base_uri": "https://localhost:8080/"
        },
        "id": "G9MQ40AWKrMj",
        "outputId": "c19a3976-ca5c-44cd-cd92-ddba368857be"
      },
      "execution_count": 49,
      "outputs": [
        {
          "output_type": "execute_result",
          "data": {
            "text/plain": [
              "0.7651545262447119"
            ]
          },
          "metadata": {},
          "execution_count": 49
        }
      ]
    },
    {
      "cell_type": "code",
      "source": [
        "for score in scores:\n",
        "  print(f\"{score} mean: {scores[score].mean()}\")"
      ],
      "metadata": {
        "colab": {
          "base_uri": "https://localhost:8080/"
        },
        "id": "_q57ZpnAKwbz",
        "outputId": "2903e482-aa11-41ac-d79c-31dd806a4102"
      },
      "execution_count": 50,
      "outputs": [
        {
          "output_type": "stream",
          "name": "stdout",
          "text": [
            "fit_time mean: 0.02013890743255615\n",
            "score_time mean: 0.012421464920043946\n",
            "test_precision_macro mean: 0.7789822673017823\n",
            "test_recall_macro mean: 0.6069586219073717\n",
            "test_f1_macro mean: 0.6113219334957035\n"
          ]
        }
      ]
    },
    {
      "cell_type": "markdown",
      "source": [
        "### Análisis de resultados"
      ],
      "metadata": {
        "id": "FBWBa6eSBIiK"
      }
    },
    {
      "cell_type": "code",
      "source": [
        "bn.fit(X_train,y_train)"
      ],
      "metadata": {
        "id": "MlqzTcRdJyjk",
        "colab": {
          "base_uri": "https://localhost:8080/"
        },
        "outputId": "032c426a-881b-4d76-ff3a-dce7d0eb21c0"
      },
      "execution_count": 42,
      "outputs": [
        {
          "output_type": "execute_result",
          "data": {
            "text/plain": [
              "GaussianNB()"
            ]
          },
          "metadata": {},
          "execution_count": 42
        }
      ]
    },
    {
      "cell_type": "code",
      "source": [
        "y_predict=bn.predict(X_test)"
      ],
      "metadata": {
        "id": "_RgsWr-2J1XJ"
      },
      "execution_count": 43,
      "outputs": []
    },
    {
      "cell_type": "code",
      "source": [
        "cm=confusion_matrix(y_test,y_predict)"
      ],
      "metadata": {
        "id": "58_UgvaUJ5G3"
      },
      "execution_count": 44,
      "outputs": []
    },
    {
      "cell_type": "code",
      "source": [
        "disp = ConfusionMatrixDisplay(confusion_matrix=cm, display_labels=classes)\n",
        "disp.plot(cmap=plt.cm.Blues)"
      ],
      "metadata": {
        "id": "vsseVTBzJ8ko",
        "colab": {
          "base_uri": "https://localhost:8080/",
          "height": 296
        },
        "outputId": "2c64fdea-76ae-4dd4-f267-3b91a7a9603d"
      },
      "execution_count": 45,
      "outputs": [
        {
          "output_type": "execute_result",
          "data": {
            "text/plain": [
              "<sklearn.metrics._plot.confusion_matrix.ConfusionMatrixDisplay at 0x7fe9b22fb6d0>"
            ]
          },
          "metadata": {},
          "execution_count": 45
        },
        {
          "output_type": "display_data",
          "data": {
            "text/plain": [
              "<Figure size 432x288 with 2 Axes>"
            ],
            "image/png": "[encoded data removed]"
          },
          "metadata": {
            "needs_background": "light"
          }
        }
      ]
    },
    {
      "cell_type": "code",
      "source": [
        "print(classification_report(y_test,y_predict))"
      ],
      "metadata": {
        "id": "2MWTwpo5J-kl",
        "colab": {
          "base_uri": "https://localhost:8080/"
        },
        "outputId": "93dbddff-3c1f-4fd9-834e-9edad18ee136"
      },
      "execution_count": 46,
      "outputs": [
        {
          "output_type": "stream",
          "name": "stdout",
          "text": [
            "              precision    recall  f1-score   support\n",
            "\n",
            "         0.0       0.81      0.23      0.36      2681\n",
            "         1.0       0.76      0.98      0.86      6714\n",
            "\n",
            "    accuracy                           0.77      9395\n",
            "   macro avg       0.79      0.60      0.61      9395\n",
            "weighted avg       0.78      0.77      0.71      9395\n",
            "\n"
          ]
        }
      ]
    },
    {
      "cell_type": "markdown",
      "source": [
        "## Support Vector Machine"
      ],
      "metadata": {
        "id": "Jf9BwlZiDL2-"
      }
    },
    {
      "cell_type": "code",
      "source": [],
      "metadata": {
        "id": "BN8_j_cuDXnK"
      },
      "execution_count": 50,
      "outputs": []
    },
    {
      "cell_type": "markdown",
      "source": [
        "## Decision Tree"
      ],
      "metadata": {
        "id": "hpo99PRGDOkV"
      }
    },
    {
      "cell_type": "code",
      "source": [
        "from sklearn import tree"
      ],
      "metadata": {
        "id": "LRk95nDIDgmp"
      },
      "execution_count": 51,
      "outputs": []
    },
    {
      "cell_type": "markdown",
      "source": [
        "### Con criterion=\"Gini\""
      ],
      "metadata": {
        "id": "ObeXxV0nBTWo"
      }
    },
    {
      "cell_type": "code",
      "source": [
        "clf = tree.DecisionTreeClassifier()\n",
        "clf.fit(X_train,y_train)"
      ],
      "metadata": {
        "colab": {
          "base_uri": "https://localhost:8080/"
        },
        "id": "dPwLKHhcWTwg",
        "outputId": "d1cc4aa8-d525-4d3e-8468-ce3b98527662"
      },
      "execution_count": 52,
      "outputs": [
        {
          "output_type": "execute_result",
          "data": {
            "text/plain": [
              "DecisionTreeClassifier()"
            ]
          },
          "metadata": {},
          "execution_count": 52
        }
      ]
    },
    {
      "cell_type": "code",
      "source": [
        "prediction=clf.predict(X_test)\n",
        "cm=confusion_matrix(y_test,prediction)\n",
        "disp = ConfusionMatrixDisplay(confusion_matrix=cm, display_labels=classes)\n",
        "disp.plot(cmap=plt.cm.Blues)"
      ],
      "metadata": {
        "colab": {
          "base_uri": "https://localhost:8080/",
          "height": 296
        },
        "id": "7DfHMTHzWbS6",
        "outputId": "bc59570c-5924-4e93-ac61-adb1951939be"
      },
      "execution_count": 53,
      "outputs": [
        {
          "output_type": "execute_result",
          "data": {
            "text/plain": [
              "<sklearn.metrics._plot.confusion_matrix.ConfusionMatrixDisplay at 0x7fe9b2256590>"
            ]
          },
          "metadata": {},
          "execution_count": 53
        },
        {
          "output_type": "display_data",
          "data": {
            "text/plain": [
              "<Figure size 432x288 with 2 Axes>"
            ],
            "image/png": "[encoded data removed]"
          },
          "metadata": {
            "needs_background": "light"
          }
        }
      ]
    },
    {
      "cell_type": "code",
      "source": [
        "print(classification_report(y_test,prediction))"
      ],
      "metadata": {
        "colab": {
          "base_uri": "https://localhost:8080/"
        },
        "id": "9Z24PxJRWi2P",
        "outputId": "7002e879-c600-474f-a795-b9b210a03392"
      },
      "execution_count": 54,
      "outputs": [
        {
          "output_type": "stream",
          "name": "stdout",
          "text": [
            "              precision    recall  f1-score   support\n",
            "\n",
            "         0.0       1.00      1.00      1.00      2681\n",
            "         1.0       1.00      1.00      1.00      6714\n",
            "\n",
            "    accuracy                           1.00      9395\n",
            "   macro avg       1.00      1.00      1.00      9395\n",
            "weighted avg       1.00      1.00      1.00      9395\n",
            "\n"
          ]
        }
      ]
    },
    {
      "cell_type": "code",
      "source": [
        "scoring = ['precision_macro', 'recall_macro','f1_macro']\n",
        "clf = tree.DecisionTreeClassifier()\n",
        "accuracy = cross_val_score(clf, X_train, y_train, cv=10)\n",
        "scores = cross_validate(clf, X_train,y_train, scoring=scoring, cv=10)"
      ],
      "metadata": {
        "id": "65hhwBB9W7M0"
      },
      "execution_count": 55,
      "outputs": []
    },
    {
      "cell_type": "code",
      "source": [
        "accuracy"
      ],
      "metadata": {
        "colab": {
          "base_uri": "https://localhost:8080/"
        },
        "id": "ojwC7K4FWo34",
        "outputId": "19114cf1-eb1a-413c-f4ab-956ec01f14bf"
      },
      "execution_count": 56,
      "outputs": [
        {
          "output_type": "execute_result",
          "data": {
            "text/plain": [
              "array([0.99962434, 0.99943651, 1.        , 1.        , 0.99981217,\n",
              "       0.99981214, 1.        , 0.99981214, 0.99962427, 0.99981214])"
            ]
          },
          "metadata": {},
          "execution_count": 56
        }
      ]
    },
    {
      "cell_type": "code",
      "source": [
        "accuracy.mean()"
      ],
      "metadata": {
        "colab": {
          "base_uri": "https://localhost:8080/"
        },
        "id": "uwKovsYEWp1i",
        "outputId": "5fc2d41b-d7b0-4fd1-95b6-541a6de93e8d"
      },
      "execution_count": 57,
      "outputs": [
        {
          "output_type": "execute_result",
          "data": {
            "text/plain": [
              "0.9997933707866279"
            ]
          },
          "metadata": {},
          "execution_count": 57
        }
      ]
    },
    {
      "cell_type": "code",
      "source": [
        "for score in scores:\n",
        "  print(f\"{score} mean: {scores[score].mean()}\")"
      ],
      "metadata": {
        "colab": {
          "base_uri": "https://localhost:8080/"
        },
        "id": "W5mXa1acW-nJ",
        "outputId": "09a4fdef-ac0f-4ecb-bb69-161a807e5b0a"
      },
      "execution_count": 58,
      "outputs": [
        {
          "output_type": "stream",
          "name": "stdout",
          "text": [
            "fit_time mean: 0.22717549800872802\n",
            "score_time mean: 0.010782670974731446\n",
            "test_precision_macro mean: 0.9997237436690313\n",
            "test_recall_macro mean: 0.9997236658568637\n",
            "test_f1_macro mean: 0.9997236419698723\n"
          ]
        }
      ]
    },
    {
      "cell_type": "markdown",
      "source": [
        "### Con criterion=\"Entropy\""
      ],
      "metadata": {
        "id": "GK_vc5I9BajI"
      }
    },
    {
      "cell_type": "code",
      "source": [
        "clf2 = tree.DecisionTreeClassifier(criterion='entropy')\n",
        "clf2.fit(X_train,y_train)\n",
        "prediction2 = clf2.predict(X_test)"
      ],
      "metadata": {
        "id": "42C8U_c0XE-R"
      },
      "execution_count": 59,
      "outputs": []
    },
    {
      "cell_type": "code",
      "source": [
        "cm=confusion_matrix(y_test,prediction2)\n",
        "disp = ConfusionMatrixDisplay(confusion_matrix=cm, display_labels=classes)\n",
        "disp.plot(cmap=plt.cm.Blues)"
      ],
      "metadata": {
        "colab": {
          "base_uri": "https://localhost:8080/",
          "height": 296
        },
        "id": "UaEU4u1_XN6s",
        "outputId": "604755c5-d0e9-4dcc-ec9c-518b80bfee31"
      },
      "execution_count": 60,
      "outputs": [
        {
          "output_type": "execute_result",
          "data": {
            "text/plain": [
              "<sklearn.metrics._plot.confusion_matrix.ConfusionMatrixDisplay at 0x7fe9b22a4d90>"
            ]
          },
          "metadata": {},
          "execution_count": 60
        },
        {
          "output_type": "display_data",
          "data": {
            "text/plain": [
              "<Figure size 432x288 with 2 Axes>"
            ],
            "image/png": "[encoded data removed]"
          },
          "metadata": {
            "needs_background": "light"
          }
        }
      ]
    },
    {
      "cell_type": "code",
      "source": [
        "print(classification_report(y_test,prediction2))"
      ],
      "metadata": {
        "colab": {
          "base_uri": "https://localhost:8080/"
        },
        "id": "gFmj79dCXkXF",
        "outputId": "411827d6-02ba-48d9-f9c4-904f16631bbc"
      },
      "execution_count": 61,
      "outputs": [
        {
          "output_type": "stream",
          "name": "stdout",
          "text": [
            "              precision    recall  f1-score   support\n",
            "\n",
            "         0.0       1.00      1.00      1.00      2681\n",
            "         1.0       1.00      1.00      1.00      6714\n",
            "\n",
            "    accuracy                           1.00      9395\n",
            "   macro avg       1.00      1.00      1.00      9395\n",
            "weighted avg       1.00      1.00      1.00      9395\n",
            "\n"
          ]
        }
      ]
    },
    {
      "cell_type": "code",
      "source": [
        "scoring = ['precision_macro', 'recall_macro','f1_macro']\n",
        "clf2 = tree.DecisionTreeClassifier(criterion='entropy')\n",
        "accuracy2 = cross_val_score(clf2, X_train, y_train, cv=10)\n",
        "scores2 = cross_validate(clf2, X_train,y_train, scoring=scoring, cv=10)"
      ],
      "metadata": {
        "id": "I5P01m7yXntm"
      },
      "execution_count": 62,
      "outputs": []
    },
    {
      "cell_type": "code",
      "source": [
        "accuracy2"
      ],
      "metadata": {
        "colab": {
          "base_uri": "https://localhost:8080/"
        },
        "id": "FjXw2a_UXteA",
        "outputId": "49fd6412-6c3f-40a4-b09b-b45cb2b9a804"
      },
      "execution_count": 63,
      "outputs": [
        {
          "output_type": "execute_result",
          "data": {
            "text/plain": [
              "array([0.99962434, 1.        , 0.99981217, 0.99962434, 1.        ,\n",
              "       0.99943641, 0.99981214, 1.        , 0.99981214, 0.99962427])"
            ]
          },
          "metadata": {},
          "execution_count": 63
        }
      ]
    },
    {
      "cell_type": "code",
      "source": [
        "accuracy2.mean()"
      ],
      "metadata": {
        "colab": {
          "base_uri": "https://localhost:8080/"
        },
        "id": "2W6vIFazXxwp",
        "outputId": "b6c77683-699d-4d5a-973e-c0d086d0409b"
      },
      "execution_count": 64,
      "outputs": [
        {
          "output_type": "execute_result",
          "data": {
            "text/plain": [
              "0.9997745808593557"
            ]
          },
          "metadata": {},
          "execution_count": 64
        }
      ]
    },
    {
      "cell_type": "code",
      "source": [
        "criterios = ['entropy', 'gini']\n",
        "\n",
        "train_accuracy =np.empty(len(criterios))\n",
        "test_accuracy = np.empty(len(criterios))\n",
        "\n",
        "for i,criterio in enumerate(criterios):\n",
        "    clf = tree.DecisionTreeClassifier(criterion= criterio)\n",
        "    clf.fit(X_train, y_train)\n",
        "    train_accuracy[i] = clf.score(X_train, y_train)\n",
        "    test_accuracy[i] = clf.score(X_test, y_test)"
      ],
      "metadata": {
        "id": "gCFPmyrjX5S2"
      },
      "execution_count": 65,
      "outputs": []
    },
    {
      "cell_type": "code",
      "source": [
        "plt.title('Decision Tree')\n",
        "plt.plot(criterios, test_accuracy, label='Testing Accuracy')\n",
        "plt.plot(criterios, train_accuracy, label='Training accuracy')\n",
        "plt.legend()\n",
        "plt.xlabel('Criterio')\n",
        "plt.ylabel('Accuracy')\n",
        "plt.show()"
      ],
      "metadata": {
        "colab": {
          "base_uri": "https://localhost:8080/",
          "height": 295
        },
        "id": "0zAIgJdMX6hO",
        "outputId": "02276f36-04fd-4f3e-bc9b-5bc4660e4b57"
      },
      "execution_count": 66,
      "outputs": [
        {
          "output_type": "display_data",
          "data": {
            "text/plain": [
              "<Figure size 432x288 with 1 Axes>"
            ],
            "image/png": "[encoded data removed]"
          },
          "metadata": {
            "needs_background": "light"
          }
        }
      ]
    },
    {
      "cell_type": "markdown",
      "source": [
        "## Neural Network: Multi-Layer Perceptron"
      ],
      "metadata": {
        "id": "C61Pw6G7DbN1"
      }
    },
    {
      "cell_type": "markdown",
      "source": [
        "### Escogiendo el parámetro del número de capas ocultas en la red"
      ],
      "metadata": {
        "id": "z2CA2MxOYab9"
      }
    },
    {
      "cell_type": "code",
      "source": [
        "from sklearn.neural_network import MLPClassifier"
      ],
      "metadata": {
        "id": "rXzAXiQeDfr-"
      },
      "execution_count": 67,
      "outputs": []
    },
    {
      "cell_type": "markdown",
      "source": [
        "Se hace el rango de 2 a 4 ya que el tiempo de entrenamiento es demasiado largo (Se hicieron pruebas con más capas pero el mejor sigue siendo 4)"
      ],
      "metadata": {
        "id": "GpGaMzEtYfzf"
      }
    },
    {
      "cell_type": "code",
      "source": [
        "param_grid = {'hidden_layer_sizes':np.arange(2,5)}\n",
        "mlp = MLPClassifier(solver='adam',alpha=1e-5,random_state=1, max_iter=600)\n",
        "mlp_cv= GridSearchCV(mlp,param_grid,cv=3,n_jobs=-1,verbose=10)\n",
        "mlp_cv.fit(X_train,y_train)"
      ],
      "metadata": {
        "colab": {
          "base_uri": "https://localhost:8080/"
        },
        "id": "cf4ANA76My-r",
        "outputId": "9e134b42-09ce-49e3-9c67-8c70f61dfee5"
      },
      "execution_count": 68,
      "outputs": [
        {
          "output_type": "stream",
          "name": "stdout",
          "text": [
            "Fitting 3 folds for each of 3 candidates, totalling 9 fits\n"
          ]
        },
        {
          "output_type": "execute_result",
          "data": {
            "text/plain": [
              "GridSearchCV(cv=3,\n",
              "             estimator=MLPClassifier(alpha=1e-05, max_iter=600, random_state=1),\n",
              "             n_jobs=-1, param_grid={'hidden_layer_sizes': array([2, 3, 4])},\n",
              "             verbose=10)"
            ]
          },
          "metadata": {},
          "execution_count": 68
        }
      ]
    },
    {
      "cell_type": "code",
      "source": [
        "print(mlp_cv.best_score_,mlp_cv.best_params_)"
      ],
      "metadata": {
        "colab": {
          "base_uri": "https://localhost:8080/"
        },
        "id": "aUZcLGuFUw7v",
        "outputId": "21871691-0f27-4ab9-b580-ab4aed7fd24b"
      },
      "execution_count": 69,
      "outputs": [
        {
          "output_type": "stream",
          "name": "stdout",
          "text": [
            "0.9986287217056447 {'hidden_layer_sizes': 4}\n"
          ]
        }
      ]
    },
    {
      "cell_type": "markdown",
      "source": [
        "### Haciendo validación cruzada con el parámetro escogido"
      ],
      "metadata": {
        "id": "vXwLdTg8YZsg"
      }
    },
    {
      "cell_type": "code",
      "source": [
        "scoring = ['precision_macro', 'recall_macro','f1_macro']\n",
        "mlp = MLPClassifier(solver='adam', alpha=1e-5, hidden_layer_sizes = 4, random_state=1, max_iter=600)\n",
        "accuracy = cross_val_score(mlp, X_train, y_train, cv=3)\n",
        "scores = cross_validate(mlp, X_train, y_train, scoring=scoring, cv=3)"
      ],
      "metadata": {
        "id": "E1nU8E-gVPOR"
      },
      "execution_count": 70,
      "outputs": []
    },
    {
      "cell_type": "code",
      "source": [
        "accuracy"
      ],
      "metadata": {
        "colab": {
          "base_uri": "https://localhost:8080/"
        },
        "id": "I8-cnpOqjAA_",
        "outputId": "876d6815-ed7c-47fa-f81f-eedf9f2acfe6"
      },
      "execution_count": 71,
      "outputs": [
        {
          "output_type": "execute_result",
          "data": {
            "text/plain": [
              "array([0.99864751, 0.99847844, 0.99876021])"
            ]
          },
          "metadata": {},
          "execution_count": 71
        }
      ]
    },
    {
      "cell_type": "code",
      "source": [
        "accuracy.mean()"
      ],
      "metadata": {
        "colab": {
          "base_uri": "https://localhost:8080/"
        },
        "id": "LQzWZobDjEPh",
        "outputId": "10127813-d8b9-458f-8b1e-d16b259919b6"
      },
      "execution_count": 73,
      "outputs": [
        {
          "output_type": "execute_result",
          "data": {
            "text/plain": [
              "0.9986287217056447"
            ]
          },
          "metadata": {},
          "execution_count": 73
        }
      ]
    },
    {
      "cell_type": "code",
      "source": [
        "for score in scores:\n",
        "  print(f\"{score} mean: {scores[score].mean()}\")"
      ],
      "metadata": {
        "colab": {
          "base_uri": "https://localhost:8080/"
        },
        "id": "g4tkU33-jMQQ",
        "outputId": "3849988d-5be2-49c4-c974-48dd6747372e"
      },
      "execution_count": 74,
      "outputs": [
        {
          "output_type": "stream",
          "name": "stdout",
          "text": [
            "fit_time mean: 44.29610125223795\n",
            "score_time mean: 0.04959734280904134\n",
            "test_precision_macro mean: 0.9989428843507615\n",
            "test_recall_macro mean: 0.997696264877621\n",
            "test_f1_macro mean: 0.998316840480095\n"
          ]
        }
      ]
    },
    {
      "cell_type": "markdown",
      "source": [
        "### Análisis de resultados con los parámetros escogidos"
      ],
      "metadata": {
        "id": "qdUdYa2Rmet2"
      }
    },
    {
      "cell_type": "code",
      "source": [
        "mlp.fit(X_train, y_train)"
      ],
      "metadata": {
        "colab": {
          "base_uri": "https://localhost:8080/"
        },
        "id": "gDFbQUUHmikR",
        "outputId": "9dfae836-bc5a-45f1-9fb2-b1ce8770acd8"
      },
      "execution_count": 76,
      "outputs": [
        {
          "output_type": "execute_result",
          "data": {
            "text/plain": [
              "MLPClassifier(alpha=1e-05, hidden_layer_sizes=4, max_iter=600, random_state=1)"
            ]
          },
          "metadata": {},
          "execution_count": 76
        }
      ]
    },
    {
      "cell_type": "code",
      "source": [
        "y_pred = mlp.predict(X_test)\n",
        "cm=confusion_matrix(y_test,y_pred)\n",
        "classes = np.unique(Y)\n",
        "disp = ConfusionMatrixDisplay(confusion_matrix=cm, display_labels=classes)\n",
        "disp.plot(cmap=plt.cm.Blues)\n",
        "pd.crosstab(y_test, y_pred, rownames=['True'], colnames=['Predicted'], margins=True)"
      ],
      "metadata": {
        "colab": {
          "base_uri": "https://localhost:8080/",
          "height": 437
        },
        "id": "zI8ZM54_mt-a",
        "outputId": "d25bac08-878a-4c5f-d9ec-33cc4bff7c58"
      },
      "execution_count": 77,
      "outputs": [
        {
          "output_type": "execute_result",
          "data": {
            "text/plain": [
              "Predicted   0.0   1.0   All\n",
              "True                       \n",
              "0.0        2674     7  2681\n",
              "1.0           1  6713  6714\n",
              "All        2675  6720  9395"
            ],
            "text/html": [
              "\n",
              "  <div id=\"df-bbf061d1-d47b-4db7-9610-a13cc42f17ba\">\n",
              "    <div class=\"colab-df-container\">\n",
              "      <div>\n",
              "<style scoped>\n",
              "    .dataframe tbody tr th:only-of-type {\n",
              "        vertical-align: middle;\n",
              "    }\n",
              "\n",
              "    .dataframe tbody tr th {\n",
              "        vertical-align: top;\n",
              "    }\n",
              "\n",
              "    .dataframe thead th {\n",
              "        text-align: right;\n",
              "    }\n",
              "</style>\n",
              "<table border=\"1\" class=\"dataframe\">\n",
              "  <thead>\n",
              "    <tr style=\"text-align: right;\">\n",
              "      <th>Predicted</th>\n",
              "      <th>0.0</th>\n",
              "      <th>1.0</th>\n",
              "      <th>All</th>\n",
              "    </tr>\n",
              "    <tr>\n",
              "      <th>True</th>\n",
              "      <th></th>\n",
              "      <th></th>\n",
              "      <th></th>\n",
              "    </tr>\n",
              "  </thead>\n",
              "  <tbody>\n",
              "    <tr>\n",
              "      <th>0.0</th>\n",
              "      <td>2674</td>\n",
              "      <td>7</td>\n",
              "      <td>2681</td>\n",
              "    </tr>\n",
              "    <tr>\n",
              "      <th>1.0</th>\n",
              "      <td>1</td>\n",
              "      <td>6713</td>\n",
              "      <td>6714</td>\n",
              "    </tr>\n",
              "    <tr>\n",
              "      <th>All</th>\n",
              "      <td>2675</td>\n",
              "      <td>6720</td>\n",
              "      <td>9395</td>\n",
              "    </tr>\n",
              "  </tbody>\n",
              "</table>\n",
              "</div>\n",
              "      <button class=\"colab-df-convert\" onclick=\"convertToInteractive('df-bbf061d1-d47b-4db7-9610-a13cc42f17ba')\"\n",
              "              title=\"Convert this dataframe to an interactive table.\"\n",
              "              style=\"display:none;\">\n",
              "        \n",
              "  <svg xmlns=\"http://www.w3.org/2000/svg\" height=\"24px\"viewBox=\"0 0 24 24\"\n",
              "       width=\"24px\">\n",
              "    <path d=\"M0 0h24v24H0V0z\" fill=\"none\"/>\n",
              "    <path d=\"M18.56 5.44l.94 2.06.94-2.06 2.06-.94-2.06-.94-.94-2.06-.94 2.06-2.06.94zm-11 1L8.5 8.5l.94-2.06 2.06-.94-2.06-.94L8.5 2.5l-.94 2.06-2.06.94zm10 10l.94 2.06.94-2.06 2.06-.94-2.06-.94-.94-2.06-.94 2.06-2.06.94z\"/><path d=\"M17.41 7.96l-1.37-1.37c-.4-.4-.92-.59-1.43-.59-.52 0-1.04.2-1.43.59L10.3 9.45l-7.72 7.72c-.78.78-.78 2.05 0 2.83L4 21.41c.39.39.9.59 1.41.59.51 0 1.02-.2 1.41-.59l7.78-7.78 2.81-2.81c.8-.78.8-2.07 0-2.86zM5.41 20L4 18.59l7.72-7.72 1.47 1.35L5.41 20z\"/>\n",
              "  </svg>\n",
              "      </button>\n",
              "      \n",
              "  <style>\n",
              "    .colab-df-container {\n",
              "      display:flex;\n",
              "      flex-wrap:wrap;\n",
              "      gap: 12px;\n",
              "    }\n",
              "\n",
              "    .colab-df-convert {\n",
              "      background-color: #E8F0FE;\n",
              "      border: none;\n",
              "      border-radius: 50%;\n",
              "      cursor: pointer;\n",
              "      display: none;\n",
              "      fill: #1967D2;\n",
              "      height: 32px;\n",
              "      padding: 0 0 0 0;\n",
              "      width: 32px;\n",
              "    }\n",
              "\n",
              "    .colab-df-convert:hover {\n",
              "      background-color: #E2EBFA;\n",
              "      box-shadow: 0px 1px 2px rgba(60, 64, 67, 0.3), 0px 1px 3px 1px rgba(60, 64, 67, 0.15);\n",
              "      fill: #174EA6;\n",
              "    }\n",
              "\n",
              "    [theme=dark] .colab-df-convert {\n",
              "      background-color: #3B4455;\n",
              "      fill: #D2E3FC;\n",
              "    }\n",
              "\n",
              "    [theme=dark] .colab-df-convert:hover {\n",
              "      background-color: #434B5C;\n",
              "      box-shadow: 0px 1px 3px 1px rgba(0, 0, 0, 0.15);\n",
              "      filter: drop-shadow(0px 1px 2px rgba(0, 0, 0, 0.3));\n",
              "      fill: #FFFFFF;\n",
              "    }\n",
              "  </style>\n",
              "\n",
              "      <script>\n",
              "        const buttonEl =\n",
              "          document.querySelector('#df-bbf061d1-d47b-4db7-9610-a13cc42f17ba button.colab-df-convert');\n",
              "        buttonEl.style.display =\n",
              "          google.colab.kernel.accessAllowed ? 'block' : 'none';\n",
              "\n",
              "        async function convertToInteractive(key) {\n",
              "          const element = document.querySelector('#df-bbf061d1-d47b-4db7-9610-a13cc42f17ba');\n",
              "          const dataTable =\n",
              "            await google.colab.kernel.invokeFunction('convertToInteractive',\n",
              "                                                     [key], {});\n",
              "          if (!dataTable) return;\n",
              "\n",
              "          const docLinkHtml = 'Like what you see? Visit the ' +\n",
              "            '<a target=\"_blank\" href=https://colab.research.google.com/notebooks/data_table.ipynb>data table notebook</a>'\n",
              "            + ' to learn more about interactive tables.';\n",
              "          element.innerHTML = '';\n",
              "          dataTable['output_type'] = 'display_data';\n",
              "          await google.colab.output.renderOutput(dataTable, element);\n",
              "          const docLink = document.createElement('div');\n",
              "          docLink.innerHTML = docLinkHtml;\n",
              "          element.appendChild(docLink);\n",
              "        }\n",
              "      </script>\n",
              "    </div>\n",
              "  </div>\n",
              "  "
            ]
          },
          "metadata": {},
          "execution_count": 77
        },
        {
          "output_type": "display_data",
          "data": {
            "text/plain": [
              "<Figure size 432x288 with 2 Axes>"
            ],
            "image/png": "[encoded data removed]"
          },
          "metadata": {
            "needs_background": "light"
          }
        }
      ]
    },
    {
      "cell_type": "code",
      "source": [
        "print(f'acurracy: {(2674+6713)/9395}')"
      ],
      "metadata": {
        "colab": {
          "base_uri": "https://localhost:8080/"
        },
        "id": "qnuy0TGwnSet",
        "outputId": "c435e713-f97d-4a45-e07e-3f9e36e90577"
      },
      "execution_count": 80,
      "outputs": [
        {
          "output_type": "stream",
          "name": "stdout",
          "text": [
            "acurracy: 0.9991484832357637\n"
          ]
        }
      ]
    },
    {
      "cell_type": "code",
      "source": [
        "print(classification_report(y_test,y_pred))"
      ],
      "metadata": {
        "colab": {
          "base_uri": "https://localhost:8080/"
        },
        "id": "If_JR_E2m20Q",
        "outputId": "78e02b6a-6384-49a5-f209-595714e92177"
      },
      "execution_count": 78,
      "outputs": [
        {
          "output_type": "stream",
          "name": "stdout",
          "text": [
            "              precision    recall  f1-score   support\n",
            "\n",
            "         0.0       1.00      1.00      1.00      2681\n",
            "         1.0       1.00      1.00      1.00      6714\n",
            "\n",
            "    accuracy                           1.00      9395\n",
            "   macro avg       1.00      1.00      1.00      9395\n",
            "weighted avg       1.00      1.00      1.00      9395\n",
            "\n"
          ]
        }
      ]
    },
    {
      "cell_type": "markdown",
      "source": [
        "## Comparación de todos los métodos con validación cruzada estratificada"
      ],
      "metadata": {
        "id": "jXCGed9LDmSy"
      }
    },
    {
      "cell_type": "code",
      "source": [
        "list_Classifiers=[\n",
        "  KNeighborsClassifier(n_neighbors=2, metric='euclidean'),\n",
        "  GaussianNB(),\n",
        "  # Aquí va el Support Vector Machine\n",
        "  tree.DecisionTreeClassifier(criterion='entropy'),\n",
        "  MLPClassifier(solver='adam', hidden_layer_sizes=4, alpha=1e-5,random_state=1, max_iter=600),\n",
        "]"
      ],
      "metadata": {
        "id": "rGXOLaJkDspt"
      },
      "execution_count": 130,
      "outputs": []
    },
    {
      "cell_type": "code",
      "source": [
        "X_copy = X.copy()\n",
        "Y_copy = Y.copy()\n",
        "X_copy = ss.fit_transform(X_copy)"
      ],
      "metadata": {
        "id": "5FnrPUXCwnAx"
      },
      "execution_count": 131,
      "outputs": []
    },
    {
      "cell_type": "code",
      "source": [
        "from sklearn.base import clone\n",
        "from sklearn.model_selection import StratifiedKFold\n",
        "from sklearn.metrics import f1_score, precision_score, recall_score\n",
        "from statistics import mean, stdev\n",
        "import itertools\n",
        "\n",
        "def cvClassifiers(X,Y, list_Classifiers):\n",
        "  skf = StratifiedKFold(n_splits=10)\n",
        "  scores = [[] for c in list_Classifiers]\n",
        "  predicted_y=[[] for c in list_Classifiers]\n",
        "  real_y=[[] for c in list_Classifiers]\n",
        "  for train_index, test_index in skf.split(X_copy, Y_copy):\n",
        "    for i,c in enumerate(list_Classifiers):    \n",
        "      model = clone(c)\n",
        "      X_train_cv, X_test_cv = X_copy[train_index], X_copy[test_index]\n",
        "      y_train_cv, y_test_cv = Y_copy[train_index], Y_copy[test_index]\n",
        "      model.fit(X_train_cv, y_train_cv)\n",
        "      scores[i].append(model.score(X_test_cv,y_test_cv))\n",
        "      py=model.predict(X_test_cv)\n",
        "      predicted_y[i]=list(itertools.chain(predicted_y[i],py.flatten().tolist()))\n",
        "      real_y[i]=list(itertools.chain(real_y[i],y_test_cv.flatten().tolist()))\n",
        "  accuracy=[mean(sc) for sc in scores]\n",
        "  cm=[confusion_matrix(real_y[i],predicted_y[i]) for i in range(0,len(list_Classifiers))]\n",
        "  f1=[f1_score(real_y[i],predicted_y[i]) for i in range(0,len(list_Classifiers))]\n",
        "  precision=[precision_score(real_y[i],predicted_y[i]) for i in range(0,len(list_Classifiers))]\n",
        "  recall=[recall_score(real_y[i],predicted_y[i]) for i in range(0,len(list_Classifiers))]\n",
        "  return accuracy, f1, precision, recall, cm"
      ],
      "metadata": {
        "id": "iuO--3QEoufw"
      },
      "execution_count": 152,
      "outputs": []
    },
    {
      "cell_type": "code",
      "source": [
        "acc, f1, precision, recall, c =cvClassifiers(X_train, y_train,list_Classifiers)"
      ],
      "metadata": {
        "id": "h9PwoN4NpL53"
      },
      "execution_count": 153,
      "outputs": []
    },
    {
      "cell_type": "code",
      "source": [
        "clfrs = ['K-NN','Naive Bayes', 'Decision Tree', 'Multi-Layer Perceptron']"
      ],
      "metadata": {
        "id": "vtBAeg596lcN"
      },
      "execution_count": 154,
      "outputs": []
    },
    {
      "cell_type": "code",
      "source": [
        "for i,clfr in enumerate(clfrs):\n",
        "  print(f'{clfr}: Acurracy:{acc[i]}, F1:{f1[i]}, precision:{precision[i]}, recall:{recall[i]}')\n"
      ],
      "metadata": {
        "colab": {
          "base_uri": "https://localhost:8080/"
        },
        "id": "C5IMlOW5pPuj",
        "outputId": "04ec8d34-f608-4539-9e21-14f26a7efc1e"
      },
      "execution_count": 155,
      "outputs": [
        {
          "output_type": "stream",
          "name": "stdout",
          "text": [
            "K-NN: Acurracy:0.873095960402363, F1:0.9072124028111794, precision:0.9499767731840297, recall:0.9499767731840297\n",
            "Naive Bayes: Acurracy:0.7661344403640428, F1:0.8562878364191171, precision:0.7633742696196774, recall:0.7633742696196774\n",
            "Decision Tree: Acurracy:0.9045984352546703, F1:0.9285329824771246, precision:0.9991505354200988, recall:0.9991505354200988\n",
            "Multi-Layer Perceptron: Acurracy:0.8555644259939326, F1:0.8910750409401792, precision:0.9663106212948213, recall:0.9663106212948213\n"
          ]
        }
      ]
    },
    {
      "cell_type": "code",
      "source": [
        "for i in range(0,len(c)):\n",
        "  disp = ConfusionMatrixDisplay(confusion_matrix=c[i])\n",
        "  disp.plot(cmap=plt.cm.Blues)\n",
        "  disp.ax_.set_title(clfrs[i])"
      ],
      "metadata": {
        "colab": {
          "base_uri": "https://localhost:8080/",
          "height": 1000
        },
        "id": "hGik5HLupQWT",
        "outputId": "3a0db574-1abf-48ff-a753-df726f0629ff"
      },
      "execution_count": 156,
      "outputs": [
        {
          "output_type": "display_data",
          "data": {
            "text/plain": [
              "<Figure size 432x288 with 2 Axes>"
            ],
            "image/png": "[encoded data removed]"
          },
          "metadata": {
            "needs_background": "light"
          }
        },
        {
          "output_type": "display_data",
          "data": {
            "text/plain": [
              "<Figure size 432x288 with 2 Axes>"
            ],
            "image/png": "[encoded data removed]"
          },
          "metadata": {
            "needs_background": "light"
          }
        },
        {
          "output_type": "display_data",
          "data": {
            "text/plain": [
              "<Figure size 432x288 with 2 Axes>"
            ],
            "image/png": "[encoded data removed]"
          },
          "metadata": {
            "needs_background": "light"
          }
        },
        {
          "output_type": "display_data",
          "data": {
            "text/plain": [
              "<Figure size 432x288 with 2 Axes>"
            ],
            "image/png": "[encoded data removed]"
          },
          "metadata": {
            "needs_background": "light"
          }
        }
      ]
    }
  ]
}